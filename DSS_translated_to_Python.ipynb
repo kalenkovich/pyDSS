{
 "cells": [
  {
   "cell_type": "markdown",
   "metadata": {},
   "source": [
    "This is a test of the translation of the DSS algorithm from Matlab to Python. The Matlab source is taken from `NoiseTools` package that can be found [here](http://audition.ens.fr/adc/NoiseTools/). \n",
    "\n",
    "The test consists of running an example from the `NoiseTools` in parallel in Matlab and Python and matching the results."
   ]
  },
  {
   "cell_type": "markdown",
   "metadata": {},
   "source": [
    "# Setup"
   ]
  },
  {
   "cell_type": "markdown",
   "metadata": {},
   "source": [
    "## Imports"
   ]
  },
  {
   "cell_type": "code",
   "execution_count": 1,
   "metadata": {},
   "outputs": [],
   "source": [
    "from pathlib import Path\n",
    "import inspect"
   ]
  },
  {
   "cell_type": "code",
   "execution_count": 2,
   "metadata": {},
   "outputs": [],
   "source": [
    "# Code highlightintg\n",
    "from pygments import highlight\n",
    "from pygments.lexers import MatlabLexer, PythonLexer\n",
    "from pygments.formatters import HtmlFormatter"
   ]
  },
  {
   "cell_type": "code",
   "execution_count": 3,
   "metadata": {},
   "outputs": [],
   "source": [
    "from IPython.core.display import HTML"
   ]
  },
  {
   "cell_type": "code",
   "execution_count": 4,
   "metadata": {},
   "outputs": [
    {
     "name": "stderr",
     "output_type": "stream",
     "text": [
      "C:\\Users\\ekalenkovich\\Miniconda3\\envs\\ding_vs_frank_and_yang\\lib\\site-packages\\IPython\\nbformat.py:13: ShimWarning: The `IPython.nbformat` package has been deprecated since IPython 4.0. You should import from nbformat instead.\n",
      "  \"You should import from nbformat instead.\", ShimWarning)\n"
     ]
    }
   ],
   "source": [
    "# This is a package that allows us to inerface with a Matlab process\n",
    "from pymatbridge import Matlab"
   ]
  },
  {
   "cell_type": "code",
   "execution_count": 5,
   "metadata": {},
   "outputs": [],
   "source": [
    "import numpy as np\n",
    "import scipy\n",
    "from matplotlib import pyplot as plt"
   ]
  },
  {
   "cell_type": "markdown",
   "metadata": {},
   "source": [
    "## Set up autoreloading of the Python code"
   ]
  },
  {
   "cell_type": "code",
   "execution_count": 6,
   "metadata": {},
   "outputs": [],
   "source": [
    "%load_ext autoreload\n",
    "%autoreload 1  # autoreload only the source loaded with %aimport\n",
    "%aimport dss"
   ]
  },
  {
   "cell_type": "markdown",
   "metadata": {},
   "source": [
    "## Paths"
   ]
  },
  {
   "cell_type": "markdown",
   "metadata": {},
   "source": [
    "Change this to wherever you unpacked `NoiseTools` to."
   ]
  },
  {
   "cell_type": "code",
   "execution_count": 7,
   "metadata": {},
   "outputs": [],
   "source": [
    "noise_tools_dir = Path('NoiseTools')"
   ]
  },
  {
   "cell_type": "code",
   "execution_count": 8,
   "metadata": {},
   "outputs": [],
   "source": [
    "noise_tools_examples_dir = noise_tools_dir / 'EXAMPLES' / 'a few old example scripts'\n",
    "example_1 = noise_tools_examples_dir / 'example1.m'"
   ]
  },
  {
   "cell_type": "markdown",
   "metadata": {},
   "source": [
    "## Printing code"
   ]
  },
  {
   "cell_type": "code",
   "execution_count": 9,
   "metadata": {},
   "outputs": [],
   "source": [
    "def print_highlighted_code(code, lexer):\n",
    "    display(HTML(highlight(code, lexer, HtmlFormatter(full=True, linenos='inline'))))\n",
    "    \n",
    "def print_matlab_code(code):\n",
    "    print_highlighted_code(code, MatlabLexer())\n",
    "    \n",
    "def print_python_code(code):\n",
    "    print_highlighted_code(code, PythonLexer())\n",
    "\n",
    "def print_matlab_script(path):\n",
    "    with open(path, 'r') as f:\n",
    "        code = f.read()\n",
    "    print_matlab_code(code)\n",
    "    \n",
    "def print_python_function(fun):\n",
    "    code = inspect.getsource(fun)\n",
    "    print_python_code(code)"
   ]
  },
  {
   "cell_type": "markdown",
   "metadata": {},
   "source": [
    "## Start Matlab"
   ]
  },
  {
   "cell_type": "code",
   "execution_count": 10,
   "metadata": {},
   "outputs": [
    {
     "name": "stdout",
     "output_type": "stream",
     "text": [
      "Starting MATLAB on ZMQ socket tcp://127.0.0.1:51661\n",
      "Send 'exit' command to kill the server\n",
      ".......MATLAB started and connected!\n"
     ]
    },
    {
     "data": {
      "text/plain": [
       "<pymatbridge.pymatbridge.Matlab at 0x7f39748>"
      ]
     },
     "execution_count": 10,
     "metadata": {},
     "output_type": "execute_result"
    }
   ],
   "source": [
    "matlab = Matlab()\n",
    "matlab.start()"
   ]
  },
  {
   "cell_type": "markdown",
   "metadata": {},
   "source": [
    "## Add `NoiseTools` to the Matlab's path"
   ]
  },
  {
   "cell_type": "code",
   "execution_count": 11,
   "metadata": {},
   "outputs": [
    {
     "data": {
      "text/plain": [
       "{'content': {'stdout': '',\n",
       "  'figures': [],\n",
       "  'datadir': 'C:\\\\Users\\\\EKALEN~1\\\\AppData\\\\Local\\\\Temp\\\\MatlabData\\\\'},\n",
       " 'result': [],\n",
       " 'success': True}"
      ]
     },
     "execution_count": 11,
     "metadata": {},
     "output_type": "execute_result"
    }
   ],
   "source": [
    "matlab.run_code('addpath(\\'{}\\')'.format(noise_tools_dir))"
   ]
  },
  {
   "cell_type": "markdown",
   "metadata": {},
   "source": [
    "# Simulate data"
   ]
  },
  {
   "cell_type": "markdown",
   "metadata": {},
   "source": [
    "Let's look at the example 1 code:"
   ]
  },
  {
   "cell_type": "code",
   "execution_count": 12,
   "metadata": {},
   "outputs": [
    {
     "data": {
      "text/html": [
       "<!DOCTYPE html PUBLIC \"-//W3C//DTD HTML 4.01//EN\"\n",
       "   \"http://www.w3.org/TR/html4/strict.dtd\">\n",
       "\n",
       "<html>\n",
       "<head>\n",
       "  <title></title>\n",
       "  <meta http-equiv=\"content-type\" content=\"text/html; charset=None\">\n",
       "  <style type=\"text/css\">\n",
       "td.linenos { background-color: #f0f0f0; padding-right: 10px; }\n",
       "span.lineno { background-color: #f0f0f0; padding: 0 5px 0 5px; }\n",
       "pre { line-height: 125%; }\n",
       "body .hll { background-color: #ffffcc }\n",
       "body  { background: #f8f8f8; }\n",
       "body .c { color: #408080; font-style: italic } /* Comment */\n",
       "body .err { border: 1px solid #FF0000 } /* Error */\n",
       "body .k { color: #008000; font-weight: bold } /* Keyword */\n",
       "body .o { color: #666666 } /* Operator */\n",
       "body .ch { color: #408080; font-style: italic } /* Comment.Hashbang */\n",
       "body .cm { color: #408080; font-style: italic } /* Comment.Multiline */\n",
       "body .cp { color: #BC7A00 } /* Comment.Preproc */\n",
       "body .cpf { color: #408080; font-style: italic } /* Comment.PreprocFile */\n",
       "body .c1 { color: #408080; font-style: italic } /* Comment.Single */\n",
       "body .cs { color: #408080; font-style: italic } /* Comment.Special */\n",
       "body .gd { color: #A00000 } /* Generic.Deleted */\n",
       "body .ge { font-style: italic } /* Generic.Emph */\n",
       "body .gr { color: #FF0000 } /* Generic.Error */\n",
       "body .gh { color: #000080; font-weight: bold } /* Generic.Heading */\n",
       "body .gi { color: #00A000 } /* Generic.Inserted */\n",
       "body .go { color: #888888 } /* Generic.Output */\n",
       "body .gp { color: #000080; font-weight: bold } /* Generic.Prompt */\n",
       "body .gs { font-weight: bold } /* Generic.Strong */\n",
       "body .gu { color: #800080; font-weight: bold } /* Generic.Subheading */\n",
       "body .gt { color: #0044DD } /* Generic.Traceback */\n",
       "body .kc { color: #008000; font-weight: bold } /* Keyword.Constant */\n",
       "body .kd { color: #008000; font-weight: bold } /* Keyword.Declaration */\n",
       "body .kn { color: #008000; font-weight: bold } /* Keyword.Namespace */\n",
       "body .kp { color: #008000 } /* Keyword.Pseudo */\n",
       "body .kr { color: #008000; font-weight: bold } /* Keyword.Reserved */\n",
       "body .kt { color: #B00040 } /* Keyword.Type */\n",
       "body .m { color: #666666 } /* Literal.Number */\n",
       "body .s { color: #BA2121 } /* Literal.String */\n",
       "body .na { color: #7D9029 } /* Name.Attribute */\n",
       "body .nb { color: #008000 } /* Name.Builtin */\n",
       "body .nc { color: #0000FF; font-weight: bold } /* Name.Class */\n",
       "body .no { color: #880000 } /* Name.Constant */\n",
       "body .nd { color: #AA22FF } /* Name.Decorator */\n",
       "body .ni { color: #999999; font-weight: bold } /* Name.Entity */\n",
       "body .ne { color: #D2413A; font-weight: bold } /* Name.Exception */\n",
       "body .nf { color: #0000FF } /* Name.Function */\n",
       "body .nl { color: #A0A000 } /* Name.Label */\n",
       "body .nn { color: #0000FF; font-weight: bold } /* Name.Namespace */\n",
       "body .nt { color: #008000; font-weight: bold } /* Name.Tag */\n",
       "body .nv { color: #19177C } /* Name.Variable */\n",
       "body .ow { color: #AA22FF; font-weight: bold } /* Operator.Word */\n",
       "body .w { color: #bbbbbb } /* Text.Whitespace */\n",
       "body .mb { color: #666666 } /* Literal.Number.Bin */\n",
       "body .mf { color: #666666 } /* Literal.Number.Float */\n",
       "body .mh { color: #666666 } /* Literal.Number.Hex */\n",
       "body .mi { color: #666666 } /* Literal.Number.Integer */\n",
       "body .mo { color: #666666 } /* Literal.Number.Oct */\n",
       "body .sa { color: #BA2121 } /* Literal.String.Affix */\n",
       "body .sb { color: #BA2121 } /* Literal.String.Backtick */\n",
       "body .sc { color: #BA2121 } /* Literal.String.Char */\n",
       "body .dl { color: #BA2121 } /* Literal.String.Delimiter */\n",
       "body .sd { color: #BA2121; font-style: italic } /* Literal.String.Doc */\n",
       "body .s2 { color: #BA2121 } /* Literal.String.Double */\n",
       "body .se { color: #BB6622; font-weight: bold } /* Literal.String.Escape */\n",
       "body .sh { color: #BA2121 } /* Literal.String.Heredoc */\n",
       "body .si { color: #BB6688; font-weight: bold } /* Literal.String.Interpol */\n",
       "body .sx { color: #008000 } /* Literal.String.Other */\n",
       "body .sr { color: #BB6688 } /* Literal.String.Regex */\n",
       "body .s1 { color: #BA2121 } /* Literal.String.Single */\n",
       "body .ss { color: #19177C } /* Literal.String.Symbol */\n",
       "body .bp { color: #008000 } /* Name.Builtin.Pseudo */\n",
       "body .fm { color: #0000FF } /* Name.Function.Magic */\n",
       "body .vc { color: #19177C } /* Name.Variable.Class */\n",
       "body .vg { color: #19177C } /* Name.Variable.Global */\n",
       "body .vi { color: #19177C } /* Name.Variable.Instance */\n",
       "body .vm { color: #19177C } /* Name.Variable.Magic */\n",
       "body .il { color: #666666 } /* Literal.Number.Integer.Long */\n",
       "\n",
       "  </style>\n",
       "</head>\n",
       "<body>\n",
       "<h2></h2>\n",
       "\n",
       "<div class=\"highlight\"><pre><span></span><span class=\"lineno\"> 1 </span><span class=\"c\">% Find the linear combinations of multichannel data that</span>\n",
       "<span class=\"lineno\"> 2 </span><span class=\"c\">% maximize repeatability over trials.  Data are time*channel*trials.</span>\n",
       "<span class=\"lineno\"> 3 </span><span class=\"c\">%</span>\n",
       "<span class=\"lineno\"> 4 </span><span class=\"c\">% Uses nt_dss0().</span>\n",
       "<span class=\"lineno\"> 5 </span>\n",
       "<span class=\"lineno\"> 6 </span><span class=\"n\">clear</span><span class=\"p\">;</span>\n",
       "<span class=\"lineno\"> 7 </span><span class=\"nb\">disp</span><span class=\"p\">(</span><span class=\"n\">mfilename</span><span class=\"p\">);</span>\n",
       "<span class=\"lineno\"> 8 </span><span class=\"n\">help</span><span class=\"p\">(</span><span class=\"n\">mfilename</span><span class=\"p\">)</span>\n",
       "<span class=\"lineno\"> 9 </span>\n",
       "<span class=\"lineno\">10 </span><span class=\"c\">% create synthetic data</span>\n",
       "<span class=\"lineno\">11 </span><span class=\"n\">nsamples</span><span class=\"p\">=</span><span class=\"mi\">100</span><span class=\"o\">*</span><span class=\"mi\">3</span><span class=\"p\">;</span>\n",
       "<span class=\"lineno\">12 </span><span class=\"n\">nchans</span><span class=\"p\">=</span><span class=\"mi\">30</span><span class=\"p\">;</span>\n",
       "<span class=\"lineno\">13 </span><span class=\"n\">ntrials</span><span class=\"p\">=</span><span class=\"mi\">100</span><span class=\"p\">;</span>\n",
       "<span class=\"lineno\">14 </span><span class=\"n\">noise_dim</span><span class=\"p\">=</span><span class=\"mi\">20</span><span class=\"p\">;</span> <span class=\"c\">% dimensionality of noise</span>\n",
       "<span class=\"lineno\">15 </span><span class=\"n\">source</span><span class=\"p\">=[</span><span class=\"nb\">zeros</span><span class=\"p\">(</span><span class=\"n\">nsamples</span><span class=\"o\">/</span><span class=\"mi\">3</span><span class=\"p\">,</span><span class=\"mi\">1</span><span class=\"p\">);</span><span class=\"nb\">sin</span><span class=\"p\">(</span><span class=\"mi\">2</span><span class=\"o\">*</span><span class=\"nb\">pi</span><span class=\"o\">*</span><span class=\"p\">(</span><span class=\"mi\">1</span><span class=\"p\">:</span><span class=\"n\">nsamples</span><span class=\"o\">/</span><span class=\"mi\">3</span><span class=\"p\">)</span><span class=\"o\">/</span><span class=\"p\">(</span><span class=\"n\">nsamples</span><span class=\"o\">/</span><span class=\"mi\">3</span><span class=\"p\">))</span><span class=\"o\">&#39;</span><span class=\"p\">;</span><span class=\"nb\">zeros</span><span class=\"p\">(</span><span class=\"n\">nsamples</span><span class=\"o\">/</span><span class=\"mi\">3</span><span class=\"p\">,</span><span class=\"mi\">1</span><span class=\"p\">)];</span> \n",
       "<span class=\"lineno\">16 </span><span class=\"n\">s</span><span class=\"p\">=</span><span class=\"n\">source</span><span class=\"o\">*</span><span class=\"nb\">randn</span><span class=\"p\">(</span><span class=\"mi\">1</span><span class=\"p\">,</span><span class=\"n\">nchans</span><span class=\"p\">);</span>\n",
       "<span class=\"lineno\">17 </span><span class=\"n\">s</span><span class=\"p\">=</span><span class=\"nb\">repmat</span><span class=\"p\">(</span><span class=\"n\">s</span><span class=\"p\">,[</span><span class=\"mi\">1</span><span class=\"p\">,</span><span class=\"mi\">1</span><span class=\"p\">,</span><span class=\"mi\">100</span><span class=\"p\">]);</span> <span class=\"c\">% evoked</span>\n",
       "<span class=\"lineno\">18 </span><span class=\"n\">SNR</span><span class=\"p\">=</span><span class=\"mf\">0.1</span><span class=\"p\">;</span>\n",
       "<span class=\"lineno\">19 </span><span class=\"n\">noise</span><span class=\"p\">=</span><span class=\"n\">nt_mmat</span><span class=\"p\">(</span><span class=\"nb\">randn</span><span class=\"p\">(</span><span class=\"n\">nsamples</span><span class=\"p\">,</span><span class=\"n\">noise_dim</span><span class=\"p\">,</span><span class=\"n\">ntrials</span><span class=\"p\">),</span> <span class=\"nb\">randn</span><span class=\"p\">(</span><span class=\"n\">noise_dim</span><span class=\"p\">,</span><span class=\"n\">nchans</span><span class=\"p\">));</span>\n",
       "<span class=\"lineno\">20 </span><span class=\"n\">data</span><span class=\"p\">=</span><span class=\"n\">noise</span><span class=\"o\">/</span><span class=\"n\">rms</span><span class=\"p\">(</span><span class=\"n\">noise</span><span class=\"p\">(:))</span><span class=\"o\">+</span><span class=\"n\">SNR</span><span class=\"o\">*</span><span class=\"n\">s</span><span class=\"o\">/</span><span class=\"n\">nt_rms</span><span class=\"p\">(</span><span class=\"n\">s</span><span class=\"p\">(:));</span>\n",
       "<span class=\"lineno\">21 </span>\n",
       "<span class=\"lineno\">22 </span><span class=\"c\">% apply DSS to clean them</span>\n",
       "<span class=\"lineno\">23 </span><span class=\"n\">c0</span><span class=\"p\">=</span><span class=\"n\">nt_cov</span><span class=\"p\">(</span><span class=\"n\">data</span><span class=\"p\">);</span>\n",
       "<span class=\"lineno\">24 </span><span class=\"n\">c1</span><span class=\"p\">=</span><span class=\"n\">nt_cov</span><span class=\"p\">(</span><span class=\"n\">mean</span><span class=\"p\">(</span><span class=\"n\">data</span><span class=\"p\">,</span><span class=\"mi\">3</span><span class=\"p\">));</span>\n",
       "<span class=\"lineno\">25 </span><span class=\"p\">[</span><span class=\"n\">todss</span><span class=\"p\">,</span><span class=\"n\">pwr0</span><span class=\"p\">,</span><span class=\"n\">pwr1</span><span class=\"p\">]=</span><span class=\"n\">nt_dss0</span><span class=\"p\">(</span><span class=\"n\">c0</span><span class=\"p\">,</span><span class=\"n\">c1</span><span class=\"p\">);</span>\n",
       "<span class=\"lineno\">26 </span><span class=\"n\">z</span><span class=\"p\">=</span><span class=\"n\">nt_mmat</span><span class=\"p\">(</span><span class=\"n\">data</span><span class=\"p\">,</span><span class=\"n\">todss</span><span class=\"p\">);</span>\n",
       "<span class=\"lineno\">27 </span>\n",
       "<span class=\"lineno\">28 </span>\n",
       "<span class=\"lineno\">29 </span><span class=\"c\">% plot results</span>\n",
       "<span class=\"lineno\">30 </span><span class=\"n\">figure</span><span class=\"p\">(</span><span class=\"mi\">1</span><span class=\"p\">);</span> <span class=\"n\">clf</span>\n",
       "<span class=\"lineno\">31 </span><span class=\"n\">subplot</span> <span class=\"mi\">131</span><span class=\"p\">;</span> \n",
       "<span class=\"lineno\">32 </span><span class=\"n\">plot</span><span class=\"p\">(</span><span class=\"n\">source</span><span class=\"p\">);</span> <span class=\"n\">title</span><span class=\"p\">(</span><span class=\"s\">&#39;source&#39;</span><span class=\"p\">);</span> \n",
       "<span class=\"lineno\">33 </span><span class=\"n\">subplot</span> <span class=\"mi\">132</span><span class=\"p\">;</span>\n",
       "<span class=\"lineno\">34 </span><span class=\"n\">plot</span><span class=\"p\">(</span><span class=\"n\">mean</span><span class=\"p\">(</span><span class=\"n\">data</span><span class=\"p\">,</span><span class=\"mi\">3</span><span class=\"p\">));</span> <span class=\"n\">title</span><span class=\"p\">(</span><span class=\"s\">&#39;data&#39;</span><span class=\"p\">);</span>\n",
       "<span class=\"lineno\">35 </span><span class=\"n\">subplot</span> <span class=\"mi\">133</span><span class=\"p\">;</span>\n",
       "<span class=\"lineno\">36 </span><span class=\"n\">nt_bsplot</span><span class=\"p\">(</span><span class=\"n\">z</span><span class=\"p\">(:,</span><span class=\"mi\">1</span><span class=\"p\">,:));</span> <span class=\"n\">title</span><span class=\"p\">(</span><span class=\"s\">&#39;recovered&#39;</span><span class=\"p\">);</span> \n",
       "</pre></div>\n",
       "</body>\n",
       "</html>\n"
      ],
      "text/plain": [
       "<IPython.core.display.HTML object>"
      ]
     },
     "metadata": {},
     "output_type": "display_data"
    }
   ],
   "source": [
    "print_matlab_script(example_1)"
   ]
  },
  {
   "cell_type": "markdown",
   "metadata": {},
   "source": [
    "Let's create synthetic data in Matlab and transfer it here."
   ]
  },
  {
   "cell_type": "code",
   "execution_count": 13,
   "metadata": {},
   "outputs": [
    {
     "data": {
      "text/html": [
       "<!DOCTYPE html PUBLIC \"-//W3C//DTD HTML 4.01//EN\"\n",
       "   \"http://www.w3.org/TR/html4/strict.dtd\">\n",
       "\n",
       "<html>\n",
       "<head>\n",
       "  <title></title>\n",
       "  <meta http-equiv=\"content-type\" content=\"text/html; charset=None\">\n",
       "  <style type=\"text/css\">\n",
       "td.linenos { background-color: #f0f0f0; padding-right: 10px; }\n",
       "span.lineno { background-color: #f0f0f0; padding: 0 5px 0 5px; }\n",
       "pre { line-height: 125%; }\n",
       "body .hll { background-color: #ffffcc }\n",
       "body  { background: #f8f8f8; }\n",
       "body .c { color: #408080; font-style: italic } /* Comment */\n",
       "body .err { border: 1px solid #FF0000 } /* Error */\n",
       "body .k { color: #008000; font-weight: bold } /* Keyword */\n",
       "body .o { color: #666666 } /* Operator */\n",
       "body .ch { color: #408080; font-style: italic } /* Comment.Hashbang */\n",
       "body .cm { color: #408080; font-style: italic } /* Comment.Multiline */\n",
       "body .cp { color: #BC7A00 } /* Comment.Preproc */\n",
       "body .cpf { color: #408080; font-style: italic } /* Comment.PreprocFile */\n",
       "body .c1 { color: #408080; font-style: italic } /* Comment.Single */\n",
       "body .cs { color: #408080; font-style: italic } /* Comment.Special */\n",
       "body .gd { color: #A00000 } /* Generic.Deleted */\n",
       "body .ge { font-style: italic } /* Generic.Emph */\n",
       "body .gr { color: #FF0000 } /* Generic.Error */\n",
       "body .gh { color: #000080; font-weight: bold } /* Generic.Heading */\n",
       "body .gi { color: #00A000 } /* Generic.Inserted */\n",
       "body .go { color: #888888 } /* Generic.Output */\n",
       "body .gp { color: #000080; font-weight: bold } /* Generic.Prompt */\n",
       "body .gs { font-weight: bold } /* Generic.Strong */\n",
       "body .gu { color: #800080; font-weight: bold } /* Generic.Subheading */\n",
       "body .gt { color: #0044DD } /* Generic.Traceback */\n",
       "body .kc { color: #008000; font-weight: bold } /* Keyword.Constant */\n",
       "body .kd { color: #008000; font-weight: bold } /* Keyword.Declaration */\n",
       "body .kn { color: #008000; font-weight: bold } /* Keyword.Namespace */\n",
       "body .kp { color: #008000 } /* Keyword.Pseudo */\n",
       "body .kr { color: #008000; font-weight: bold } /* Keyword.Reserved */\n",
       "body .kt { color: #B00040 } /* Keyword.Type */\n",
       "body .m { color: #666666 } /* Literal.Number */\n",
       "body .s { color: #BA2121 } /* Literal.String */\n",
       "body .na { color: #7D9029 } /* Name.Attribute */\n",
       "body .nb { color: #008000 } /* Name.Builtin */\n",
       "body .nc { color: #0000FF; font-weight: bold } /* Name.Class */\n",
       "body .no { color: #880000 } /* Name.Constant */\n",
       "body .nd { color: #AA22FF } /* Name.Decorator */\n",
       "body .ni { color: #999999; font-weight: bold } /* Name.Entity */\n",
       "body .ne { color: #D2413A; font-weight: bold } /* Name.Exception */\n",
       "body .nf { color: #0000FF } /* Name.Function */\n",
       "body .nl { color: #A0A000 } /* Name.Label */\n",
       "body .nn { color: #0000FF; font-weight: bold } /* Name.Namespace */\n",
       "body .nt { color: #008000; font-weight: bold } /* Name.Tag */\n",
       "body .nv { color: #19177C } /* Name.Variable */\n",
       "body .ow { color: #AA22FF; font-weight: bold } /* Operator.Word */\n",
       "body .w { color: #bbbbbb } /* Text.Whitespace */\n",
       "body .mb { color: #666666 } /* Literal.Number.Bin */\n",
       "body .mf { color: #666666 } /* Literal.Number.Float */\n",
       "body .mh { color: #666666 } /* Literal.Number.Hex */\n",
       "body .mi { color: #666666 } /* Literal.Number.Integer */\n",
       "body .mo { color: #666666 } /* Literal.Number.Oct */\n",
       "body .sa { color: #BA2121 } /* Literal.String.Affix */\n",
       "body .sb { color: #BA2121 } /* Literal.String.Backtick */\n",
       "body .sc { color: #BA2121 } /* Literal.String.Char */\n",
       "body .dl { color: #BA2121 } /* Literal.String.Delimiter */\n",
       "body .sd { color: #BA2121; font-style: italic } /* Literal.String.Doc */\n",
       "body .s2 { color: #BA2121 } /* Literal.String.Double */\n",
       "body .se { color: #BB6622; font-weight: bold } /* Literal.String.Escape */\n",
       "body .sh { color: #BA2121 } /* Literal.String.Heredoc */\n",
       "body .si { color: #BB6688; font-weight: bold } /* Literal.String.Interpol */\n",
       "body .sx { color: #008000 } /* Literal.String.Other */\n",
       "body .sr { color: #BB6688 } /* Literal.String.Regex */\n",
       "body .s1 { color: #BA2121 } /* Literal.String.Single */\n",
       "body .ss { color: #19177C } /* Literal.String.Symbol */\n",
       "body .bp { color: #008000 } /* Name.Builtin.Pseudo */\n",
       "body .fm { color: #0000FF } /* Name.Function.Magic */\n",
       "body .vc { color: #19177C } /* Name.Variable.Class */\n",
       "body .vg { color: #19177C } /* Name.Variable.Global */\n",
       "body .vi { color: #19177C } /* Name.Variable.Instance */\n",
       "body .vm { color: #19177C } /* Name.Variable.Magic */\n",
       "body .il { color: #666666 } /* Literal.Number.Integer.Long */\n",
       "\n",
       "  </style>\n",
       "</head>\n",
       "<body>\n",
       "<h2></h2>\n",
       "\n",
       "<div class=\"highlight\"><pre><span></span><span class=\"lineno\"> 1 </span><span class=\"c\">% create synthetic data</span>\n",
       "<span class=\"lineno\"> 2 </span><span class=\"n\">nsamples</span><span class=\"p\">=</span><span class=\"mi\">100</span><span class=\"o\">*</span><span class=\"mi\">3</span><span class=\"p\">;</span>\n",
       "<span class=\"lineno\"> 3 </span><span class=\"n\">nchans</span><span class=\"p\">=</span><span class=\"mi\">30</span><span class=\"p\">;</span>\n",
       "<span class=\"lineno\"> 4 </span><span class=\"n\">ntrials</span><span class=\"p\">=</span><span class=\"mi\">100</span><span class=\"p\">;</span>\n",
       "<span class=\"lineno\"> 5 </span><span class=\"n\">noise_dim</span><span class=\"p\">=</span><span class=\"mi\">20</span><span class=\"p\">;</span> <span class=\"c\">% dimensionality of noise</span>\n",
       "<span class=\"lineno\"> 6 </span><span class=\"n\">source</span><span class=\"p\">=[</span><span class=\"nb\">zeros</span><span class=\"p\">(</span><span class=\"n\">nsamples</span><span class=\"o\">/</span><span class=\"mi\">3</span><span class=\"p\">,</span><span class=\"mi\">1</span><span class=\"p\">);</span><span class=\"nb\">sin</span><span class=\"p\">(</span><span class=\"mi\">2</span><span class=\"o\">*</span><span class=\"nb\">pi</span><span class=\"o\">*</span><span class=\"p\">(</span><span class=\"mi\">1</span><span class=\"p\">:</span><span class=\"n\">nsamples</span><span class=\"o\">/</span><span class=\"mi\">3</span><span class=\"p\">)</span><span class=\"o\">/</span><span class=\"p\">(</span><span class=\"n\">nsamples</span><span class=\"o\">/</span><span class=\"mi\">3</span><span class=\"p\">))</span><span class=\"o\">&#39;</span><span class=\"p\">;</span><span class=\"nb\">zeros</span><span class=\"p\">(</span><span class=\"n\">nsamples</span><span class=\"o\">/</span><span class=\"mi\">3</span><span class=\"p\">,</span><span class=\"mi\">1</span><span class=\"p\">)];</span> \n",
       "<span class=\"lineno\"> 7 </span><span class=\"n\">s</span><span class=\"p\">=</span><span class=\"n\">source</span><span class=\"o\">*</span><span class=\"nb\">randn</span><span class=\"p\">(</span><span class=\"mi\">1</span><span class=\"p\">,</span><span class=\"n\">nchans</span><span class=\"p\">);</span>\n",
       "<span class=\"lineno\"> 8 </span><span class=\"n\">s</span><span class=\"p\">=</span><span class=\"nb\">repmat</span><span class=\"p\">(</span><span class=\"n\">s</span><span class=\"p\">,[</span><span class=\"mi\">1</span><span class=\"p\">,</span><span class=\"mi\">1</span><span class=\"p\">,</span><span class=\"mi\">100</span><span class=\"p\">]);</span> <span class=\"c\">% evoked</span>\n",
       "<span class=\"lineno\"> 9 </span><span class=\"n\">SNR</span><span class=\"p\">=</span><span class=\"mf\">0.1</span><span class=\"p\">;</span>\n",
       "<span class=\"lineno\">10 </span><span class=\"n\">noise</span><span class=\"p\">=</span><span class=\"n\">nt_mmat</span><span class=\"p\">(</span><span class=\"nb\">randn</span><span class=\"p\">(</span><span class=\"n\">nsamples</span><span class=\"p\">,</span><span class=\"n\">noise_dim</span><span class=\"p\">,</span><span class=\"n\">ntrials</span><span class=\"p\">),</span> <span class=\"nb\">randn</span><span class=\"p\">(</span><span class=\"n\">noise_dim</span><span class=\"p\">,</span><span class=\"n\">nchans</span><span class=\"p\">));</span>\n",
       "<span class=\"lineno\">11 </span><span class=\"n\">data</span><span class=\"p\">=</span><span class=\"n\">noise</span><span class=\"o\">/</span><span class=\"n\">rms</span><span class=\"p\">(</span><span class=\"n\">noise</span><span class=\"p\">(:))</span><span class=\"o\">+</span><span class=\"n\">SNR</span><span class=\"o\">*</span><span class=\"n\">s</span><span class=\"o\">/</span><span class=\"n\">nt_rms</span><span class=\"p\">(</span><span class=\"n\">s</span><span class=\"p\">(:));</span>\n",
       "</pre></div>\n",
       "</body>\n",
       "</html>\n"
      ],
      "text/plain": [
       "<IPython.core.display.HTML object>"
      ]
     },
     "metadata": {},
     "output_type": "display_data"
    }
   ],
   "source": [
    "example_1_code = open(example_1, 'r').readlines()\n",
    "synthethize_data_code = ''.join(example_1_code[9:21])\n",
    "print_matlab_code(synthethize_data_code)"
   ]
  },
  {
   "cell_type": "code",
   "execution_count": 14,
   "metadata": {},
   "outputs": [
    {
     "name": "stdout",
     "output_type": "stream",
     "text": [
      "(300, 30, 100)\n"
     ]
    }
   ],
   "source": [
    "matlab.run_code(synthethize_data_code)\n",
    "data = matlab.get_variable('data')\n",
    "print(data.shape)"
   ]
  },
  {
   "cell_type": "markdown",
   "metadata": {},
   "source": [
    "That is 300 time points, 30 channels and 100 trials."
   ]
  },
  {
   "cell_type": "markdown",
   "metadata": {},
   "source": [
    "# Calculate covariances"
   ]
  },
  {
   "cell_type": "markdown",
   "metadata": {},
   "source": [
    "## Inspect the `NoiseTools` code"
   ]
  },
  {
   "cell_type": "markdown",
   "metadata": {},
   "source": [
    "Here is how the covariance matrices are calculated:"
   ]
  },
  {
   "cell_type": "code",
   "execution_count": 15,
   "metadata": {},
   "outputs": [
    {
     "data": {
      "text/html": [
       "<!DOCTYPE html PUBLIC \"-//W3C//DTD HTML 4.01//EN\"\n",
       "   \"http://www.w3.org/TR/html4/strict.dtd\">\n",
       "\n",
       "<html>\n",
       "<head>\n",
       "  <title></title>\n",
       "  <meta http-equiv=\"content-type\" content=\"text/html; charset=None\">\n",
       "  <style type=\"text/css\">\n",
       "td.linenos { background-color: #f0f0f0; padding-right: 10px; }\n",
       "span.lineno { background-color: #f0f0f0; padding: 0 5px 0 5px; }\n",
       "pre { line-height: 125%; }\n",
       "body .hll { background-color: #ffffcc }\n",
       "body  { background: #f8f8f8; }\n",
       "body .c { color: #408080; font-style: italic } /* Comment */\n",
       "body .err { border: 1px solid #FF0000 } /* Error */\n",
       "body .k { color: #008000; font-weight: bold } /* Keyword */\n",
       "body .o { color: #666666 } /* Operator */\n",
       "body .ch { color: #408080; font-style: italic } /* Comment.Hashbang */\n",
       "body .cm { color: #408080; font-style: italic } /* Comment.Multiline */\n",
       "body .cp { color: #BC7A00 } /* Comment.Preproc */\n",
       "body .cpf { color: #408080; font-style: italic } /* Comment.PreprocFile */\n",
       "body .c1 { color: #408080; font-style: italic } /* Comment.Single */\n",
       "body .cs { color: #408080; font-style: italic } /* Comment.Special */\n",
       "body .gd { color: #A00000 } /* Generic.Deleted */\n",
       "body .ge { font-style: italic } /* Generic.Emph */\n",
       "body .gr { color: #FF0000 } /* Generic.Error */\n",
       "body .gh { color: #000080; font-weight: bold } /* Generic.Heading */\n",
       "body .gi { color: #00A000 } /* Generic.Inserted */\n",
       "body .go { color: #888888 } /* Generic.Output */\n",
       "body .gp { color: #000080; font-weight: bold } /* Generic.Prompt */\n",
       "body .gs { font-weight: bold } /* Generic.Strong */\n",
       "body .gu { color: #800080; font-weight: bold } /* Generic.Subheading */\n",
       "body .gt { color: #0044DD } /* Generic.Traceback */\n",
       "body .kc { color: #008000; font-weight: bold } /* Keyword.Constant */\n",
       "body .kd { color: #008000; font-weight: bold } /* Keyword.Declaration */\n",
       "body .kn { color: #008000; font-weight: bold } /* Keyword.Namespace */\n",
       "body .kp { color: #008000 } /* Keyword.Pseudo */\n",
       "body .kr { color: #008000; font-weight: bold } /* Keyword.Reserved */\n",
       "body .kt { color: #B00040 } /* Keyword.Type */\n",
       "body .m { color: #666666 } /* Literal.Number */\n",
       "body .s { color: #BA2121 } /* Literal.String */\n",
       "body .na { color: #7D9029 } /* Name.Attribute */\n",
       "body .nb { color: #008000 } /* Name.Builtin */\n",
       "body .nc { color: #0000FF; font-weight: bold } /* Name.Class */\n",
       "body .no { color: #880000 } /* Name.Constant */\n",
       "body .nd { color: #AA22FF } /* Name.Decorator */\n",
       "body .ni { color: #999999; font-weight: bold } /* Name.Entity */\n",
       "body .ne { color: #D2413A; font-weight: bold } /* Name.Exception */\n",
       "body .nf { color: #0000FF } /* Name.Function */\n",
       "body .nl { color: #A0A000 } /* Name.Label */\n",
       "body .nn { color: #0000FF; font-weight: bold } /* Name.Namespace */\n",
       "body .nt { color: #008000; font-weight: bold } /* Name.Tag */\n",
       "body .nv { color: #19177C } /* Name.Variable */\n",
       "body .ow { color: #AA22FF; font-weight: bold } /* Operator.Word */\n",
       "body .w { color: #bbbbbb } /* Text.Whitespace */\n",
       "body .mb { color: #666666 } /* Literal.Number.Bin */\n",
       "body .mf { color: #666666 } /* Literal.Number.Float */\n",
       "body .mh { color: #666666 } /* Literal.Number.Hex */\n",
       "body .mi { color: #666666 } /* Literal.Number.Integer */\n",
       "body .mo { color: #666666 } /* Literal.Number.Oct */\n",
       "body .sa { color: #BA2121 } /* Literal.String.Affix */\n",
       "body .sb { color: #BA2121 } /* Literal.String.Backtick */\n",
       "body .sc { color: #BA2121 } /* Literal.String.Char */\n",
       "body .dl { color: #BA2121 } /* Literal.String.Delimiter */\n",
       "body .sd { color: #BA2121; font-style: italic } /* Literal.String.Doc */\n",
       "body .s2 { color: #BA2121 } /* Literal.String.Double */\n",
       "body .se { color: #BB6622; font-weight: bold } /* Literal.String.Escape */\n",
       "body .sh { color: #BA2121 } /* Literal.String.Heredoc */\n",
       "body .si { color: #BB6688; font-weight: bold } /* Literal.String.Interpol */\n",
       "body .sx { color: #008000 } /* Literal.String.Other */\n",
       "body .sr { color: #BB6688 } /* Literal.String.Regex */\n",
       "body .s1 { color: #BA2121 } /* Literal.String.Single */\n",
       "body .ss { color: #19177C } /* Literal.String.Symbol */\n",
       "body .bp { color: #008000 } /* Name.Builtin.Pseudo */\n",
       "body .fm { color: #0000FF } /* Name.Function.Magic */\n",
       "body .vc { color: #19177C } /* Name.Variable.Class */\n",
       "body .vg { color: #19177C } /* Name.Variable.Global */\n",
       "body .vi { color: #19177C } /* Name.Variable.Instance */\n",
       "body .vm { color: #19177C } /* Name.Variable.Magic */\n",
       "body .il { color: #666666 } /* Literal.Number.Integer.Long */\n",
       "\n",
       "  </style>\n",
       "</head>\n",
       "<body>\n",
       "<h2></h2>\n",
       "\n",
       "<div class=\"highlight\"><pre><span></span><span class=\"lineno\">1 </span><span class=\"n\">c0</span><span class=\"p\">=</span><span class=\"n\">nt_cov</span><span class=\"p\">(</span><span class=\"n\">data</span><span class=\"p\">);</span>\n",
       "<span class=\"lineno\">2 </span><span class=\"n\">c1</span><span class=\"p\">=</span><span class=\"n\">nt_cov</span><span class=\"p\">(</span><span class=\"n\">mean</span><span class=\"p\">(</span><span class=\"n\">data</span><span class=\"p\">,</span><span class=\"mi\">3</span><span class=\"p\">));</span>\n",
       "</pre></div>\n",
       "</body>\n",
       "</html>\n"
      ],
      "text/plain": [
       "<IPython.core.display.HTML object>"
      ]
     },
     "metadata": {},
     "output_type": "display_data"
    }
   ],
   "source": [
    "covariances_code = ''.join(example_1_code[22:24])\n",
    "print_matlab_code(covariances_code)"
   ]
  },
  {
   "cell_type": "markdown",
   "metadata": {},
   "source": [
    "Let's see what `nt_cov` does."
   ]
  },
  {
   "cell_type": "code",
   "execution_count": 16,
   "metadata": {},
   "outputs": [
    {
     "data": {
      "text/html": [
       "<!DOCTYPE html PUBLIC \"-//W3C//DTD HTML 4.01//EN\"\n",
       "   \"http://www.w3.org/TR/html4/strict.dtd\">\n",
       "\n",
       "<html>\n",
       "<head>\n",
       "  <title></title>\n",
       "  <meta http-equiv=\"content-type\" content=\"text/html; charset=None\">\n",
       "  <style type=\"text/css\">\n",
       "td.linenos { background-color: #f0f0f0; padding-right: 10px; }\n",
       "span.lineno { background-color: #f0f0f0; padding: 0 5px 0 5px; }\n",
       "pre { line-height: 125%; }\n",
       "body .hll { background-color: #ffffcc }\n",
       "body  { background: #f8f8f8; }\n",
       "body .c { color: #408080; font-style: italic } /* Comment */\n",
       "body .err { border: 1px solid #FF0000 } /* Error */\n",
       "body .k { color: #008000; font-weight: bold } /* Keyword */\n",
       "body .o { color: #666666 } /* Operator */\n",
       "body .ch { color: #408080; font-style: italic } /* Comment.Hashbang */\n",
       "body .cm { color: #408080; font-style: italic } /* Comment.Multiline */\n",
       "body .cp { color: #BC7A00 } /* Comment.Preproc */\n",
       "body .cpf { color: #408080; font-style: italic } /* Comment.PreprocFile */\n",
       "body .c1 { color: #408080; font-style: italic } /* Comment.Single */\n",
       "body .cs { color: #408080; font-style: italic } /* Comment.Special */\n",
       "body .gd { color: #A00000 } /* Generic.Deleted */\n",
       "body .ge { font-style: italic } /* Generic.Emph */\n",
       "body .gr { color: #FF0000 } /* Generic.Error */\n",
       "body .gh { color: #000080; font-weight: bold } /* Generic.Heading */\n",
       "body .gi { color: #00A000 } /* Generic.Inserted */\n",
       "body .go { color: #888888 } /* Generic.Output */\n",
       "body .gp { color: #000080; font-weight: bold } /* Generic.Prompt */\n",
       "body .gs { font-weight: bold } /* Generic.Strong */\n",
       "body .gu { color: #800080; font-weight: bold } /* Generic.Subheading */\n",
       "body .gt { color: #0044DD } /* Generic.Traceback */\n",
       "body .kc { color: #008000; font-weight: bold } /* Keyword.Constant */\n",
       "body .kd { color: #008000; font-weight: bold } /* Keyword.Declaration */\n",
       "body .kn { color: #008000; font-weight: bold } /* Keyword.Namespace */\n",
       "body .kp { color: #008000 } /* Keyword.Pseudo */\n",
       "body .kr { color: #008000; font-weight: bold } /* Keyword.Reserved */\n",
       "body .kt { color: #B00040 } /* Keyword.Type */\n",
       "body .m { color: #666666 } /* Literal.Number */\n",
       "body .s { color: #BA2121 } /* Literal.String */\n",
       "body .na { color: #7D9029 } /* Name.Attribute */\n",
       "body .nb { color: #008000 } /* Name.Builtin */\n",
       "body .nc { color: #0000FF; font-weight: bold } /* Name.Class */\n",
       "body .no { color: #880000 } /* Name.Constant */\n",
       "body .nd { color: #AA22FF } /* Name.Decorator */\n",
       "body .ni { color: #999999; font-weight: bold } /* Name.Entity */\n",
       "body .ne { color: #D2413A; font-weight: bold } /* Name.Exception */\n",
       "body .nf { color: #0000FF } /* Name.Function */\n",
       "body .nl { color: #A0A000 } /* Name.Label */\n",
       "body .nn { color: #0000FF; font-weight: bold } /* Name.Namespace */\n",
       "body .nt { color: #008000; font-weight: bold } /* Name.Tag */\n",
       "body .nv { color: #19177C } /* Name.Variable */\n",
       "body .ow { color: #AA22FF; font-weight: bold } /* Operator.Word */\n",
       "body .w { color: #bbbbbb } /* Text.Whitespace */\n",
       "body .mb { color: #666666 } /* Literal.Number.Bin */\n",
       "body .mf { color: #666666 } /* Literal.Number.Float */\n",
       "body .mh { color: #666666 } /* Literal.Number.Hex */\n",
       "body .mi { color: #666666 } /* Literal.Number.Integer */\n",
       "body .mo { color: #666666 } /* Literal.Number.Oct */\n",
       "body .sa { color: #BA2121 } /* Literal.String.Affix */\n",
       "body .sb { color: #BA2121 } /* Literal.String.Backtick */\n",
       "body .sc { color: #BA2121 } /* Literal.String.Char */\n",
       "body .dl { color: #BA2121 } /* Literal.String.Delimiter */\n",
       "body .sd { color: #BA2121; font-style: italic } /* Literal.String.Doc */\n",
       "body .s2 { color: #BA2121 } /* Literal.String.Double */\n",
       "body .se { color: #BB6622; font-weight: bold } /* Literal.String.Escape */\n",
       "body .sh { color: #BA2121 } /* Literal.String.Heredoc */\n",
       "body .si { color: #BB6688; font-weight: bold } /* Literal.String.Interpol */\n",
       "body .sx { color: #008000 } /* Literal.String.Other */\n",
       "body .sr { color: #BB6688 } /* Literal.String.Regex */\n",
       "body .s1 { color: #BA2121 } /* Literal.String.Single */\n",
       "body .ss { color: #19177C } /* Literal.String.Symbol */\n",
       "body .bp { color: #008000 } /* Name.Builtin.Pseudo */\n",
       "body .fm { color: #0000FF } /* Name.Function.Magic */\n",
       "body .vc { color: #19177C } /* Name.Variable.Class */\n",
       "body .vg { color: #19177C } /* Name.Variable.Global */\n",
       "body .vi { color: #19177C } /* Name.Variable.Instance */\n",
       "body .vm { color: #19177C } /* Name.Variable.Magic */\n",
       "body .il { color: #666666 } /* Literal.Number.Integer.Long */\n",
       "\n",
       "  </style>\n",
       "</head>\n",
       "<body>\n",
       "<h2></h2>\n",
       "\n",
       "<div class=\"highlight\"><pre><span></span><span class=\"lineno\"> 1 </span><span class=\"k\">function</span><span class=\"w\"> </span>[c,tw]<span class=\"p\">=</span><span class=\"nf\">nt_cov</span><span class=\"p\">(</span>x,shifts,w<span class=\"p\">);</span>\n",
       "<span class=\"lineno\"> 2 </span><span class=\"c\">%[c,tw]=nt_cov(x,shifts,w) - time shift covariance</span>\n",
       "<span class=\"lineno\"> 3 </span><span class=\"c\">%</span>\n",
       "<span class=\"lineno\"> 4 </span><span class=\"c\">%  c: covariance matrix</span>\n",
       "<span class=\"lineno\"> 5 </span><span class=\"c\">%  tw: total weight (c/tw is normalized covariance)</span>\n",
       "<span class=\"lineno\"> 6 </span><span class=\"c\">%</span>\n",
       "<span class=\"lineno\"> 7 </span><span class=\"c\">%  x: data</span>\n",
       "<span class=\"lineno\"> 8 </span><span class=\"c\">%  shifts: array of time shifts (must be non-negative)</span>\n",
       "<span class=\"lineno\"> 9 </span><span class=\"c\">%  w: weights</span>\n",
       "<span class=\"lineno\">10 </span><span class=\"c\">%  </span>\n",
       "<span class=\"lineno\">11 </span><span class=\"c\">% If SHIFTS==[0], this function calculates the covariance matrix of X, </span>\n",
       "<span class=\"lineno\">12 </span><span class=\"c\">% weighted by W.  In the general case it calculates the covariance matrix</span>\n",
       "<span class=\"lineno\">13 </span><span class=\"c\">% of time-shifted X.</span>\n",
       "<span class=\"lineno\">14 </span><span class=\"c\">%</span>\n",
       "<span class=\"lineno\">15 </span><span class=\"c\">% X can be 1D, 2D or 3D.  It can also be a cell array. </span>\n",
       "<span class=\"lineno\">16 </span><span class=\"c\">% W can be 1D (if X is 1D or 2D) or 2D (if X is 3D). The same weight is</span>\n",
       "<span class=\"lineno\">17 </span><span class=\"c\">% applied to each column.</span>\n",
       "<span class=\"lineno\">18 </span><span class=\"c\">% </span>\n",
       "<span class=\"lineno\">19 </span><span class=\"c\">% Output is a 2D matrix with dimensions (ncols(X)*numel(SHIFTS))^2.</span>\n",
       "<span class=\"lineno\">20 </span><span class=\"c\">% It is made up of an ncols(X)*ncols(X) matrix of submatrices, each of </span>\n",
       "<span class=\"lineno\">21 </span><span class=\"c\">% dimensions numel(SHIFTS)*numel(SHIFTS).</span>\n",
       "<span class=\"lineno\">22 </span><span class=\"c\">%</span>\n",
       "<span class=\"lineno\">23 </span><span class=\"c\">% NoiseTools</span>\n",
       "<span class=\"lineno\">24 </span>\n",
       "<span class=\"lineno\">25 </span><span class=\"c\">%% arguments</span>\n",
       "<span class=\"lineno\">26 </span><span class=\"k\">if</span> <span class=\"n\">nargin</span><span class=\"o\">&lt;</span><span class=\"mi\">3</span><span class=\"p\">;</span> <span class=\"n\">w</span><span class=\"p\">=[];</span> <span class=\"k\">end</span><span class=\"p\">;</span>\n",
       "<span class=\"lineno\">27 </span><span class=\"k\">if</span> <span class=\"n\">nargin</span><span class=\"o\">&lt;</span><span class=\"mi\">2</span><span class=\"o\">||</span><span class=\"nb\">isempty</span><span class=\"p\">(</span><span class=\"n\">shifts</span><span class=\"p\">);</span> <span class=\"n\">shifts</span><span class=\"p\">=</span><span class=\"mi\">0</span><span class=\"p\">;</span> <span class=\"k\">end</span><span class=\"p\">;</span>\n",
       "<span class=\"lineno\">28 </span><span class=\"k\">if</span> <span class=\"n\">prod</span><span class=\"p\">(</span><span class=\"nb\">size</span><span class=\"p\">(</span><span class=\"n\">x</span><span class=\"p\">))</span><span class=\"o\">==</span><span class=\"mi\">0</span><span class=\"p\">;</span> <span class=\"n\">error</span><span class=\"p\">(</span><span class=\"s\">&#39;data empty&#39;</span><span class=\"p\">);</span> <span class=\"k\">end</span>\n",
       "<span class=\"lineno\">29 </span><span class=\"n\">shifts</span><span class=\"p\">=</span><span class=\"n\">shifts</span><span class=\"p\">(:);</span>           <span class=\"c\">% --&gt; column vector</span>\n",
       "<span class=\"lineno\">30 </span><span class=\"n\">nshifts</span><span class=\"p\">=</span><span class=\"nb\">numel</span><span class=\"p\">(</span><span class=\"n\">shifts</span><span class=\"p\">);</span> \n",
       "<span class=\"lineno\">31 </span>\n",
       "<span class=\"lineno\">32 </span>\n",
       "<span class=\"lineno\">33 </span><span class=\"k\">if</span> <span class=\"nb\">isempty</span><span class=\"p\">(</span><span class=\"n\">w</span><span class=\"p\">)</span> \n",
       "<span class=\"lineno\">34 </span>    <span class=\"c\">%% no weights</span>\n",
       "<span class=\"lineno\">35 </span>    <span class=\"k\">if</span> <span class=\"n\">isnumeric</span><span class=\"p\">(</span><span class=\"n\">x</span><span class=\"p\">)</span>\n",
       "<span class=\"lineno\">36 </span>        <span class=\"c\">%% matrix</span>\n",
       "<span class=\"lineno\">37 </span>        <span class=\"p\">[</span><span class=\"n\">m</span><span class=\"p\">,</span><span class=\"n\">n</span><span class=\"p\">,</span><span class=\"n\">o</span><span class=\"p\">]=</span><span class=\"nb\">size</span><span class=\"p\">(</span><span class=\"n\">x</span><span class=\"p\">);</span>\n",
       "<span class=\"lineno\">38 </span>        <span class=\"n\">c</span><span class=\"p\">=</span><span class=\"nb\">zeros</span><span class=\"p\">(</span><span class=\"n\">n</span><span class=\"o\">*</span><span class=\"n\">nshifts</span><span class=\"p\">);</span>\n",
       "<span class=\"lineno\">39 </span>        <span class=\"k\">for</span> <span class=\"n\">k</span><span class=\"p\">=</span><span class=\"mi\">1</span><span class=\"p\">:</span><span class=\"n\">o</span>\n",
       "<span class=\"lineno\">40 </span>            <span class=\"n\">xx</span><span class=\"p\">=</span><span class=\"n\">nt_multishift</span><span class=\"p\">(</span><span class=\"n\">x</span><span class=\"p\">(:,:,</span><span class=\"n\">k</span><span class=\"p\">),</span><span class=\"n\">shifts</span><span class=\"p\">);</span>\n",
       "<span class=\"lineno\">41 </span>            <span class=\"n\">c</span><span class=\"p\">=</span><span class=\"n\">c</span><span class=\"o\">+</span><span class=\"n\">xx</span><span class=\"o\">&#39;*</span><span class=\"n\">xx</span><span class=\"p\">;</span>\n",
       "<span class=\"lineno\">42 </span>        <span class=\"k\">end</span>\n",
       "<span class=\"lineno\">43 </span>        <span class=\"n\">tw</span><span class=\"p\">=</span><span class=\"nb\">size</span><span class=\"p\">(</span><span class=\"n\">xx</span><span class=\"p\">,</span><span class=\"mi\">1</span><span class=\"p\">)</span><span class=\"o\">*</span><span class=\"n\">o</span><span class=\"p\">;</span>\n",
       "<span class=\"lineno\">44 </span>    <span class=\"k\">elseif</span> <span class=\"n\">iscell</span><span class=\"p\">(</span><span class=\"n\">x</span><span class=\"p\">)</span>\n",
       "<span class=\"lineno\">45 </span>        <span class=\"c\">%% cell array</span>\n",
       "<span class=\"lineno\">46 </span>        <span class=\"p\">[</span><span class=\"n\">m</span><span class=\"p\">,</span><span class=\"n\">n</span><span class=\"p\">]=</span><span class=\"nb\">size</span><span class=\"p\">(</span><span class=\"n\">x</span><span class=\"p\">{</span><span class=\"mi\">1</span><span class=\"p\">});</span>\n",
       "<span class=\"lineno\">47 </span>        <span class=\"n\">o</span><span class=\"p\">=</span><span class=\"nb\">length</span><span class=\"p\">(</span><span class=\"n\">x</span><span class=\"p\">);</span>\n",
       "<span class=\"lineno\">48 </span>        <span class=\"n\">c</span><span class=\"p\">=</span><span class=\"nb\">zeros</span><span class=\"p\">(</span><span class=\"n\">n</span><span class=\"o\">*</span><span class=\"n\">nshifts</span><span class=\"p\">);</span>\n",
       "<span class=\"lineno\">49 </span>        <span class=\"k\">for</span> <span class=\"n\">k</span><span class=\"p\">=</span><span class=\"mi\">1</span><span class=\"p\">:</span><span class=\"n\">o</span><span class=\"p\">;</span>\n",
       "<span class=\"lineno\">50 </span>            <span class=\"k\">if</span> <span class=\"nb\">size</span><span class=\"p\">(</span><span class=\"n\">x</span><span class=\"p\">{</span><span class=\"n\">k</span><span class=\"p\">},</span><span class=\"mi\">2</span><span class=\"p\">)</span><span class=\"o\">~=</span><span class=\"n\">n</span><span class=\"p\">;</span>  <span class=\"nb\">disp</span><span class=\"p\">([</span><span class=\"nb\">size</span><span class=\"p\">(</span><span class=\"n\">x</span><span class=\"p\">{</span><span class=\"n\">k</span><span class=\"p\">}),</span><span class=\"n\">n</span><span class=\"p\">,</span> <span class=\"n\">k</span><span class=\"p\">]);</span> <span class=\"n\">error</span><span class=\"p\">(</span><span class=\"s\">&#39;!&#39;</span><span class=\"p\">);</span> <span class=\"k\">end</span>\n",
       "<span class=\"lineno\">51 </span>            <span class=\"n\">xx</span><span class=\"p\">=</span><span class=\"n\">nt_multishift</span><span class=\"p\">(</span><span class=\"n\">x</span><span class=\"p\">{</span><span class=\"n\">k</span><span class=\"p\">}(:,:),</span><span class=\"n\">shifts</span><span class=\"p\">);</span>\n",
       "<span class=\"lineno\">52 </span>            <span class=\"n\">c</span><span class=\"p\">=</span><span class=\"n\">c</span><span class=\"o\">+</span><span class=\"n\">xx</span><span class=\"o\">&#39;*</span><span class=\"n\">xx</span><span class=\"p\">;</span>\n",
       "<span class=\"lineno\">53 </span>        <span class=\"k\">end</span>\n",
       "<span class=\"lineno\">54 </span>        <span class=\"n\">tw</span><span class=\"p\">=</span><span class=\"nb\">size</span><span class=\"p\">(</span><span class=\"n\">xx</span><span class=\"p\">,</span><span class=\"mi\">1</span><span class=\"p\">)</span><span class=\"o\">*</span><span class=\"n\">o</span><span class=\"p\">;</span>\n",
       "<span class=\"lineno\">55 </span>    <span class=\"k\">else</span> <span class=\"n\">error</span><span class=\"p\">(</span><span class=\"s\">&#39;!&#39;</span><span class=\"p\">);</span> <span class=\"k\">end</span>   \n",
       "<span class=\"lineno\">56 </span><span class=\"k\">else</span>\n",
       "<span class=\"lineno\">57 </span>    <span class=\"c\">%% weights</span>\n",
       "<span class=\"lineno\">58 </span>    <span class=\"k\">if</span> <span class=\"n\">isnumeric</span><span class=\"p\">(</span><span class=\"n\">x</span><span class=\"p\">)</span>\n",
       "<span class=\"lineno\">59 </span>        <span class=\"c\">%% matrix</span>\n",
       "<span class=\"lineno\">60 </span>        <span class=\"p\">[</span><span class=\"n\">m</span><span class=\"p\">,</span><span class=\"n\">n</span><span class=\"p\">,</span><span class=\"n\">o</span><span class=\"p\">]=</span><span class=\"nb\">size</span><span class=\"p\">(</span><span class=\"n\">x</span><span class=\"p\">);</span>\n",
       "<span class=\"lineno\">61 </span>        <span class=\"n\">c</span><span class=\"p\">=</span><span class=\"nb\">zeros</span><span class=\"p\">(</span><span class=\"n\">n</span><span class=\"o\">*</span><span class=\"n\">nshifts</span><span class=\"p\">);</span>\n",
       "<span class=\"lineno\">62 </span>        <span class=\"k\">for</span> <span class=\"n\">k</span><span class=\"p\">=</span><span class=\"mi\">1</span><span class=\"p\">:</span><span class=\"n\">o</span>\n",
       "<span class=\"lineno\">63 </span>            <span class=\"k\">if</span> <span class=\"o\">~</span><span class=\"n\">all</span><span class=\"p\">(</span><span class=\"n\">shifts</span> <span class=\"o\">==</span> <span class=\"p\">[</span><span class=\"mi\">0</span><span class=\"p\">]);</span> \n",
       "<span class=\"lineno\">64 </span>                <span class=\"n\">xx</span><span class=\"p\">=</span><span class=\"n\">nt_multishift</span><span class=\"p\">(</span><span class=\"n\">x</span><span class=\"p\">(:,:,</span><span class=\"n\">k</span><span class=\"p\">),</span><span class=\"n\">shifts</span><span class=\"p\">);</span> \n",
       "<span class=\"lineno\">65 </span>                <span class=\"n\">ww</span><span class=\"p\">=</span><span class=\"n\">nt_multishift</span><span class=\"p\">(</span><span class=\"n\">w</span><span class=\"p\">(:,:,</span><span class=\"n\">k</span><span class=\"p\">),</span><span class=\"n\">shifts</span><span class=\"p\">);</span>\n",
       "<span class=\"lineno\">66 </span>                <span class=\"n\">ww</span><span class=\"p\">=</span><span class=\"n\">min</span><span class=\"p\">(</span><span class=\"n\">ww</span><span class=\"p\">,[],</span><span class=\"mi\">2</span><span class=\"p\">);</span>\n",
       "<span class=\"lineno\">67 </span>            <span class=\"k\">else</span>\n",
       "<span class=\"lineno\">68 </span>                <span class=\"n\">xx</span><span class=\"p\">=</span><span class=\"n\">x</span><span class=\"p\">(:,:,</span><span class=\"n\">k</span><span class=\"p\">);</span> <span class=\"n\">ww</span><span class=\"p\">=</span><span class=\"n\">w</span><span class=\"p\">(:,:,</span><span class=\"n\">k</span><span class=\"p\">);</span>\n",
       "<span class=\"lineno\">69 </span>            <span class=\"k\">end</span>\n",
       "<span class=\"lineno\">70 </span>            <span class=\"n\">xx</span><span class=\"p\">=</span><span class=\"n\">nt_vecmult</span><span class=\"p\">(</span><span class=\"n\">xx</span><span class=\"p\">,</span><span class=\"n\">ww</span><span class=\"p\">);</span>\n",
       "<span class=\"lineno\">71 </span>            <span class=\"n\">c</span><span class=\"p\">=</span><span class=\"n\">c</span><span class=\"o\">+</span><span class=\"n\">xx</span><span class=\"o\">&#39;*</span><span class=\"n\">xx</span><span class=\"p\">;</span>\n",
       "<span class=\"lineno\">72 </span>        <span class=\"k\">end</span>\n",
       "<span class=\"lineno\">73 </span>        <span class=\"n\">tw</span><span class=\"p\">=</span><span class=\"n\">sum</span><span class=\"p\">(</span><span class=\"n\">w</span><span class=\"p\">(:));</span>\n",
       "<span class=\"lineno\">74 </span>    <span class=\"k\">else</span>\n",
       "<span class=\"lineno\">75 </span>        <span class=\"c\">%% cell array</span>\n",
       "<span class=\"lineno\">76 </span>        <span class=\"n\">c</span><span class=\"p\">=</span><span class=\"nb\">zeros</span><span class=\"p\">(</span><span class=\"n\">n</span><span class=\"o\">*</span><span class=\"n\">nshifts</span><span class=\"p\">);</span>\n",
       "<span class=\"lineno\">77 </span>        <span class=\"p\">[</span><span class=\"n\">m</span><span class=\"p\">,</span><span class=\"n\">n</span><span class=\"p\">]=</span><span class=\"nb\">size</span><span class=\"p\">(</span><span class=\"n\">x</span><span class=\"p\">{</span><span class=\"mi\">1</span><span class=\"p\">});</span>\n",
       "<span class=\"lineno\">78 </span>        <span class=\"n\">o</span><span class=\"p\">=</span><span class=\"nb\">length</span><span class=\"p\">(</span><span class=\"n\">x</span><span class=\"p\">);</span>\n",
       "<span class=\"lineno\">79 </span>        <span class=\"k\">for</span> <span class=\"n\">k</span><span class=\"p\">=</span><span class=\"mi\">1</span><span class=\"p\">:</span><span class=\"n\">o</span>\n",
       "<span class=\"lineno\">80 </span>            <span class=\"k\">if</span> <span class=\"o\">~</span><span class=\"n\">all</span><span class=\"p\">(</span><span class=\"n\">shifts</span> <span class=\"o\">==</span> <span class=\"p\">[</span><span class=\"mi\">0</span><span class=\"p\">]);</span> \n",
       "<span class=\"lineno\">81 </span>                <span class=\"n\">xx</span><span class=\"p\">=</span><span class=\"n\">nt_multishift</span><span class=\"p\">(</span><span class=\"n\">x</span><span class=\"p\">{</span><span class=\"n\">k</span><span class=\"p\">}(:,:),</span><span class=\"n\">shifts</span><span class=\"p\">);</span> \n",
       "<span class=\"lineno\">82 </span>                <span class=\"n\">ww</span><span class=\"p\">=</span><span class=\"n\">nt_multishift</span><span class=\"p\">(</span><span class=\"n\">w</span><span class=\"p\">{</span><span class=\"n\">k</span><span class=\"p\">}(:,:),</span><span class=\"n\">shifts</span><span class=\"p\">);</span>\n",
       "<span class=\"lineno\">83 </span>                <span class=\"n\">ww</span><span class=\"p\">=</span><span class=\"n\">min</span><span class=\"p\">(</span><span class=\"n\">ww</span><span class=\"p\">,[],</span><span class=\"mi\">2</span><span class=\"p\">);</span>\n",
       "<span class=\"lineno\">84 </span>            <span class=\"k\">else</span>\n",
       "<span class=\"lineno\">85 </span>                <span class=\"n\">xx</span><span class=\"p\">=</span><span class=\"n\">x</span><span class=\"p\">{</span><span class=\"n\">k</span><span class=\"p\">}(:,:);</span> <span class=\"n\">ww</span><span class=\"p\">=</span><span class=\"n\">w</span><span class=\"p\">{</span><span class=\"n\">k</span><span class=\"p\">}(:,:);</span>\n",
       "<span class=\"lineno\">86 </span>            <span class=\"k\">end</span>\n",
       "<span class=\"lineno\">87 </span>            <span class=\"n\">xx</span><span class=\"p\">=</span><span class=\"n\">nt_vecmult</span><span class=\"p\">(</span><span class=\"n\">xx</span><span class=\"p\">,</span><span class=\"n\">ww</span><span class=\"p\">);</span>\n",
       "<span class=\"lineno\">88 </span>            <span class=\"n\">c</span><span class=\"p\">=</span><span class=\"n\">c</span><span class=\"o\">+</span><span class=\"n\">xx</span><span class=\"o\">&#39;*</span><span class=\"n\">xx</span><span class=\"p\">;</span>\n",
       "<span class=\"lineno\">89 </span>        <span class=\"k\">end</span>\n",
       "<span class=\"lineno\">90 </span>        <span class=\"n\">tw</span><span class=\"p\">=</span><span class=\"n\">sum</span><span class=\"p\">(</span><span class=\"n\">w</span><span class=\"p\">(:));</span>\n",
       "<span class=\"lineno\">91 </span>    <span class=\"k\">end</span>       \n",
       "<span class=\"lineno\">92 </span><span class=\"k\">end</span>\n",
       "</pre></div>\n",
       "</body>\n",
       "</html>\n"
      ],
      "text/plain": [
       "<IPython.core.display.HTML object>"
      ]
     },
     "metadata": {},
     "output_type": "display_data"
    }
   ],
   "source": [
    "nt_cov = noise_tools_dir / 'nt_cov.m'\n",
    "print_matlab_script(nt_cov)"
   ]
  },
  {
   "cell_type": "markdown",
   "metadata": {},
   "source": [
    "The example code only uses the first argument `x` and only the first output `c`. Also, both `data` and `mean(data,3)` are single matrices, not arrays of matrices. Therefore, checks on line 33 (`isempty(w)`) and on line 35 (`is_numberic(x)`) both avaluate to `true`. So, the only piece of code relevant to us is this:"
   ]
  },
  {
   "cell_type": "code",
   "execution_count": 17,
   "metadata": {},
   "outputs": [
    {
     "data": {
      "text/html": [
       "<!DOCTYPE html PUBLIC \"-//W3C//DTD HTML 4.01//EN\"\n",
       "   \"http://www.w3.org/TR/html4/strict.dtd\">\n",
       "\n",
       "<html>\n",
       "<head>\n",
       "  <title></title>\n",
       "  <meta http-equiv=\"content-type\" content=\"text/html; charset=None\">\n",
       "  <style type=\"text/css\">\n",
       "td.linenos { background-color: #f0f0f0; padding-right: 10px; }\n",
       "span.lineno { background-color: #f0f0f0; padding: 0 5px 0 5px; }\n",
       "pre { line-height: 125%; }\n",
       "body .hll { background-color: #ffffcc }\n",
       "body  { background: #f8f8f8; }\n",
       "body .c { color: #408080; font-style: italic } /* Comment */\n",
       "body .err { border: 1px solid #FF0000 } /* Error */\n",
       "body .k { color: #008000; font-weight: bold } /* Keyword */\n",
       "body .o { color: #666666 } /* Operator */\n",
       "body .ch { color: #408080; font-style: italic } /* Comment.Hashbang */\n",
       "body .cm { color: #408080; font-style: italic } /* Comment.Multiline */\n",
       "body .cp { color: #BC7A00 } /* Comment.Preproc */\n",
       "body .cpf { color: #408080; font-style: italic } /* Comment.PreprocFile */\n",
       "body .c1 { color: #408080; font-style: italic } /* Comment.Single */\n",
       "body .cs { color: #408080; font-style: italic } /* Comment.Special */\n",
       "body .gd { color: #A00000 } /* Generic.Deleted */\n",
       "body .ge { font-style: italic } /* Generic.Emph */\n",
       "body .gr { color: #FF0000 } /* Generic.Error */\n",
       "body .gh { color: #000080; font-weight: bold } /* Generic.Heading */\n",
       "body .gi { color: #00A000 } /* Generic.Inserted */\n",
       "body .go { color: #888888 } /* Generic.Output */\n",
       "body .gp { color: #000080; font-weight: bold } /* Generic.Prompt */\n",
       "body .gs { font-weight: bold } /* Generic.Strong */\n",
       "body .gu { color: #800080; font-weight: bold } /* Generic.Subheading */\n",
       "body .gt { color: #0044DD } /* Generic.Traceback */\n",
       "body .kc { color: #008000; font-weight: bold } /* Keyword.Constant */\n",
       "body .kd { color: #008000; font-weight: bold } /* Keyword.Declaration */\n",
       "body .kn { color: #008000; font-weight: bold } /* Keyword.Namespace */\n",
       "body .kp { color: #008000 } /* Keyword.Pseudo */\n",
       "body .kr { color: #008000; font-weight: bold } /* Keyword.Reserved */\n",
       "body .kt { color: #B00040 } /* Keyword.Type */\n",
       "body .m { color: #666666 } /* Literal.Number */\n",
       "body .s { color: #BA2121 } /* Literal.String */\n",
       "body .na { color: #7D9029 } /* Name.Attribute */\n",
       "body .nb { color: #008000 } /* Name.Builtin */\n",
       "body .nc { color: #0000FF; font-weight: bold } /* Name.Class */\n",
       "body .no { color: #880000 } /* Name.Constant */\n",
       "body .nd { color: #AA22FF } /* Name.Decorator */\n",
       "body .ni { color: #999999; font-weight: bold } /* Name.Entity */\n",
       "body .ne { color: #D2413A; font-weight: bold } /* Name.Exception */\n",
       "body .nf { color: #0000FF } /* Name.Function */\n",
       "body .nl { color: #A0A000 } /* Name.Label */\n",
       "body .nn { color: #0000FF; font-weight: bold } /* Name.Namespace */\n",
       "body .nt { color: #008000; font-weight: bold } /* Name.Tag */\n",
       "body .nv { color: #19177C } /* Name.Variable */\n",
       "body .ow { color: #AA22FF; font-weight: bold } /* Operator.Word */\n",
       "body .w { color: #bbbbbb } /* Text.Whitespace */\n",
       "body .mb { color: #666666 } /* Literal.Number.Bin */\n",
       "body .mf { color: #666666 } /* Literal.Number.Float */\n",
       "body .mh { color: #666666 } /* Literal.Number.Hex */\n",
       "body .mi { color: #666666 } /* Literal.Number.Integer */\n",
       "body .mo { color: #666666 } /* Literal.Number.Oct */\n",
       "body .sa { color: #BA2121 } /* Literal.String.Affix */\n",
       "body .sb { color: #BA2121 } /* Literal.String.Backtick */\n",
       "body .sc { color: #BA2121 } /* Literal.String.Char */\n",
       "body .dl { color: #BA2121 } /* Literal.String.Delimiter */\n",
       "body .sd { color: #BA2121; font-style: italic } /* Literal.String.Doc */\n",
       "body .s2 { color: #BA2121 } /* Literal.String.Double */\n",
       "body .se { color: #BB6622; font-weight: bold } /* Literal.String.Escape */\n",
       "body .sh { color: #BA2121 } /* Literal.String.Heredoc */\n",
       "body .si { color: #BB6688; font-weight: bold } /* Literal.String.Interpol */\n",
       "body .sx { color: #008000 } /* Literal.String.Other */\n",
       "body .sr { color: #BB6688 } /* Literal.String.Regex */\n",
       "body .s1 { color: #BA2121 } /* Literal.String.Single */\n",
       "body .ss { color: #19177C } /* Literal.String.Symbol */\n",
       "body .bp { color: #008000 } /* Name.Builtin.Pseudo */\n",
       "body .fm { color: #0000FF } /* Name.Function.Magic */\n",
       "body .vc { color: #19177C } /* Name.Variable.Class */\n",
       "body .vg { color: #19177C } /* Name.Variable.Global */\n",
       "body .vi { color: #19177C } /* Name.Variable.Instance */\n",
       "body .vm { color: #19177C } /* Name.Variable.Magic */\n",
       "body .il { color: #666666 } /* Literal.Number.Integer.Long */\n",
       "\n",
       "  </style>\n",
       "</head>\n",
       "<body>\n",
       "<h2></h2>\n",
       "\n",
       "<div class=\"highlight\"><pre><span></span><span class=\"lineno\">1 </span>        <span class=\"c\">%% matrix</span>\n",
       "<span class=\"lineno\">2 </span>        <span class=\"p\">[</span><span class=\"n\">m</span><span class=\"p\">,</span><span class=\"n\">n</span><span class=\"p\">,</span><span class=\"n\">o</span><span class=\"p\">]=</span><span class=\"nb\">size</span><span class=\"p\">(</span><span class=\"n\">x</span><span class=\"p\">);</span>\n",
       "<span class=\"lineno\">3 </span>        <span class=\"n\">c</span><span class=\"p\">=</span><span class=\"nb\">zeros</span><span class=\"p\">(</span><span class=\"n\">n</span><span class=\"o\">*</span><span class=\"n\">nshifts</span><span class=\"p\">);</span>\n",
       "<span class=\"lineno\">4 </span>        <span class=\"k\">for</span> <span class=\"n\">k</span><span class=\"p\">=</span><span class=\"mi\">1</span><span class=\"p\">:</span><span class=\"n\">o</span>\n",
       "<span class=\"lineno\">5 </span>            <span class=\"n\">xx</span><span class=\"p\">=</span><span class=\"n\">nt_multishift</span><span class=\"p\">(</span><span class=\"n\">x</span><span class=\"p\">(:,:,</span><span class=\"n\">k</span><span class=\"p\">),</span><span class=\"n\">shifts</span><span class=\"p\">);</span>\n",
       "<span class=\"lineno\">6 </span>            <span class=\"n\">c</span><span class=\"p\">=</span><span class=\"n\">c</span><span class=\"o\">+</span><span class=\"n\">xx</span><span class=\"o\">&#39;*</span><span class=\"n\">xx</span><span class=\"p\">;</span>\n",
       "<span class=\"lineno\">7 </span>        <span class=\"k\">end</span>\n",
       "</pre></div>\n",
       "</body>\n",
       "</html>\n"
      ],
      "text/plain": [
       "<IPython.core.display.HTML object>"
      ]
     },
     "metadata": {},
     "output_type": "display_data"
    }
   ],
   "source": [
    "nt_cov_code = open(nt_cov, 'r').readlines()\n",
    "print_matlab_code(''.join(nt_cov_code[35:42]))"
   ]
  },
  {
   "cell_type": "markdown",
   "metadata": {},
   "source": [
    "Let's see what `nt_multishift` does. First, we need to figure out what `shifts` is since we didn't supply this parameter. Here are the relevant lines:"
   ]
  },
  {
   "cell_type": "code",
   "execution_count": 18,
   "metadata": {},
   "outputs": [
    {
     "data": {
      "text/html": [
       "<!DOCTYPE html PUBLIC \"-//W3C//DTD HTML 4.01//EN\"\n",
       "   \"http://www.w3.org/TR/html4/strict.dtd\">\n",
       "\n",
       "<html>\n",
       "<head>\n",
       "  <title></title>\n",
       "  <meta http-equiv=\"content-type\" content=\"text/html; charset=None\">\n",
       "  <style type=\"text/css\">\n",
       "td.linenos { background-color: #f0f0f0; padding-right: 10px; }\n",
       "span.lineno { background-color: #f0f0f0; padding: 0 5px 0 5px; }\n",
       "pre { line-height: 125%; }\n",
       "body .hll { background-color: #ffffcc }\n",
       "body  { background: #f8f8f8; }\n",
       "body .c { color: #408080; font-style: italic } /* Comment */\n",
       "body .err { border: 1px solid #FF0000 } /* Error */\n",
       "body .k { color: #008000; font-weight: bold } /* Keyword */\n",
       "body .o { color: #666666 } /* Operator */\n",
       "body .ch { color: #408080; font-style: italic } /* Comment.Hashbang */\n",
       "body .cm { color: #408080; font-style: italic } /* Comment.Multiline */\n",
       "body .cp { color: #BC7A00 } /* Comment.Preproc */\n",
       "body .cpf { color: #408080; font-style: italic } /* Comment.PreprocFile */\n",
       "body .c1 { color: #408080; font-style: italic } /* Comment.Single */\n",
       "body .cs { color: #408080; font-style: italic } /* Comment.Special */\n",
       "body .gd { color: #A00000 } /* Generic.Deleted */\n",
       "body .ge { font-style: italic } /* Generic.Emph */\n",
       "body .gr { color: #FF0000 } /* Generic.Error */\n",
       "body .gh { color: #000080; font-weight: bold } /* Generic.Heading */\n",
       "body .gi { color: #00A000 } /* Generic.Inserted */\n",
       "body .go { color: #888888 } /* Generic.Output */\n",
       "body .gp { color: #000080; font-weight: bold } /* Generic.Prompt */\n",
       "body .gs { font-weight: bold } /* Generic.Strong */\n",
       "body .gu { color: #800080; font-weight: bold } /* Generic.Subheading */\n",
       "body .gt { color: #0044DD } /* Generic.Traceback */\n",
       "body .kc { color: #008000; font-weight: bold } /* Keyword.Constant */\n",
       "body .kd { color: #008000; font-weight: bold } /* Keyword.Declaration */\n",
       "body .kn { color: #008000; font-weight: bold } /* Keyword.Namespace */\n",
       "body .kp { color: #008000 } /* Keyword.Pseudo */\n",
       "body .kr { color: #008000; font-weight: bold } /* Keyword.Reserved */\n",
       "body .kt { color: #B00040 } /* Keyword.Type */\n",
       "body .m { color: #666666 } /* Literal.Number */\n",
       "body .s { color: #BA2121 } /* Literal.String */\n",
       "body .na { color: #7D9029 } /* Name.Attribute */\n",
       "body .nb { color: #008000 } /* Name.Builtin */\n",
       "body .nc { color: #0000FF; font-weight: bold } /* Name.Class */\n",
       "body .no { color: #880000 } /* Name.Constant */\n",
       "body .nd { color: #AA22FF } /* Name.Decorator */\n",
       "body .ni { color: #999999; font-weight: bold } /* Name.Entity */\n",
       "body .ne { color: #D2413A; font-weight: bold } /* Name.Exception */\n",
       "body .nf { color: #0000FF } /* Name.Function */\n",
       "body .nl { color: #A0A000 } /* Name.Label */\n",
       "body .nn { color: #0000FF; font-weight: bold } /* Name.Namespace */\n",
       "body .nt { color: #008000; font-weight: bold } /* Name.Tag */\n",
       "body .nv { color: #19177C } /* Name.Variable */\n",
       "body .ow { color: #AA22FF; font-weight: bold } /* Operator.Word */\n",
       "body .w { color: #bbbbbb } /* Text.Whitespace */\n",
       "body .mb { color: #666666 } /* Literal.Number.Bin */\n",
       "body .mf { color: #666666 } /* Literal.Number.Float */\n",
       "body .mh { color: #666666 } /* Literal.Number.Hex */\n",
       "body .mi { color: #666666 } /* Literal.Number.Integer */\n",
       "body .mo { color: #666666 } /* Literal.Number.Oct */\n",
       "body .sa { color: #BA2121 } /* Literal.String.Affix */\n",
       "body .sb { color: #BA2121 } /* Literal.String.Backtick */\n",
       "body .sc { color: #BA2121 } /* Literal.String.Char */\n",
       "body .dl { color: #BA2121 } /* Literal.String.Delimiter */\n",
       "body .sd { color: #BA2121; font-style: italic } /* Literal.String.Doc */\n",
       "body .s2 { color: #BA2121 } /* Literal.String.Double */\n",
       "body .se { color: #BB6622; font-weight: bold } /* Literal.String.Escape */\n",
       "body .sh { color: #BA2121 } /* Literal.String.Heredoc */\n",
       "body .si { color: #BB6688; font-weight: bold } /* Literal.String.Interpol */\n",
       "body .sx { color: #008000 } /* Literal.String.Other */\n",
       "body .sr { color: #BB6688 } /* Literal.String.Regex */\n",
       "body .s1 { color: #BA2121 } /* Literal.String.Single */\n",
       "body .ss { color: #19177C } /* Literal.String.Symbol */\n",
       "body .bp { color: #008000 } /* Name.Builtin.Pseudo */\n",
       "body .fm { color: #0000FF } /* Name.Function.Magic */\n",
       "body .vc { color: #19177C } /* Name.Variable.Class */\n",
       "body .vg { color: #19177C } /* Name.Variable.Global */\n",
       "body .vi { color: #19177C } /* Name.Variable.Instance */\n",
       "body .vm { color: #19177C } /* Name.Variable.Magic */\n",
       "body .il { color: #666666 } /* Literal.Number.Integer.Long */\n",
       "\n",
       "  </style>\n",
       "</head>\n",
       "<body>\n",
       "<h2></h2>\n",
       "\n",
       "<div class=\"highlight\"><pre><span></span><span class=\"lineno\">1 </span><span class=\"k\">if</span> <span class=\"n\">nargin</span><span class=\"o\">&lt;</span><span class=\"mi\">2</span><span class=\"o\">||</span><span class=\"nb\">isempty</span><span class=\"p\">(</span><span class=\"n\">shifts</span><span class=\"p\">);</span> <span class=\"n\">shifts</span><span class=\"p\">=</span><span class=\"mi\">0</span><span class=\"p\">;</span> <span class=\"k\">end</span><span class=\"p\">;</span>\n",
       "<span class=\"lineno\">2 </span><span class=\"k\">if</span> <span class=\"n\">prod</span><span class=\"p\">(</span><span class=\"nb\">size</span><span class=\"p\">(</span><span class=\"n\">x</span><span class=\"p\">))</span><span class=\"o\">==</span><span class=\"mi\">0</span><span class=\"p\">;</span> <span class=\"n\">error</span><span class=\"p\">(</span><span class=\"s\">&#39;data empty&#39;</span><span class=\"p\">);</span> <span class=\"k\">end</span>\n",
       "<span class=\"lineno\">3 </span><span class=\"n\">shifts</span><span class=\"p\">=</span><span class=\"n\">shifts</span><span class=\"p\">(:);</span>           <span class=\"c\">% --&gt; column vector</span>\n",
       "</pre></div>\n",
       "</body>\n",
       "</html>\n"
      ],
      "text/plain": [
       "<IPython.core.display.HTML object>"
      ]
     },
     "metadata": {},
     "output_type": "display_data"
    }
   ],
   "source": [
    "print_matlab_code(''.join(nt_cov_code[26:29]))"
   ]
  },
  {
   "cell_type": "markdown",
   "metadata": {},
   "source": [
    "So, shifts is just `0`. Let's see what `nt_multishift` does in this case."
   ]
  },
  {
   "cell_type": "code",
   "execution_count": 19,
   "metadata": {},
   "outputs": [
    {
     "data": {
      "text/html": [
       "<!DOCTYPE html PUBLIC \"-//W3C//DTD HTML 4.01//EN\"\n",
       "   \"http://www.w3.org/TR/html4/strict.dtd\">\n",
       "\n",
       "<html>\n",
       "<head>\n",
       "  <title></title>\n",
       "  <meta http-equiv=\"content-type\" content=\"text/html; charset=None\">\n",
       "  <style type=\"text/css\">\n",
       "td.linenos { background-color: #f0f0f0; padding-right: 10px; }\n",
       "span.lineno { background-color: #f0f0f0; padding: 0 5px 0 5px; }\n",
       "pre { line-height: 125%; }\n",
       "body .hll { background-color: #ffffcc }\n",
       "body  { background: #f8f8f8; }\n",
       "body .c { color: #408080; font-style: italic } /* Comment */\n",
       "body .err { border: 1px solid #FF0000 } /* Error */\n",
       "body .k { color: #008000; font-weight: bold } /* Keyword */\n",
       "body .o { color: #666666 } /* Operator */\n",
       "body .ch { color: #408080; font-style: italic } /* Comment.Hashbang */\n",
       "body .cm { color: #408080; font-style: italic } /* Comment.Multiline */\n",
       "body .cp { color: #BC7A00 } /* Comment.Preproc */\n",
       "body .cpf { color: #408080; font-style: italic } /* Comment.PreprocFile */\n",
       "body .c1 { color: #408080; font-style: italic } /* Comment.Single */\n",
       "body .cs { color: #408080; font-style: italic } /* Comment.Special */\n",
       "body .gd { color: #A00000 } /* Generic.Deleted */\n",
       "body .ge { font-style: italic } /* Generic.Emph */\n",
       "body .gr { color: #FF0000 } /* Generic.Error */\n",
       "body .gh { color: #000080; font-weight: bold } /* Generic.Heading */\n",
       "body .gi { color: #00A000 } /* Generic.Inserted */\n",
       "body .go { color: #888888 } /* Generic.Output */\n",
       "body .gp { color: #000080; font-weight: bold } /* Generic.Prompt */\n",
       "body .gs { font-weight: bold } /* Generic.Strong */\n",
       "body .gu { color: #800080; font-weight: bold } /* Generic.Subheading */\n",
       "body .gt { color: #0044DD } /* Generic.Traceback */\n",
       "body .kc { color: #008000; font-weight: bold } /* Keyword.Constant */\n",
       "body .kd { color: #008000; font-weight: bold } /* Keyword.Declaration */\n",
       "body .kn { color: #008000; font-weight: bold } /* Keyword.Namespace */\n",
       "body .kp { color: #008000 } /* Keyword.Pseudo */\n",
       "body .kr { color: #008000; font-weight: bold } /* Keyword.Reserved */\n",
       "body .kt { color: #B00040 } /* Keyword.Type */\n",
       "body .m { color: #666666 } /* Literal.Number */\n",
       "body .s { color: #BA2121 } /* Literal.String */\n",
       "body .na { color: #7D9029 } /* Name.Attribute */\n",
       "body .nb { color: #008000 } /* Name.Builtin */\n",
       "body .nc { color: #0000FF; font-weight: bold } /* Name.Class */\n",
       "body .no { color: #880000 } /* Name.Constant */\n",
       "body .nd { color: #AA22FF } /* Name.Decorator */\n",
       "body .ni { color: #999999; font-weight: bold } /* Name.Entity */\n",
       "body .ne { color: #D2413A; font-weight: bold } /* Name.Exception */\n",
       "body .nf { color: #0000FF } /* Name.Function */\n",
       "body .nl { color: #A0A000 } /* Name.Label */\n",
       "body .nn { color: #0000FF; font-weight: bold } /* Name.Namespace */\n",
       "body .nt { color: #008000; font-weight: bold } /* Name.Tag */\n",
       "body .nv { color: #19177C } /* Name.Variable */\n",
       "body .ow { color: #AA22FF; font-weight: bold } /* Operator.Word */\n",
       "body .w { color: #bbbbbb } /* Text.Whitespace */\n",
       "body .mb { color: #666666 } /* Literal.Number.Bin */\n",
       "body .mf { color: #666666 } /* Literal.Number.Float */\n",
       "body .mh { color: #666666 } /* Literal.Number.Hex */\n",
       "body .mi { color: #666666 } /* Literal.Number.Integer */\n",
       "body .mo { color: #666666 } /* Literal.Number.Oct */\n",
       "body .sa { color: #BA2121 } /* Literal.String.Affix */\n",
       "body .sb { color: #BA2121 } /* Literal.String.Backtick */\n",
       "body .sc { color: #BA2121 } /* Literal.String.Char */\n",
       "body .dl { color: #BA2121 } /* Literal.String.Delimiter */\n",
       "body .sd { color: #BA2121; font-style: italic } /* Literal.String.Doc */\n",
       "body .s2 { color: #BA2121 } /* Literal.String.Double */\n",
       "body .se { color: #BB6622; font-weight: bold } /* Literal.String.Escape */\n",
       "body .sh { color: #BA2121 } /* Literal.String.Heredoc */\n",
       "body .si { color: #BB6688; font-weight: bold } /* Literal.String.Interpol */\n",
       "body .sx { color: #008000 } /* Literal.String.Other */\n",
       "body .sr { color: #BB6688 } /* Literal.String.Regex */\n",
       "body .s1 { color: #BA2121 } /* Literal.String.Single */\n",
       "body .ss { color: #19177C } /* Literal.String.Symbol */\n",
       "body .bp { color: #008000 } /* Name.Builtin.Pseudo */\n",
       "body .fm { color: #0000FF } /* Name.Function.Magic */\n",
       "body .vc { color: #19177C } /* Name.Variable.Class */\n",
       "body .vg { color: #19177C } /* Name.Variable.Global */\n",
       "body .vi { color: #19177C } /* Name.Variable.Instance */\n",
       "body .vm { color: #19177C } /* Name.Variable.Magic */\n",
       "body .il { color: #666666 } /* Literal.Number.Integer.Long */\n",
       "\n",
       "  </style>\n",
       "</head>\n",
       "<body>\n",
       "<h2></h2>\n",
       "\n",
       "<div class=\"highlight\"><pre><span></span><span class=\"lineno\"> 1 </span><span class=\"k\">function</span><span class=\"w\"> </span>z<span class=\"p\">=</span><span class=\"nf\">nt_multishift</span><span class=\"p\">(</span>x,shifts<span class=\"p\">)</span><span class=\"w\"></span>\n",
       "<span class=\"lineno\"> 2 </span><span class=\"c\">%z=nt_multishift(x,shifts,amplitudes) - apply multiple shifts to matrix</span>\n",
       "<span class=\"lineno\"> 3 </span><span class=\"c\">%</span>\n",
       "<span class=\"lineno\"> 4 </span><span class=\"c\">%   y: result</span>\n",
       "<span class=\"lineno\"> 5 </span><span class=\"c\">%</span>\n",
       "<span class=\"lineno\"> 6 </span><span class=\"c\">%   x: matrix to shift</span>\n",
       "<span class=\"lineno\"> 7 </span><span class=\"c\">%   shifts: array of shifts (must be nonnegative)</span>\n",
       "<span class=\"lineno\"> 8 </span><span class=\"c\">% </span>\n",
       "<span class=\"lineno\"> 9 </span><span class=\"c\">% X is shifted column by column (all shifts of 1st column, then all</span>\n",
       "<span class=\"lineno\">10 </span><span class=\"c\">% shifts of second column, etc).</span>\n",
       "<span class=\"lineno\">11 </span><span class=\"c\">% </span>\n",
       "<span class=\"lineno\">12 </span><span class=\"c\">% X may be 1D, 2D or 3D. See also convmtx.</span>\n",
       "<span class=\"lineno\">13 </span><span class=\"c\">%</span>\n",
       "<span class=\"lineno\">14 </span><span class=\"c\">% NoiseTools</span>\n",
       "<span class=\"lineno\">15 </span>\n",
       "<span class=\"lineno\">16 </span><span class=\"k\">if</span> <span class=\"n\">nargin</span><span class=\"o\">&lt;</span><span class=\"mi\">2</span><span class=\"p\">;</span> <span class=\"n\">error</span><span class=\"p\">(</span><span class=\"s\">&#39;!&#39;</span><span class=\"p\">);</span> <span class=\"k\">end</span>\n",
       "<span class=\"lineno\">17 </span>\n",
       "<span class=\"lineno\">18 </span><span class=\"k\">if</span> <span class=\"n\">iscell</span><span class=\"p\">(</span><span class=\"n\">x</span><span class=\"p\">)</span>\n",
       "<span class=\"lineno\">19 </span>    <span class=\"k\">for</span> <span class=\"n\">iCell</span><span class=\"p\">=</span><span class=\"mi\">1</span><span class=\"p\">:</span><span class=\"nb\">length</span><span class=\"p\">(</span><span class=\"n\">x</span><span class=\"p\">);</span>\n",
       "<span class=\"lineno\">20 </span>        <span class=\"n\">z</span><span class=\"p\">{</span><span class=\"n\">iCell</span><span class=\"p\">}=</span><span class=\"n\">nt_multishift</span><span class=\"p\">(</span><span class=\"n\">x</span><span class=\"p\">{</span><span class=\"n\">iCell</span><span class=\"p\">},</span><span class=\"n\">shifts</span><span class=\"p\">);</span>\n",
       "<span class=\"lineno\">21 </span>    <span class=\"k\">end</span>\n",
       "<span class=\"lineno\">22 </span>    <span class=\"k\">return</span><span class=\"p\">;</span>\n",
       "<span class=\"lineno\">23 </span><span class=\"k\">end</span>\n",
       "<span class=\"lineno\">24 </span>\n",
       "<span class=\"lineno\">25 </span><span class=\"k\">if</span> <span class=\"nb\">size</span><span class=\"p\">(</span><span class=\"n\">x</span><span class=\"p\">,</span><span class=\"mi\">1</span><span class=\"p\">)</span><span class=\"o\">&lt;</span><span class=\"n\">max</span><span class=\"p\">(</span><span class=\"n\">shifts</span><span class=\"p\">);</span> <span class=\"n\">error</span><span class=\"p\">(</span><span class=\"s\">&#39;shifts should be no larger than nrows&#39;</span><span class=\"p\">);</span> <span class=\"k\">end</span>\n",
       "<span class=\"lineno\">26 </span><span class=\"k\">if</span> <span class=\"n\">min</span><span class=\"p\">(</span><span class=\"n\">shifts</span><span class=\"p\">)</span><span class=\"o\">&lt;</span><span class=\"mi\">0</span><span class=\"p\">;</span> <span class=\"n\">error</span><span class=\"p\">(</span><span class=\"s\">&#39;shifts should be nonnegative&#39;</span><span class=\"p\">);</span> <span class=\"k\">end</span>\n",
       "<span class=\"lineno\">27 </span><span class=\"n\">shifts</span><span class=\"p\">=</span><span class=\"n\">shifts</span><span class=\"p\">(:)</span><span class=\"o\">&#39;</span><span class=\"p\">;</span>\n",
       "<span class=\"lineno\">28 </span><span class=\"n\">nshifts</span><span class=\"p\">=</span><span class=\"nb\">numel</span><span class=\"p\">(</span><span class=\"n\">shifts</span><span class=\"p\">);</span>\n",
       "<span class=\"lineno\">29 </span><span class=\"k\">if</span> <span class=\"n\">nshifts</span><span class=\"o\">==</span><span class=\"mi\">1</span> <span class=\"o\">&amp;&amp;</span> <span class=\"n\">shifts</span><span class=\"p\">(</span><span class=\"mi\">1</span><span class=\"p\">)</span><span class=\"o\">==</span><span class=\"mi\">0</span><span class=\"p\">;</span> \n",
       "<span class=\"lineno\">30 </span>    <span class=\"n\">z</span><span class=\"p\">=</span><span class=\"n\">x</span><span class=\"p\">;</span>\n",
       "<span class=\"lineno\">31 </span>    <span class=\"k\">return</span>\n",
       "<span class=\"lineno\">32 </span><span class=\"k\">end</span>\n",
       "<span class=\"lineno\">33 </span>\n",
       "<span class=\"lineno\">34 </span><span class=\"c\">% array of shift indices</span>\n",
       "<span class=\"lineno\">35 </span><span class=\"n\">N</span><span class=\"p\">=</span><span class=\"nb\">size</span><span class=\"p\">(</span><span class=\"n\">x</span><span class=\"p\">,</span><span class=\"mi\">1</span><span class=\"p\">)</span><span class=\"o\">-</span><span class=\"n\">max</span><span class=\"p\">(</span><span class=\"n\">shifts</span><span class=\"p\">);</span> \n",
       "<span class=\"lineno\">36 </span><span class=\"n\">shiftarray</span><span class=\"p\">=</span><span class=\"n\">nt_vecadd</span><span class=\"p\">(</span><span class=\"n\">nt_vecmult</span><span class=\"p\">(</span><span class=\"nb\">ones</span><span class=\"p\">(</span><span class=\"n\">N</span><span class=\"p\">,</span><span class=\"n\">nshifts</span><span class=\"p\">),</span><span class=\"n\">shifts</span><span class=\"p\">),(</span><span class=\"mi\">1</span><span class=\"p\">:</span><span class=\"n\">N</span><span class=\"p\">)</span><span class=\"o\">&#39;</span><span class=\"p\">);</span>\n",
       "<span class=\"lineno\">37 </span><span class=\"p\">[</span><span class=\"n\">m</span><span class=\"p\">,</span><span class=\"n\">n</span><span class=\"p\">,</span><span class=\"n\">o</span><span class=\"p\">]=</span><span class=\"nb\">size</span><span class=\"p\">(</span><span class=\"n\">x</span><span class=\"p\">);</span>\n",
       "<span class=\"lineno\">38 </span><span class=\"n\">z</span><span class=\"p\">=</span><span class=\"nb\">zeros</span><span class=\"p\">(</span><span class=\"n\">N</span><span class=\"p\">,</span><span class=\"n\">n</span><span class=\"o\">*</span><span class=\"n\">nshifts</span><span class=\"p\">,</span><span class=\"n\">o</span><span class=\"p\">);</span>\n",
       "<span class=\"lineno\">39 </span>\n",
       "<span class=\"lineno\">40 </span><span class=\"k\">for</span> <span class=\"n\">k</span><span class=\"p\">=</span><span class=\"mi\">1</span><span class=\"p\">:</span><span class=\"n\">o</span>\n",
       "<span class=\"lineno\">41 </span>    <span class=\"k\">for</span> <span class=\"nb\">j</span><span class=\"p\">=</span><span class=\"mi\">0</span><span class=\"p\">:</span><span class=\"n\">n</span><span class=\"o\">-</span><span class=\"mi\">1</span>\n",
       "<span class=\"lineno\">42 </span>        <span class=\"n\">y</span><span class=\"p\">=</span><span class=\"n\">x</span><span class=\"p\">(:,</span><span class=\"nb\">j</span><span class=\"o\">+</span><span class=\"mi\">1</span><span class=\"p\">,</span><span class=\"n\">k</span><span class=\"p\">);</span>\n",
       "<span class=\"lineno\">43 </span>        <span class=\"n\">z</span><span class=\"p\">(:,</span><span class=\"nb\">j</span><span class=\"o\">*</span><span class=\"n\">nshifts</span><span class=\"o\">+</span><span class=\"mi\">1</span><span class=\"p\">:</span> <span class=\"nb\">j</span><span class=\"o\">*</span><span class=\"n\">nshifts</span><span class=\"o\">+</span><span class=\"n\">nshifts</span><span class=\"p\">,</span><span class=\"n\">k</span><span class=\"p\">)=</span><span class=\"n\">y</span><span class=\"p\">(</span><span class=\"n\">shiftarray</span><span class=\"p\">);</span>\n",
       "<span class=\"lineno\">44 </span>    <span class=\"k\">end</span>\n",
       "<span class=\"lineno\">45 </span><span class=\"k\">end</span>\n",
       "</pre></div>\n",
       "</body>\n",
       "</html>\n"
      ],
      "text/plain": [
       "<IPython.core.display.HTML object>"
      ]
     },
     "metadata": {},
     "output_type": "display_data"
    }
   ],
   "source": [
    "nt_multishift_path = noise_tools_dir / 'nt_multishift.m'\n",
    "print_matlab_script(nt_multishift_path)"
   ]
  },
  {
   "cell_type": "markdown",
   "metadata": {},
   "source": [
    "And here is the relevant part:"
   ]
  },
  {
   "cell_type": "code",
   "execution_count": 20,
   "metadata": {},
   "outputs": [
    {
     "data": {
      "text/html": [
       "<!DOCTYPE html PUBLIC \"-//W3C//DTD HTML 4.01//EN\"\n",
       "   \"http://www.w3.org/TR/html4/strict.dtd\">\n",
       "\n",
       "<html>\n",
       "<head>\n",
       "  <title></title>\n",
       "  <meta http-equiv=\"content-type\" content=\"text/html; charset=None\">\n",
       "  <style type=\"text/css\">\n",
       "td.linenos { background-color: #f0f0f0; padding-right: 10px; }\n",
       "span.lineno { background-color: #f0f0f0; padding: 0 5px 0 5px; }\n",
       "pre { line-height: 125%; }\n",
       "body .hll { background-color: #ffffcc }\n",
       "body  { background: #f8f8f8; }\n",
       "body .c { color: #408080; font-style: italic } /* Comment */\n",
       "body .err { border: 1px solid #FF0000 } /* Error */\n",
       "body .k { color: #008000; font-weight: bold } /* Keyword */\n",
       "body .o { color: #666666 } /* Operator */\n",
       "body .ch { color: #408080; font-style: italic } /* Comment.Hashbang */\n",
       "body .cm { color: #408080; font-style: italic } /* Comment.Multiline */\n",
       "body .cp { color: #BC7A00 } /* Comment.Preproc */\n",
       "body .cpf { color: #408080; font-style: italic } /* Comment.PreprocFile */\n",
       "body .c1 { color: #408080; font-style: italic } /* Comment.Single */\n",
       "body .cs { color: #408080; font-style: italic } /* Comment.Special */\n",
       "body .gd { color: #A00000 } /* Generic.Deleted */\n",
       "body .ge { font-style: italic } /* Generic.Emph */\n",
       "body .gr { color: #FF0000 } /* Generic.Error */\n",
       "body .gh { color: #000080; font-weight: bold } /* Generic.Heading */\n",
       "body .gi { color: #00A000 } /* Generic.Inserted */\n",
       "body .go { color: #888888 } /* Generic.Output */\n",
       "body .gp { color: #000080; font-weight: bold } /* Generic.Prompt */\n",
       "body .gs { font-weight: bold } /* Generic.Strong */\n",
       "body .gu { color: #800080; font-weight: bold } /* Generic.Subheading */\n",
       "body .gt { color: #0044DD } /* Generic.Traceback */\n",
       "body .kc { color: #008000; font-weight: bold } /* Keyword.Constant */\n",
       "body .kd { color: #008000; font-weight: bold } /* Keyword.Declaration */\n",
       "body .kn { color: #008000; font-weight: bold } /* Keyword.Namespace */\n",
       "body .kp { color: #008000 } /* Keyword.Pseudo */\n",
       "body .kr { color: #008000; font-weight: bold } /* Keyword.Reserved */\n",
       "body .kt { color: #B00040 } /* Keyword.Type */\n",
       "body .m { color: #666666 } /* Literal.Number */\n",
       "body .s { color: #BA2121 } /* Literal.String */\n",
       "body .na { color: #7D9029 } /* Name.Attribute */\n",
       "body .nb { color: #008000 } /* Name.Builtin */\n",
       "body .nc { color: #0000FF; font-weight: bold } /* Name.Class */\n",
       "body .no { color: #880000 } /* Name.Constant */\n",
       "body .nd { color: #AA22FF } /* Name.Decorator */\n",
       "body .ni { color: #999999; font-weight: bold } /* Name.Entity */\n",
       "body .ne { color: #D2413A; font-weight: bold } /* Name.Exception */\n",
       "body .nf { color: #0000FF } /* Name.Function */\n",
       "body .nl { color: #A0A000 } /* Name.Label */\n",
       "body .nn { color: #0000FF; font-weight: bold } /* Name.Namespace */\n",
       "body .nt { color: #008000; font-weight: bold } /* Name.Tag */\n",
       "body .nv { color: #19177C } /* Name.Variable */\n",
       "body .ow { color: #AA22FF; font-weight: bold } /* Operator.Word */\n",
       "body .w { color: #bbbbbb } /* Text.Whitespace */\n",
       "body .mb { color: #666666 } /* Literal.Number.Bin */\n",
       "body .mf { color: #666666 } /* Literal.Number.Float */\n",
       "body .mh { color: #666666 } /* Literal.Number.Hex */\n",
       "body .mi { color: #666666 } /* Literal.Number.Integer */\n",
       "body .mo { color: #666666 } /* Literal.Number.Oct */\n",
       "body .sa { color: #BA2121 } /* Literal.String.Affix */\n",
       "body .sb { color: #BA2121 } /* Literal.String.Backtick */\n",
       "body .sc { color: #BA2121 } /* Literal.String.Char */\n",
       "body .dl { color: #BA2121 } /* Literal.String.Delimiter */\n",
       "body .sd { color: #BA2121; font-style: italic } /* Literal.String.Doc */\n",
       "body .s2 { color: #BA2121 } /* Literal.String.Double */\n",
       "body .se { color: #BB6622; font-weight: bold } /* Literal.String.Escape */\n",
       "body .sh { color: #BA2121 } /* Literal.String.Heredoc */\n",
       "body .si { color: #BB6688; font-weight: bold } /* Literal.String.Interpol */\n",
       "body .sx { color: #008000 } /* Literal.String.Other */\n",
       "body .sr { color: #BB6688 } /* Literal.String.Regex */\n",
       "body .s1 { color: #BA2121 } /* Literal.String.Single */\n",
       "body .ss { color: #19177C } /* Literal.String.Symbol */\n",
       "body .bp { color: #008000 } /* Name.Builtin.Pseudo */\n",
       "body .fm { color: #0000FF } /* Name.Function.Magic */\n",
       "body .vc { color: #19177C } /* Name.Variable.Class */\n",
       "body .vg { color: #19177C } /* Name.Variable.Global */\n",
       "body .vi { color: #19177C } /* Name.Variable.Instance */\n",
       "body .vm { color: #19177C } /* Name.Variable.Magic */\n",
       "body .il { color: #666666 } /* Literal.Number.Integer.Long */\n",
       "\n",
       "  </style>\n",
       "</head>\n",
       "<body>\n",
       "<h2></h2>\n",
       "\n",
       "<div class=\"highlight\"><pre><span></span><span class=\"lineno\">1 </span><span class=\"k\">if</span> <span class=\"n\">nshifts</span><span class=\"o\">==</span><span class=\"mi\">1</span> <span class=\"o\">&amp;&amp;</span> <span class=\"n\">shifts</span><span class=\"p\">(</span><span class=\"mi\">1</span><span class=\"p\">)</span><span class=\"o\">==</span><span class=\"mi\">0</span><span class=\"p\">;</span> \n",
       "<span class=\"lineno\">2 </span>    <span class=\"n\">z</span><span class=\"p\">=</span><span class=\"n\">x</span><span class=\"p\">;</span>\n",
       "<span class=\"lineno\">3 </span>    <span class=\"k\">return</span>\n",
       "<span class=\"lineno\">4 </span><span class=\"k\">end</span>\n",
       "</pre></div>\n",
       "</body>\n",
       "</html>\n"
      ],
      "text/plain": [
       "<IPython.core.display.HTML object>"
      ]
     },
     "metadata": {},
     "output_type": "display_data"
    }
   ],
   "source": [
    "nt_multishift_code = open(nt_multishift_path, 'r').readlines()\n",
    "print_matlab_code(''.join(nt_multishift_code[28:32]))"
   ]
  },
  {
   "cell_type": "markdown",
   "metadata": {},
   "source": [
    "So, with `shifts == 0` function `nt_multishift` does not change the input. Let's get back to the `nt_cov` code then."
   ]
  },
  {
   "cell_type": "code",
   "execution_count": 21,
   "metadata": {},
   "outputs": [
    {
     "data": {
      "text/html": [
       "<!DOCTYPE html PUBLIC \"-//W3C//DTD HTML 4.01//EN\"\n",
       "   \"http://www.w3.org/TR/html4/strict.dtd\">\n",
       "\n",
       "<html>\n",
       "<head>\n",
       "  <title></title>\n",
       "  <meta http-equiv=\"content-type\" content=\"text/html; charset=None\">\n",
       "  <style type=\"text/css\">\n",
       "td.linenos { background-color: #f0f0f0; padding-right: 10px; }\n",
       "span.lineno { background-color: #f0f0f0; padding: 0 5px 0 5px; }\n",
       "pre { line-height: 125%; }\n",
       "body .hll { background-color: #ffffcc }\n",
       "body  { background: #f8f8f8; }\n",
       "body .c { color: #408080; font-style: italic } /* Comment */\n",
       "body .err { border: 1px solid #FF0000 } /* Error */\n",
       "body .k { color: #008000; font-weight: bold } /* Keyword */\n",
       "body .o { color: #666666 } /* Operator */\n",
       "body .ch { color: #408080; font-style: italic } /* Comment.Hashbang */\n",
       "body .cm { color: #408080; font-style: italic } /* Comment.Multiline */\n",
       "body .cp { color: #BC7A00 } /* Comment.Preproc */\n",
       "body .cpf { color: #408080; font-style: italic } /* Comment.PreprocFile */\n",
       "body .c1 { color: #408080; font-style: italic } /* Comment.Single */\n",
       "body .cs { color: #408080; font-style: italic } /* Comment.Special */\n",
       "body .gd { color: #A00000 } /* Generic.Deleted */\n",
       "body .ge { font-style: italic } /* Generic.Emph */\n",
       "body .gr { color: #FF0000 } /* Generic.Error */\n",
       "body .gh { color: #000080; font-weight: bold } /* Generic.Heading */\n",
       "body .gi { color: #00A000 } /* Generic.Inserted */\n",
       "body .go { color: #888888 } /* Generic.Output */\n",
       "body .gp { color: #000080; font-weight: bold } /* Generic.Prompt */\n",
       "body .gs { font-weight: bold } /* Generic.Strong */\n",
       "body .gu { color: #800080; font-weight: bold } /* Generic.Subheading */\n",
       "body .gt { color: #0044DD } /* Generic.Traceback */\n",
       "body .kc { color: #008000; font-weight: bold } /* Keyword.Constant */\n",
       "body .kd { color: #008000; font-weight: bold } /* Keyword.Declaration */\n",
       "body .kn { color: #008000; font-weight: bold } /* Keyword.Namespace */\n",
       "body .kp { color: #008000 } /* Keyword.Pseudo */\n",
       "body .kr { color: #008000; font-weight: bold } /* Keyword.Reserved */\n",
       "body .kt { color: #B00040 } /* Keyword.Type */\n",
       "body .m { color: #666666 } /* Literal.Number */\n",
       "body .s { color: #BA2121 } /* Literal.String */\n",
       "body .na { color: #7D9029 } /* Name.Attribute */\n",
       "body .nb { color: #008000 } /* Name.Builtin */\n",
       "body .nc { color: #0000FF; font-weight: bold } /* Name.Class */\n",
       "body .no { color: #880000 } /* Name.Constant */\n",
       "body .nd { color: #AA22FF } /* Name.Decorator */\n",
       "body .ni { color: #999999; font-weight: bold } /* Name.Entity */\n",
       "body .ne { color: #D2413A; font-weight: bold } /* Name.Exception */\n",
       "body .nf { color: #0000FF } /* Name.Function */\n",
       "body .nl { color: #A0A000 } /* Name.Label */\n",
       "body .nn { color: #0000FF; font-weight: bold } /* Name.Namespace */\n",
       "body .nt { color: #008000; font-weight: bold } /* Name.Tag */\n",
       "body .nv { color: #19177C } /* Name.Variable */\n",
       "body .ow { color: #AA22FF; font-weight: bold } /* Operator.Word */\n",
       "body .w { color: #bbbbbb } /* Text.Whitespace */\n",
       "body .mb { color: #666666 } /* Literal.Number.Bin */\n",
       "body .mf { color: #666666 } /* Literal.Number.Float */\n",
       "body .mh { color: #666666 } /* Literal.Number.Hex */\n",
       "body .mi { color: #666666 } /* Literal.Number.Integer */\n",
       "body .mo { color: #666666 } /* Literal.Number.Oct */\n",
       "body .sa { color: #BA2121 } /* Literal.String.Affix */\n",
       "body .sb { color: #BA2121 } /* Literal.String.Backtick */\n",
       "body .sc { color: #BA2121 } /* Literal.String.Char */\n",
       "body .dl { color: #BA2121 } /* Literal.String.Delimiter */\n",
       "body .sd { color: #BA2121; font-style: italic } /* Literal.String.Doc */\n",
       "body .s2 { color: #BA2121 } /* Literal.String.Double */\n",
       "body .se { color: #BB6622; font-weight: bold } /* Literal.String.Escape */\n",
       "body .sh { color: #BA2121 } /* Literal.String.Heredoc */\n",
       "body .si { color: #BB6688; font-weight: bold } /* Literal.String.Interpol */\n",
       "body .sx { color: #008000 } /* Literal.String.Other */\n",
       "body .sr { color: #BB6688 } /* Literal.String.Regex */\n",
       "body .s1 { color: #BA2121 } /* Literal.String.Single */\n",
       "body .ss { color: #19177C } /* Literal.String.Symbol */\n",
       "body .bp { color: #008000 } /* Name.Builtin.Pseudo */\n",
       "body .fm { color: #0000FF } /* Name.Function.Magic */\n",
       "body .vc { color: #19177C } /* Name.Variable.Class */\n",
       "body .vg { color: #19177C } /* Name.Variable.Global */\n",
       "body .vi { color: #19177C } /* Name.Variable.Instance */\n",
       "body .vm { color: #19177C } /* Name.Variable.Magic */\n",
       "body .il { color: #666666 } /* Literal.Number.Integer.Long */\n",
       "\n",
       "  </style>\n",
       "</head>\n",
       "<body>\n",
       "<h2></h2>\n",
       "\n",
       "<div class=\"highlight\"><pre><span></span><span class=\"lineno\">1 </span>        <span class=\"c\">%% matrix</span>\n",
       "<span class=\"lineno\">2 </span>        <span class=\"p\">[</span><span class=\"n\">m</span><span class=\"p\">,</span><span class=\"n\">n</span><span class=\"p\">,</span><span class=\"n\">o</span><span class=\"p\">]=</span><span class=\"nb\">size</span><span class=\"p\">(</span><span class=\"n\">x</span><span class=\"p\">);</span>\n",
       "<span class=\"lineno\">3 </span>        <span class=\"n\">c</span><span class=\"p\">=</span><span class=\"nb\">zeros</span><span class=\"p\">(</span><span class=\"n\">n</span><span class=\"o\">*</span><span class=\"n\">nshifts</span><span class=\"p\">);</span>\n",
       "<span class=\"lineno\">4 </span>        <span class=\"k\">for</span> <span class=\"n\">k</span><span class=\"p\">=</span><span class=\"mi\">1</span><span class=\"p\">:</span><span class=\"n\">o</span>\n",
       "<span class=\"lineno\">5 </span>            <span class=\"n\">xx</span><span class=\"p\">=</span><span class=\"n\">nt_multishift</span><span class=\"p\">(</span><span class=\"n\">x</span><span class=\"p\">(:,:,</span><span class=\"n\">k</span><span class=\"p\">),</span><span class=\"n\">shifts</span><span class=\"p\">);</span>\n",
       "<span class=\"lineno\">6 </span>            <span class=\"n\">c</span><span class=\"p\">=</span><span class=\"n\">c</span><span class=\"o\">+</span><span class=\"n\">xx</span><span class=\"o\">&#39;*</span><span class=\"n\">xx</span><span class=\"p\">;</span>\n",
       "<span class=\"lineno\">7 </span>        <span class=\"k\">end</span>\n",
       "</pre></div>\n",
       "</body>\n",
       "</html>\n"
      ],
      "text/plain": [
       "<IPython.core.display.HTML object>"
      ]
     },
     "metadata": {},
     "output_type": "display_data"
    }
   ],
   "source": [
    "nt_cov_code = open(nt_cov, 'r').readlines()\n",
    "print_matlab_code(''.join(nt_cov_code[35:42]))"
   ]
  },
  {
   "cell_type": "markdown",
   "metadata": {},
   "source": [
    "Since `data` is shaped as `nsamples`-by-`nchans`-by-`ntrials` then so is `x`.\n",
    "\n",
    "For each `k`:\n",
    "- `xx` is the data from one trial,\n",
    "- `xx'*xx` is uncentered covariance of channels in time during a single trial.\n",
    "\n",
    "Then `c` is the sum of per-trial ucnentered covariances."
   ]
  },
  {
   "cell_type": "markdown",
   "metadata": {},
   "source": [
    "## Run the Matlab code"
   ]
  },
  {
   "cell_type": "code",
   "execution_count": 22,
   "metadata": {},
   "outputs": [
    {
     "data": {
      "text/html": [
       "<!DOCTYPE html PUBLIC \"-//W3C//DTD HTML 4.01//EN\"\n",
       "   \"http://www.w3.org/TR/html4/strict.dtd\">\n",
       "\n",
       "<html>\n",
       "<head>\n",
       "  <title></title>\n",
       "  <meta http-equiv=\"content-type\" content=\"text/html; charset=None\">\n",
       "  <style type=\"text/css\">\n",
       "td.linenos { background-color: #f0f0f0; padding-right: 10px; }\n",
       "span.lineno { background-color: #f0f0f0; padding: 0 5px 0 5px; }\n",
       "pre { line-height: 125%; }\n",
       "body .hll { background-color: #ffffcc }\n",
       "body  { background: #f8f8f8; }\n",
       "body .c { color: #408080; font-style: italic } /* Comment */\n",
       "body .err { border: 1px solid #FF0000 } /* Error */\n",
       "body .k { color: #008000; font-weight: bold } /* Keyword */\n",
       "body .o { color: #666666 } /* Operator */\n",
       "body .ch { color: #408080; font-style: italic } /* Comment.Hashbang */\n",
       "body .cm { color: #408080; font-style: italic } /* Comment.Multiline */\n",
       "body .cp { color: #BC7A00 } /* Comment.Preproc */\n",
       "body .cpf { color: #408080; font-style: italic } /* Comment.PreprocFile */\n",
       "body .c1 { color: #408080; font-style: italic } /* Comment.Single */\n",
       "body .cs { color: #408080; font-style: italic } /* Comment.Special */\n",
       "body .gd { color: #A00000 } /* Generic.Deleted */\n",
       "body .ge { font-style: italic } /* Generic.Emph */\n",
       "body .gr { color: #FF0000 } /* Generic.Error */\n",
       "body .gh { color: #000080; font-weight: bold } /* Generic.Heading */\n",
       "body .gi { color: #00A000 } /* Generic.Inserted */\n",
       "body .go { color: #888888 } /* Generic.Output */\n",
       "body .gp { color: #000080; font-weight: bold } /* Generic.Prompt */\n",
       "body .gs { font-weight: bold } /* Generic.Strong */\n",
       "body .gu { color: #800080; font-weight: bold } /* Generic.Subheading */\n",
       "body .gt { color: #0044DD } /* Generic.Traceback */\n",
       "body .kc { color: #008000; font-weight: bold } /* Keyword.Constant */\n",
       "body .kd { color: #008000; font-weight: bold } /* Keyword.Declaration */\n",
       "body .kn { color: #008000; font-weight: bold } /* Keyword.Namespace */\n",
       "body .kp { color: #008000 } /* Keyword.Pseudo */\n",
       "body .kr { color: #008000; font-weight: bold } /* Keyword.Reserved */\n",
       "body .kt { color: #B00040 } /* Keyword.Type */\n",
       "body .m { color: #666666 } /* Literal.Number */\n",
       "body .s { color: #BA2121 } /* Literal.String */\n",
       "body .na { color: #7D9029 } /* Name.Attribute */\n",
       "body .nb { color: #008000 } /* Name.Builtin */\n",
       "body .nc { color: #0000FF; font-weight: bold } /* Name.Class */\n",
       "body .no { color: #880000 } /* Name.Constant */\n",
       "body .nd { color: #AA22FF } /* Name.Decorator */\n",
       "body .ni { color: #999999; font-weight: bold } /* Name.Entity */\n",
       "body .ne { color: #D2413A; font-weight: bold } /* Name.Exception */\n",
       "body .nf { color: #0000FF } /* Name.Function */\n",
       "body .nl { color: #A0A000 } /* Name.Label */\n",
       "body .nn { color: #0000FF; font-weight: bold } /* Name.Namespace */\n",
       "body .nt { color: #008000; font-weight: bold } /* Name.Tag */\n",
       "body .nv { color: #19177C } /* Name.Variable */\n",
       "body .ow { color: #AA22FF; font-weight: bold } /* Operator.Word */\n",
       "body .w { color: #bbbbbb } /* Text.Whitespace */\n",
       "body .mb { color: #666666 } /* Literal.Number.Bin */\n",
       "body .mf { color: #666666 } /* Literal.Number.Float */\n",
       "body .mh { color: #666666 } /* Literal.Number.Hex */\n",
       "body .mi { color: #666666 } /* Literal.Number.Integer */\n",
       "body .mo { color: #666666 } /* Literal.Number.Oct */\n",
       "body .sa { color: #BA2121 } /* Literal.String.Affix */\n",
       "body .sb { color: #BA2121 } /* Literal.String.Backtick */\n",
       "body .sc { color: #BA2121 } /* Literal.String.Char */\n",
       "body .dl { color: #BA2121 } /* Literal.String.Delimiter */\n",
       "body .sd { color: #BA2121; font-style: italic } /* Literal.String.Doc */\n",
       "body .s2 { color: #BA2121 } /* Literal.String.Double */\n",
       "body .se { color: #BB6622; font-weight: bold } /* Literal.String.Escape */\n",
       "body .sh { color: #BA2121 } /* Literal.String.Heredoc */\n",
       "body .si { color: #BB6688; font-weight: bold } /* Literal.String.Interpol */\n",
       "body .sx { color: #008000 } /* Literal.String.Other */\n",
       "body .sr { color: #BB6688 } /* Literal.String.Regex */\n",
       "body .s1 { color: #BA2121 } /* Literal.String.Single */\n",
       "body .ss { color: #19177C } /* Literal.String.Symbol */\n",
       "body .bp { color: #008000 } /* Name.Builtin.Pseudo */\n",
       "body .fm { color: #0000FF } /* Name.Function.Magic */\n",
       "body .vc { color: #19177C } /* Name.Variable.Class */\n",
       "body .vg { color: #19177C } /* Name.Variable.Global */\n",
       "body .vi { color: #19177C } /* Name.Variable.Instance */\n",
       "body .vm { color: #19177C } /* Name.Variable.Magic */\n",
       "body .il { color: #666666 } /* Literal.Number.Integer.Long */\n",
       "\n",
       "  </style>\n",
       "</head>\n",
       "<body>\n",
       "<h2></h2>\n",
       "\n",
       "<div class=\"highlight\"><pre><span></span><span class=\"lineno\">1 </span><span class=\"n\">c0</span><span class=\"p\">=</span><span class=\"n\">nt_cov</span><span class=\"p\">(</span><span class=\"n\">data</span><span class=\"p\">);</span>\n",
       "<span class=\"lineno\">2 </span><span class=\"n\">c1</span><span class=\"p\">=</span><span class=\"n\">nt_cov</span><span class=\"p\">(</span><span class=\"n\">mean</span><span class=\"p\">(</span><span class=\"n\">data</span><span class=\"p\">,</span><span class=\"mi\">3</span><span class=\"p\">));</span>\n",
       "</pre></div>\n",
       "</body>\n",
       "</html>\n"
      ],
      "text/plain": [
       "<IPython.core.display.HTML object>"
      ]
     },
     "metadata": {},
     "output_type": "display_data"
    }
   ],
   "source": [
    "print_matlab_code(covariances_code)"
   ]
  },
  {
   "cell_type": "code",
   "execution_count": 23,
   "metadata": {},
   "outputs": [],
   "source": [
    "matlab.run_code(covariances_code)\n",
    "c0 = matlab.get_variable('c0')\n",
    "c1 = matlab.get_variable('c1')"
   ]
  },
  {
   "cell_type": "markdown",
   "metadata": {},
   "source": [
    "## Run the Python code"
   ]
  },
  {
   "cell_type": "code",
   "execution_count": 24,
   "metadata": {},
   "outputs": [
    {
     "data": {
      "text/html": [
       "<!DOCTYPE html PUBLIC \"-//W3C//DTD HTML 4.01//EN\"\n",
       "   \"http://www.w3.org/TR/html4/strict.dtd\">\n",
       "\n",
       "<html>\n",
       "<head>\n",
       "  <title></title>\n",
       "  <meta http-equiv=\"content-type\" content=\"text/html; charset=None\">\n",
       "  <style type=\"text/css\">\n",
       "td.linenos { background-color: #f0f0f0; padding-right: 10px; }\n",
       "span.lineno { background-color: #f0f0f0; padding: 0 5px 0 5px; }\n",
       "pre { line-height: 125%; }\n",
       "body .hll { background-color: #ffffcc }\n",
       "body  { background: #f8f8f8; }\n",
       "body .c { color: #408080; font-style: italic } /* Comment */\n",
       "body .err { border: 1px solid #FF0000 } /* Error */\n",
       "body .k { color: #008000; font-weight: bold } /* Keyword */\n",
       "body .o { color: #666666 } /* Operator */\n",
       "body .ch { color: #408080; font-style: italic } /* Comment.Hashbang */\n",
       "body .cm { color: #408080; font-style: italic } /* Comment.Multiline */\n",
       "body .cp { color: #BC7A00 } /* Comment.Preproc */\n",
       "body .cpf { color: #408080; font-style: italic } /* Comment.PreprocFile */\n",
       "body .c1 { color: #408080; font-style: italic } /* Comment.Single */\n",
       "body .cs { color: #408080; font-style: italic } /* Comment.Special */\n",
       "body .gd { color: #A00000 } /* Generic.Deleted */\n",
       "body .ge { font-style: italic } /* Generic.Emph */\n",
       "body .gr { color: #FF0000 } /* Generic.Error */\n",
       "body .gh { color: #000080; font-weight: bold } /* Generic.Heading */\n",
       "body .gi { color: #00A000 } /* Generic.Inserted */\n",
       "body .go { color: #888888 } /* Generic.Output */\n",
       "body .gp { color: #000080; font-weight: bold } /* Generic.Prompt */\n",
       "body .gs { font-weight: bold } /* Generic.Strong */\n",
       "body .gu { color: #800080; font-weight: bold } /* Generic.Subheading */\n",
       "body .gt { color: #0044DD } /* Generic.Traceback */\n",
       "body .kc { color: #008000; font-weight: bold } /* Keyword.Constant */\n",
       "body .kd { color: #008000; font-weight: bold } /* Keyword.Declaration */\n",
       "body .kn { color: #008000; font-weight: bold } /* Keyword.Namespace */\n",
       "body .kp { color: #008000 } /* Keyword.Pseudo */\n",
       "body .kr { color: #008000; font-weight: bold } /* Keyword.Reserved */\n",
       "body .kt { color: #B00040 } /* Keyword.Type */\n",
       "body .m { color: #666666 } /* Literal.Number */\n",
       "body .s { color: #BA2121 } /* Literal.String */\n",
       "body .na { color: #7D9029 } /* Name.Attribute */\n",
       "body .nb { color: #008000 } /* Name.Builtin */\n",
       "body .nc { color: #0000FF; font-weight: bold } /* Name.Class */\n",
       "body .no { color: #880000 } /* Name.Constant */\n",
       "body .nd { color: #AA22FF } /* Name.Decorator */\n",
       "body .ni { color: #999999; font-weight: bold } /* Name.Entity */\n",
       "body .ne { color: #D2413A; font-weight: bold } /* Name.Exception */\n",
       "body .nf { color: #0000FF } /* Name.Function */\n",
       "body .nl { color: #A0A000 } /* Name.Label */\n",
       "body .nn { color: #0000FF; font-weight: bold } /* Name.Namespace */\n",
       "body .nt { color: #008000; font-weight: bold } /* Name.Tag */\n",
       "body .nv { color: #19177C } /* Name.Variable */\n",
       "body .ow { color: #AA22FF; font-weight: bold } /* Operator.Word */\n",
       "body .w { color: #bbbbbb } /* Text.Whitespace */\n",
       "body .mb { color: #666666 } /* Literal.Number.Bin */\n",
       "body .mf { color: #666666 } /* Literal.Number.Float */\n",
       "body .mh { color: #666666 } /* Literal.Number.Hex */\n",
       "body .mi { color: #666666 } /* Literal.Number.Integer */\n",
       "body .mo { color: #666666 } /* Literal.Number.Oct */\n",
       "body .sa { color: #BA2121 } /* Literal.String.Affix */\n",
       "body .sb { color: #BA2121 } /* Literal.String.Backtick */\n",
       "body .sc { color: #BA2121 } /* Literal.String.Char */\n",
       "body .dl { color: #BA2121 } /* Literal.String.Delimiter */\n",
       "body .sd { color: #BA2121; font-style: italic } /* Literal.String.Doc */\n",
       "body .s2 { color: #BA2121 } /* Literal.String.Double */\n",
       "body .se { color: #BB6622; font-weight: bold } /* Literal.String.Escape */\n",
       "body .sh { color: #BA2121 } /* Literal.String.Heredoc */\n",
       "body .si { color: #BB6688; font-weight: bold } /* Literal.String.Interpol */\n",
       "body .sx { color: #008000 } /* Literal.String.Other */\n",
       "body .sr { color: #BB6688 } /* Literal.String.Regex */\n",
       "body .s1 { color: #BA2121 } /* Literal.String.Single */\n",
       "body .ss { color: #19177C } /* Literal.String.Symbol */\n",
       "body .bp { color: #008000 } /* Name.Builtin.Pseudo */\n",
       "body .fm { color: #0000FF } /* Name.Function.Magic */\n",
       "body .vc { color: #19177C } /* Name.Variable.Class */\n",
       "body .vg { color: #19177C } /* Name.Variable.Global */\n",
       "body .vi { color: #19177C } /* Name.Variable.Instance */\n",
       "body .vm { color: #19177C } /* Name.Variable.Magic */\n",
       "body .il { color: #666666 } /* Literal.Number.Integer.Long */\n",
       "\n",
       "  </style>\n",
       "</head>\n",
       "<body>\n",
       "<h2></h2>\n",
       "\n",
       "<div class=\"highlight\"><pre><span></span><span class=\"lineno\"> 1 </span><span class=\"k\">def</span> <span class=\"nf\">calculate_covariances</span><span class=\"p\">(</span><span class=\"n\">data</span><span class=\"p\">,</span> <span class=\"n\">uncentered</span><span class=\"o\">=</span><span class=\"bp\">False</span><span class=\"p\">,</span> <span class=\"n\">unnormalized</span><span class=\"o\">=</span><span class=\"bp\">False</span><span class=\"p\">):</span>\n",
       "<span class=\"lineno\"> 2 </span>    <span class=\"sd\">&quot;&quot;&quot;</span>\n",
       "<span class=\"lineno\"> 3 </span><span class=\"sd\">    Calculates averaged per-trial covariances and covariance of trial-averaged data.</span>\n",
       "<span class=\"lineno\"> 4 </span><span class=\"sd\">    :param data: n_samples x n_channels x n_trials matrix of data</span>\n",
       "<span class=\"lineno\"> 5 </span><span class=\"sd\">    :param uncentered: if True, does not subtract the time-axis mean</span>\n",
       "<span class=\"lineno\"> 6 </span><span class=\"sd\">    :param unnormalized: if True, no covariance are divided by (n_samples - 1) and R0 is a sum rather than a mean of</span>\n",
       "<span class=\"lineno\"> 7 </span><span class=\"sd\">                         covariance matrices</span>\n",
       "<span class=\"lineno\"> 8 </span><span class=\"sd\">    :return: R0 - averaged per-trial covariances</span>\n",
       "<span class=\"lineno\"> 9 </span><span class=\"sd\">             R1 - covariance of trial-averaged data</span>\n",
       "<span class=\"lineno\">10 </span><span class=\"sd\">    &quot;&quot;&quot;</span>\n",
       "<span class=\"lineno\">11 </span>    <span class=\"k\">if</span> <span class=\"ow\">not</span> <span class=\"n\">uncentered</span><span class=\"p\">:</span>\n",
       "<span class=\"lineno\">12 </span>        <span class=\"n\">data</span> <span class=\"o\">=</span> <span class=\"n\">data</span> <span class=\"o\">-</span> <span class=\"n\">np</span><span class=\"o\">.</span><span class=\"n\">mean</span><span class=\"p\">(</span><span class=\"n\">data</span><span class=\"p\">,</span> <span class=\"n\">axis</span><span class=\"o\">=</span><span class=\"mi\">0</span><span class=\"p\">)</span>\n",
       "<span class=\"lineno\">13 </span>\n",
       "<span class=\"lineno\">14 </span>    <span class=\"n\">R0</span> <span class=\"o\">=</span> <span class=\"nb\">sum</span><span class=\"p\">([</span><span class=\"n\">X</span><span class=\"o\">.</span><span class=\"n\">T</span> <span class=\"err\">@</span> <span class=\"n\">X</span> <span class=\"k\">for</span> <span class=\"n\">X</span> <span class=\"ow\">in</span> <span class=\"n\">np</span><span class=\"o\">.</span><span class=\"n\">moveaxis</span><span class=\"p\">(</span><span class=\"n\">data</span><span class=\"p\">,</span> <span class=\"mi\">2</span><span class=\"p\">,</span> <span class=\"mi\">0</span><span class=\"p\">)])</span>  <span class=\"c1\"># Iteration is over trials</span>\n",
       "<span class=\"lineno\">15 </span>\n",
       "<span class=\"lineno\">16 </span>    <span class=\"n\">M</span> <span class=\"o\">=</span> <span class=\"n\">np</span><span class=\"o\">.</span><span class=\"n\">mean</span><span class=\"p\">(</span><span class=\"n\">data</span><span class=\"p\">,</span> <span class=\"n\">axis</span><span class=\"o\">=</span><span class=\"mi\">2</span><span class=\"p\">)</span>  <span class=\"c1\"># Average over trials</span>\n",
       "<span class=\"lineno\">17 </span>    <span class=\"n\">R1</span> <span class=\"o\">=</span> <span class=\"n\">M</span><span class=\"o\">.</span><span class=\"n\">T</span> <span class=\"err\">@</span> <span class=\"n\">M</span>\n",
       "<span class=\"lineno\">18 </span>\n",
       "<span class=\"lineno\">19 </span>    <span class=\"k\">if</span> <span class=\"ow\">not</span> <span class=\"n\">unnormalized</span><span class=\"p\">:</span>\n",
       "<span class=\"lineno\">20 </span>        <span class=\"n\">n_samples</span><span class=\"p\">,</span> <span class=\"n\">n_trials</span> <span class=\"o\">=</span> <span class=\"n\">data</span><span class=\"o\">.</span><span class=\"n\">shape</span><span class=\"p\">[:</span><span class=\"mi\">2</span><span class=\"p\">]</span>\n",
       "<span class=\"lineno\">21 </span>        <span class=\"n\">R0</span> <span class=\"o\">/=</span> <span class=\"p\">(</span><span class=\"n\">n_samples</span> <span class=\"o\">-</span> <span class=\"mi\">1</span><span class=\"p\">)</span> <span class=\"o\">*</span> <span class=\"n\">n_trials</span>\n",
       "<span class=\"lineno\">22 </span>        <span class=\"n\">R1</span> <span class=\"o\">/=</span> <span class=\"p\">(</span><span class=\"n\">n_samples</span> <span class=\"o\">-</span> <span class=\"mi\">1</span><span class=\"p\">)</span>\n",
       "<span class=\"lineno\">23 </span>\n",
       "<span class=\"lineno\">24 </span>    <span class=\"k\">return</span> <span class=\"n\">R0</span><span class=\"p\">,</span> <span class=\"n\">R1</span>\n",
       "</pre></div>\n",
       "</body>\n",
       "</html>\n"
      ],
      "text/plain": [
       "<IPython.core.display.HTML object>"
      ]
     },
     "metadata": {},
     "output_type": "display_data"
    }
   ],
   "source": [
    "print_python_function(dss.calculate_covariances)"
   ]
  },
  {
   "cell_type": "code",
   "execution_count": 25,
   "metadata": {},
   "outputs": [],
   "source": [
    "R0, R1 = dss.calculate_covariances(data, uncentered=True, unnormalized=True)"
   ]
  },
  {
   "cell_type": "markdown",
   "metadata": {},
   "source": [
    "## Match"
   ]
  },
  {
   "cell_type": "code",
   "execution_count": 26,
   "metadata": {},
   "outputs": [
    {
     "data": {
      "text/plain": [
       "True"
      ]
     },
     "execution_count": 26,
     "metadata": {},
     "output_type": "execute_result"
    }
   ],
   "source": [
    "np.allclose(R0, c0)"
   ]
  },
  {
   "cell_type": "code",
   "execution_count": 27,
   "metadata": {},
   "outputs": [
    {
     "data": {
      "text/plain": [
       "True"
      ]
     },
     "execution_count": 27,
     "metadata": {},
     "output_type": "execute_result"
    }
   ],
   "source": [
    "np.allclose(R1, c1)"
   ]
  },
  {
   "cell_type": "markdown",
   "metadata": {},
   "source": [
    "# PCA"
   ]
  },
  {
   "cell_type": "markdown",
   "metadata": {},
   "source": [
    "The DSS algorithm includes two PCA rotations. Let's check that we do it in the same manner."
   ]
  },
  {
   "cell_type": "markdown",
   "metadata": {},
   "source": [
    "## Take a look at the `NoiseTools` code"
   ]
  },
  {
   "cell_type": "code",
   "execution_count": 28,
   "metadata": {},
   "outputs": [
    {
     "data": {
      "text/html": [
       "<!DOCTYPE html PUBLIC \"-//W3C//DTD HTML 4.01//EN\"\n",
       "   \"http://www.w3.org/TR/html4/strict.dtd\">\n",
       "\n",
       "<html>\n",
       "<head>\n",
       "  <title></title>\n",
       "  <meta http-equiv=\"content-type\" content=\"text/html; charset=None\">\n",
       "  <style type=\"text/css\">\n",
       "td.linenos { background-color: #f0f0f0; padding-right: 10px; }\n",
       "span.lineno { background-color: #f0f0f0; padding: 0 5px 0 5px; }\n",
       "pre { line-height: 125%; }\n",
       "body .hll { background-color: #ffffcc }\n",
       "body  { background: #f8f8f8; }\n",
       "body .c { color: #408080; font-style: italic } /* Comment */\n",
       "body .err { border: 1px solid #FF0000 } /* Error */\n",
       "body .k { color: #008000; font-weight: bold } /* Keyword */\n",
       "body .o { color: #666666 } /* Operator */\n",
       "body .ch { color: #408080; font-style: italic } /* Comment.Hashbang */\n",
       "body .cm { color: #408080; font-style: italic } /* Comment.Multiline */\n",
       "body .cp { color: #BC7A00 } /* Comment.Preproc */\n",
       "body .cpf { color: #408080; font-style: italic } /* Comment.PreprocFile */\n",
       "body .c1 { color: #408080; font-style: italic } /* Comment.Single */\n",
       "body .cs { color: #408080; font-style: italic } /* Comment.Special */\n",
       "body .gd { color: #A00000 } /* Generic.Deleted */\n",
       "body .ge { font-style: italic } /* Generic.Emph */\n",
       "body .gr { color: #FF0000 } /* Generic.Error */\n",
       "body .gh { color: #000080; font-weight: bold } /* Generic.Heading */\n",
       "body .gi { color: #00A000 } /* Generic.Inserted */\n",
       "body .go { color: #888888 } /* Generic.Output */\n",
       "body .gp { color: #000080; font-weight: bold } /* Generic.Prompt */\n",
       "body .gs { font-weight: bold } /* Generic.Strong */\n",
       "body .gu { color: #800080; font-weight: bold } /* Generic.Subheading */\n",
       "body .gt { color: #0044DD } /* Generic.Traceback */\n",
       "body .kc { color: #008000; font-weight: bold } /* Keyword.Constant */\n",
       "body .kd { color: #008000; font-weight: bold } /* Keyword.Declaration */\n",
       "body .kn { color: #008000; font-weight: bold } /* Keyword.Namespace */\n",
       "body .kp { color: #008000 } /* Keyword.Pseudo */\n",
       "body .kr { color: #008000; font-weight: bold } /* Keyword.Reserved */\n",
       "body .kt { color: #B00040 } /* Keyword.Type */\n",
       "body .m { color: #666666 } /* Literal.Number */\n",
       "body .s { color: #BA2121 } /* Literal.String */\n",
       "body .na { color: #7D9029 } /* Name.Attribute */\n",
       "body .nb { color: #008000 } /* Name.Builtin */\n",
       "body .nc { color: #0000FF; font-weight: bold } /* Name.Class */\n",
       "body .no { color: #880000 } /* Name.Constant */\n",
       "body .nd { color: #AA22FF } /* Name.Decorator */\n",
       "body .ni { color: #999999; font-weight: bold } /* Name.Entity */\n",
       "body .ne { color: #D2413A; font-weight: bold } /* Name.Exception */\n",
       "body .nf { color: #0000FF } /* Name.Function */\n",
       "body .nl { color: #A0A000 } /* Name.Label */\n",
       "body .nn { color: #0000FF; font-weight: bold } /* Name.Namespace */\n",
       "body .nt { color: #008000; font-weight: bold } /* Name.Tag */\n",
       "body .nv { color: #19177C } /* Name.Variable */\n",
       "body .ow { color: #AA22FF; font-weight: bold } /* Operator.Word */\n",
       "body .w { color: #bbbbbb } /* Text.Whitespace */\n",
       "body .mb { color: #666666 } /* Literal.Number.Bin */\n",
       "body .mf { color: #666666 } /* Literal.Number.Float */\n",
       "body .mh { color: #666666 } /* Literal.Number.Hex */\n",
       "body .mi { color: #666666 } /* Literal.Number.Integer */\n",
       "body .mo { color: #666666 } /* Literal.Number.Oct */\n",
       "body .sa { color: #BA2121 } /* Literal.String.Affix */\n",
       "body .sb { color: #BA2121 } /* Literal.String.Backtick */\n",
       "body .sc { color: #BA2121 } /* Literal.String.Char */\n",
       "body .dl { color: #BA2121 } /* Literal.String.Delimiter */\n",
       "body .sd { color: #BA2121; font-style: italic } /* Literal.String.Doc */\n",
       "body .s2 { color: #BA2121 } /* Literal.String.Double */\n",
       "body .se { color: #BB6622; font-weight: bold } /* Literal.String.Escape */\n",
       "body .sh { color: #BA2121 } /* Literal.String.Heredoc */\n",
       "body .si { color: #BB6688; font-weight: bold } /* Literal.String.Interpol */\n",
       "body .sx { color: #008000 } /* Literal.String.Other */\n",
       "body .sr { color: #BB6688 } /* Literal.String.Regex */\n",
       "body .s1 { color: #BA2121 } /* Literal.String.Single */\n",
       "body .ss { color: #19177C } /* Literal.String.Symbol */\n",
       "body .bp { color: #008000 } /* Name.Builtin.Pseudo */\n",
       "body .fm { color: #0000FF } /* Name.Function.Magic */\n",
       "body .vc { color: #19177C } /* Name.Variable.Class */\n",
       "body .vg { color: #19177C } /* Name.Variable.Global */\n",
       "body .vi { color: #19177C } /* Name.Variable.Instance */\n",
       "body .vm { color: #19177C } /* Name.Variable.Magic */\n",
       "body .il { color: #666666 } /* Literal.Number.Integer.Long */\n",
       "\n",
       "  </style>\n",
       "</head>\n",
       "<body>\n",
       "<h2></h2>\n",
       "\n",
       "<div class=\"highlight\"><pre><span></span><span class=\"lineno\"> 1 </span><span class=\"k\">function</span><span class=\"w\"> </span>[topcs,eigenvalues]<span class=\"p\">=</span><span class=\"nf\">nt_pcarot</span><span class=\"p\">(</span>cov,nkeep,threshold,N<span class=\"p\">)</span><span class=\"w\"></span>\n",
       "<span class=\"lineno\"> 2 </span><span class=\"c\">% [topcs,eigenvalues]=pcarot(cov,nkeep,threshold,N) - PCA matrix from covariance</span>\n",
       "<span class=\"lineno\"> 3 </span><span class=\"c\">%</span>\n",
       "<span class=\"lineno\"> 4 </span><span class=\"c\">%  topcs: PCA rotation matrix</span>\n",
       "<span class=\"lineno\"> 5 </span><span class=\"c\">%  eigenvalues: PCA eigenvalues</span>\n",
       "<span class=\"lineno\"> 6 </span><span class=\"c\">%  </span>\n",
       "<span class=\"lineno\"> 7 </span><span class=\"c\">%  cov: covariance matrix</span>\n",
       "<span class=\"lineno\"> 8 </span><span class=\"c\">%  nkeep: number of component to keep</span>\n",
       "<span class=\"lineno\"> 9 </span><span class=\"c\">%  thresholds: discard components below this threshold</span>\n",
       "<span class=\"lineno\">10 </span><span class=\"c\">%  N: eigs&#39; K parameter (if absent: use eig)</span>\n",
       "<span class=\"lineno\">11 </span><span class=\"c\">%</span>\n",
       "<span class=\"lineno\">12 </span><span class=\"c\">% NoiseTools</span>\n",
       "<span class=\"lineno\">13 </span>\n",
       "<span class=\"lineno\">14 </span><span class=\"k\">if</span> <span class=\"n\">nargin</span><span class=\"o\">&lt;</span><span class=\"mi\">4</span><span class=\"p\">;</span> <span class=\"n\">N</span><span class=\"p\">=[];</span> <span class=\"k\">end</span>\n",
       "<span class=\"lineno\">15 </span><span class=\"k\">if</span> <span class=\"n\">nargin</span><span class=\"o\">&lt;</span><span class=\"mi\">3</span><span class=\"p\">;</span> <span class=\"n\">threshold</span><span class=\"p\">=[];</span> <span class=\"k\">end</span>\n",
       "<span class=\"lineno\">16 </span><span class=\"k\">if</span> <span class=\"n\">nargin</span><span class=\"o\">&lt;</span><span class=\"mi\">2</span><span class=\"p\">;</span> <span class=\"n\">nkeep</span><span class=\"p\">=[];</span> <span class=\"k\">end</span>\n",
       "<span class=\"lineno\">17 </span>\n",
       "<span class=\"lineno\">18 </span><span class=\"k\">if</span> <span class=\"o\">~</span><span class=\"nb\">isempty</span><span class=\"p\">(</span><span class=\"n\">N</span><span class=\"p\">);</span> \n",
       "<span class=\"lineno\">19 </span>    <span class=\"p\">[</span><span class=\"n\">V</span><span class=\"p\">,</span> <span class=\"n\">S</span><span class=\"p\">]</span> <span class=\"p\">=</span> <span class=\"n\">eigs</span><span class=\"p\">(</span><span class=\"n\">cov</span><span class=\"p\">,</span><span class=\"n\">N</span><span class=\"p\">)</span> <span class=\"p\">;</span>  \n",
       "<span class=\"lineno\">20 </span><span class=\"k\">else</span>\n",
       "<span class=\"lineno\">21 </span>    <span class=\"p\">[</span><span class=\"n\">V</span><span class=\"p\">,</span> <span class=\"n\">S</span><span class=\"p\">]</span> <span class=\"p\">=</span> <span class=\"n\">eig</span><span class=\"p\">(</span><span class=\"n\">cov</span><span class=\"p\">)</span> <span class=\"p\">;</span>  \n",
       "<span class=\"lineno\">22 </span><span class=\"k\">end</span>\n",
       "<span class=\"lineno\">23 </span>\n",
       "<span class=\"lineno\">24 </span><span class=\"n\">V</span><span class=\"p\">=</span><span class=\"nb\">real</span><span class=\"p\">(</span><span class=\"n\">V</span><span class=\"p\">);</span>\n",
       "<span class=\"lineno\">25 </span><span class=\"n\">S</span><span class=\"p\">=</span><span class=\"nb\">real</span><span class=\"p\">(</span><span class=\"n\">S</span><span class=\"p\">);</span>\n",
       "<span class=\"lineno\">26 </span><span class=\"p\">[</span><span class=\"n\">eigenvalues</span><span class=\"p\">,</span> <span class=\"n\">idx</span><span class=\"p\">]</span> <span class=\"p\">=</span> <span class=\"n\">sort</span><span class=\"p\">(</span><span class=\"nb\">diag</span><span class=\"p\">(</span><span class=\"n\">S</span><span class=\"p\">)</span><span class=\"o\">&#39;</span><span class=\"p\">,</span> <span class=\"s\">&#39;descend&#39;</span><span class=\"p\">)</span> <span class=\"p\">;</span>\n",
       "<span class=\"lineno\">27 </span><span class=\"n\">topcs</span> <span class=\"p\">=</span> <span class=\"n\">V</span><span class=\"p\">(:,</span><span class=\"n\">idx</span><span class=\"p\">);</span>\n",
       "<span class=\"lineno\">28 </span>\n",
       "<span class=\"lineno\">29 </span><span class=\"c\">% truncate</span>\n",
       "<span class=\"lineno\">30 </span><span class=\"k\">if</span> <span class=\"o\">~</span><span class=\"nb\">isempty</span> <span class=\"p\">(</span><span class=\"n\">threshold</span><span class=\"p\">)</span>\n",
       "<span class=\"lineno\">31 </span>    <span class=\"n\">ii</span><span class=\"p\">=</span><span class=\"nb\">find</span><span class=\"p\">(</span><span class=\"n\">eigenvalues</span><span class=\"o\">/</span><span class=\"n\">eigenvalues</span><span class=\"p\">(</span><span class=\"mi\">1</span><span class=\"p\">)</span><span class=\"o\">&gt;</span><span class=\"n\">threshold</span><span class=\"p\">);</span>\n",
       "<span class=\"lineno\">32 </span>    <span class=\"n\">topcs</span><span class=\"p\">=</span><span class=\"n\">topcs</span><span class=\"p\">(:,</span><span class=\"n\">ii</span><span class=\"p\">);</span>\n",
       "<span class=\"lineno\">33 </span>    <span class=\"n\">eigenvalues</span><span class=\"p\">=</span><span class=\"n\">eigenvalues</span><span class=\"p\">(</span><span class=\"n\">ii</span><span class=\"p\">);</span>\n",
       "<span class=\"lineno\">34 </span><span class=\"k\">end</span>\n",
       "<span class=\"lineno\">35 </span>\n",
       "<span class=\"lineno\">36 </span><span class=\"k\">if</span> <span class=\"o\">~</span><span class=\"nb\">isempty</span><span class=\"p\">(</span><span class=\"n\">nkeep</span><span class=\"p\">)</span>\n",
       "<span class=\"lineno\">37 </span>    <span class=\"n\">nkeep</span><span class=\"p\">=</span><span class=\"n\">min</span><span class=\"p\">(</span><span class=\"n\">nkeep</span><span class=\"p\">,</span><span class=\"nb\">size</span><span class=\"p\">(</span><span class=\"n\">topcs</span><span class=\"p\">,</span><span class=\"mi\">2</span><span class=\"p\">));</span>\n",
       "<span class=\"lineno\">38 </span>    <span class=\"n\">topcs</span><span class=\"p\">=</span><span class=\"n\">topcs</span><span class=\"p\">(:,</span><span class=\"mi\">1</span><span class=\"p\">:</span><span class=\"n\">nkeep</span><span class=\"p\">);</span>\n",
       "<span class=\"lineno\">39 </span>    <span class=\"n\">eigenvalues</span><span class=\"p\">=</span><span class=\"n\">eigenvalues</span><span class=\"p\">(</span><span class=\"mi\">1</span><span class=\"p\">:</span><span class=\"n\">nkeep</span><span class=\"p\">);</span>\n",
       "<span class=\"lineno\">40 </span><span class=\"k\">end</span>\n",
       "</pre></div>\n",
       "</body>\n",
       "</html>\n"
      ],
      "text/plain": [
       "<IPython.core.display.HTML object>"
      ]
     },
     "metadata": {},
     "output_type": "display_data"
    }
   ],
   "source": [
    "pca_path = noise_tools_dir / 'nt_pcarot.m'\n",
    "print_matlab_script(pca_path)"
   ]
  },
  {
   "cell_type": "markdown",
   "metadata": {},
   "source": [
    "We won't be working with sparse matrices so the Python code won't have the `N` parameter."
   ]
  },
  {
   "cell_type": "markdown",
   "metadata": {},
   "source": [
    "## Take a look at the Python code"
   ]
  },
  {
   "cell_type": "code",
   "execution_count": 29,
   "metadata": {},
   "outputs": [
    {
     "data": {
      "text/html": [
       "<!DOCTYPE html PUBLIC \"-//W3C//DTD HTML 4.01//EN\"\n",
       "   \"http://www.w3.org/TR/html4/strict.dtd\">\n",
       "\n",
       "<html>\n",
       "<head>\n",
       "  <title></title>\n",
       "  <meta http-equiv=\"content-type\" content=\"text/html; charset=None\">\n",
       "  <style type=\"text/css\">\n",
       "td.linenos { background-color: #f0f0f0; padding-right: 10px; }\n",
       "span.lineno { background-color: #f0f0f0; padding: 0 5px 0 5px; }\n",
       "pre { line-height: 125%; }\n",
       "body .hll { background-color: #ffffcc }\n",
       "body  { background: #f8f8f8; }\n",
       "body .c { color: #408080; font-style: italic } /* Comment */\n",
       "body .err { border: 1px solid #FF0000 } /* Error */\n",
       "body .k { color: #008000; font-weight: bold } /* Keyword */\n",
       "body .o { color: #666666 } /* Operator */\n",
       "body .ch { color: #408080; font-style: italic } /* Comment.Hashbang */\n",
       "body .cm { color: #408080; font-style: italic } /* Comment.Multiline */\n",
       "body .cp { color: #BC7A00 } /* Comment.Preproc */\n",
       "body .cpf { color: #408080; font-style: italic } /* Comment.PreprocFile */\n",
       "body .c1 { color: #408080; font-style: italic } /* Comment.Single */\n",
       "body .cs { color: #408080; font-style: italic } /* Comment.Special */\n",
       "body .gd { color: #A00000 } /* Generic.Deleted */\n",
       "body .ge { font-style: italic } /* Generic.Emph */\n",
       "body .gr { color: #FF0000 } /* Generic.Error */\n",
       "body .gh { color: #000080; font-weight: bold } /* Generic.Heading */\n",
       "body .gi { color: #00A000 } /* Generic.Inserted */\n",
       "body .go { color: #888888 } /* Generic.Output */\n",
       "body .gp { color: #000080; font-weight: bold } /* Generic.Prompt */\n",
       "body .gs { font-weight: bold } /* Generic.Strong */\n",
       "body .gu { color: #800080; font-weight: bold } /* Generic.Subheading */\n",
       "body .gt { color: #0044DD } /* Generic.Traceback */\n",
       "body .kc { color: #008000; font-weight: bold } /* Keyword.Constant */\n",
       "body .kd { color: #008000; font-weight: bold } /* Keyword.Declaration */\n",
       "body .kn { color: #008000; font-weight: bold } /* Keyword.Namespace */\n",
       "body .kp { color: #008000 } /* Keyword.Pseudo */\n",
       "body .kr { color: #008000; font-weight: bold } /* Keyword.Reserved */\n",
       "body .kt { color: #B00040 } /* Keyword.Type */\n",
       "body .m { color: #666666 } /* Literal.Number */\n",
       "body .s { color: #BA2121 } /* Literal.String */\n",
       "body .na { color: #7D9029 } /* Name.Attribute */\n",
       "body .nb { color: #008000 } /* Name.Builtin */\n",
       "body .nc { color: #0000FF; font-weight: bold } /* Name.Class */\n",
       "body .no { color: #880000 } /* Name.Constant */\n",
       "body .nd { color: #AA22FF } /* Name.Decorator */\n",
       "body .ni { color: #999999; font-weight: bold } /* Name.Entity */\n",
       "body .ne { color: #D2413A; font-weight: bold } /* Name.Exception */\n",
       "body .nf { color: #0000FF } /* Name.Function */\n",
       "body .nl { color: #A0A000 } /* Name.Label */\n",
       "body .nn { color: #0000FF; font-weight: bold } /* Name.Namespace */\n",
       "body .nt { color: #008000; font-weight: bold } /* Name.Tag */\n",
       "body .nv { color: #19177C } /* Name.Variable */\n",
       "body .ow { color: #AA22FF; font-weight: bold } /* Operator.Word */\n",
       "body .w { color: #bbbbbb } /* Text.Whitespace */\n",
       "body .mb { color: #666666 } /* Literal.Number.Bin */\n",
       "body .mf { color: #666666 } /* Literal.Number.Float */\n",
       "body .mh { color: #666666 } /* Literal.Number.Hex */\n",
       "body .mi { color: #666666 } /* Literal.Number.Integer */\n",
       "body .mo { color: #666666 } /* Literal.Number.Oct */\n",
       "body .sa { color: #BA2121 } /* Literal.String.Affix */\n",
       "body .sb { color: #BA2121 } /* Literal.String.Backtick */\n",
       "body .sc { color: #BA2121 } /* Literal.String.Char */\n",
       "body .dl { color: #BA2121 } /* Literal.String.Delimiter */\n",
       "body .sd { color: #BA2121; font-style: italic } /* Literal.String.Doc */\n",
       "body .s2 { color: #BA2121 } /* Literal.String.Double */\n",
       "body .se { color: #BB6622; font-weight: bold } /* Literal.String.Escape */\n",
       "body .sh { color: #BA2121 } /* Literal.String.Heredoc */\n",
       "body .si { color: #BB6688; font-weight: bold } /* Literal.String.Interpol */\n",
       "body .sx { color: #008000 } /* Literal.String.Other */\n",
       "body .sr { color: #BB6688 } /* Literal.String.Regex */\n",
       "body .s1 { color: #BA2121 } /* Literal.String.Single */\n",
       "body .ss { color: #19177C } /* Literal.String.Symbol */\n",
       "body .bp { color: #008000 } /* Name.Builtin.Pseudo */\n",
       "body .fm { color: #0000FF } /* Name.Function.Magic */\n",
       "body .vc { color: #19177C } /* Name.Variable.Class */\n",
       "body .vg { color: #19177C } /* Name.Variable.Global */\n",
       "body .vi { color: #19177C } /* Name.Variable.Instance */\n",
       "body .vm { color: #19177C } /* Name.Variable.Magic */\n",
       "body .il { color: #666666 } /* Literal.Number.Integer.Long */\n",
       "\n",
       "  </style>\n",
       "</head>\n",
       "<body>\n",
       "<h2></h2>\n",
       "\n",
       "<div class=\"highlight\"><pre><span></span><span class=\"lineno\"> 1 </span><span class=\"k\">def</span> <span class=\"nf\">covariance_pca</span><span class=\"p\">(</span><span class=\"n\">R</span><span class=\"p\">,</span> <span class=\"n\">n_keep</span><span class=\"o\">=</span><span class=\"bp\">None</span><span class=\"p\">,</span> <span class=\"n\">threshold</span><span class=\"o\">=-</span><span class=\"mi\">1</span><span class=\"p\">,</span> <span class=\"n\">descending</span><span class=\"o\">=</span><span class=\"bp\">True</span><span class=\"p\">):</span>\n",
       "<span class=\"lineno\"> 2 </span>    <span class=\"sd\">&quot;&quot;&quot;</span>\n",
       "<span class=\"lineno\"> 3 </span><span class=\"sd\">    Run PCA on a covariance matrix</span>\n",
       "<span class=\"lineno\"> 4 </span><span class=\"sd\">    :param R: the covariance matrix</span>\n",
       "<span class=\"lineno\"> 5 </span><span class=\"sd\">    :param n_keep: keep only the first n_keep principal components</span>\n",
       "<span class=\"lineno\"> 6 </span><span class=\"sd\">    :param threshold: removes eigenvalues that are smaller than m * threshold where m is the maximum eigenvalue and</span>\n",
       "<span class=\"lineno\"> 7 </span><span class=\"sd\">                      corresponding eigenvectors.</span>\n",
       "<span class=\"lineno\"> 8 </span><span class=\"sd\">                      If threshold is None then it is set to the machine precision times max(R.shape).</span>\n",
       "<span class=\"lineno\"> 9 </span><span class=\"sd\">                      Ignored if n_keep is not None or if threshold == -1.</span>\n",
       "<span class=\"lineno\">10 </span><span class=\"sd\">    :param descending: if True, returns the results in the descending order of eigenvalues</span>\n",
       "<span class=\"lineno\">11 </span><span class=\"sd\">    :return: eigvals - eigenvlaues, eigvecs - PCA rotation matrix</span>\n",
       "<span class=\"lineno\">12 </span><span class=\"sd\">    &quot;&quot;&quot;</span>\n",
       "<span class=\"lineno\">13 </span>    <span class=\"n\">eigvals</span><span class=\"p\">,</span> <span class=\"n\">eigvecs</span> <span class=\"o\">=</span> <span class=\"n\">np</span><span class=\"o\">.</span><span class=\"n\">linalg</span><span class=\"o\">.</span><span class=\"n\">eigh</span><span class=\"p\">(</span><span class=\"n\">R</span><span class=\"p\">)</span>\n",
       "<span class=\"lineno\">14 </span>\n",
       "<span class=\"lineno\">15 </span>    <span class=\"k\">if</span> <span class=\"n\">n_keep</span> <span class=\"ow\">is</span> <span class=\"ow\">not</span> <span class=\"bp\">None</span><span class=\"p\">:</span>\n",
       "<span class=\"lineno\">16 </span>        <span class=\"n\">eigvals</span> <span class=\"o\">=</span> <span class=\"n\">eigvals</span><span class=\"p\">[</span><span class=\"o\">-</span><span class=\"n\">n_keep</span><span class=\"p\">:]</span>\n",
       "<span class=\"lineno\">17 </span>        <span class=\"n\">eigvecs</span> <span class=\"o\">=</span> <span class=\"n\">eigvecs</span><span class=\"p\">[:,</span> <span class=\"o\">-</span><span class=\"n\">n_keep</span><span class=\"p\">:]</span>\n",
       "<span class=\"lineno\">18 </span>\n",
       "<span class=\"lineno\">19 </span>    <span class=\"k\">else</span><span class=\"p\">:</span>\n",
       "<span class=\"lineno\">20 </span>        <span class=\"k\">if</span> <span class=\"n\">threshold</span> <span class=\"o\">==</span> <span class=\"o\">-</span><span class=\"mi\">1</span><span class=\"p\">:</span>\n",
       "<span class=\"lineno\">21 </span>            <span class=\"k\">pass</span>\n",
       "<span class=\"lineno\">22 </span>        <span class=\"k\">else</span><span class=\"p\">:</span>\n",
       "<span class=\"lineno\">23 </span>            <span class=\"k\">if</span> <span class=\"n\">threshold</span> <span class=\"ow\">is</span> <span class=\"bp\">None</span><span class=\"p\">:</span>\n",
       "<span class=\"lineno\">24 </span>                <span class=\"n\">threshold</span> <span class=\"o\">=</span> <span class=\"n\">np</span><span class=\"o\">.</span><span class=\"n\">finfo</span><span class=\"p\">(</span><span class=\"n\">R</span><span class=\"p\">[</span><span class=\"mi\">0</span><span class=\"p\">,</span> <span class=\"mi\">0</span><span class=\"p\">])</span><span class=\"o\">.</span><span class=\"n\">eps</span> <span class=\"o\">*</span> <span class=\"nb\">max</span><span class=\"p\">(</span><span class=\"n\">R</span><span class=\"o\">.</span><span class=\"n\">shape</span><span class=\"p\">)</span>\n",
       "<span class=\"lineno\">25 </span>\n",
       "<span class=\"lineno\">26 </span>            <span class=\"n\">abs_threshold</span> <span class=\"o\">=</span> <span class=\"n\">threshold</span> <span class=\"o\">*</span> <span class=\"nb\">max</span><span class=\"p\">(</span><span class=\"n\">eigvals</span><span class=\"p\">)</span>\n",
       "<span class=\"lineno\">27 </span>            <span class=\"n\">eigvecs</span> <span class=\"o\">=</span> <span class=\"n\">eigvecs</span><span class=\"p\">[:,</span> <span class=\"n\">eigvals</span> <span class=\"o\">&gt;</span> <span class=\"n\">abs_threshold</span><span class=\"p\">]</span>\n",
       "<span class=\"lineno\">28 </span>            <span class=\"n\">eigvals</span> <span class=\"o\">=</span> <span class=\"n\">eigvals</span><span class=\"p\">[</span><span class=\"n\">eigvals</span> <span class=\"o\">&gt;</span> <span class=\"n\">abs_threshold</span><span class=\"p\">]</span>\n",
       "<span class=\"lineno\">29 </span>\n",
       "<span class=\"lineno\">30 </span>    <span class=\"c1\"># np.linalg.eigh returns eigenvalues in ascending order, let&#39;s fix that</span>\n",
       "<span class=\"lineno\">31 </span>    <span class=\"k\">if</span> <span class=\"n\">descending</span><span class=\"p\">:</span>\n",
       "<span class=\"lineno\">32 </span>        <span class=\"n\">eigvals</span> <span class=\"o\">=</span> <span class=\"n\">eigvals</span><span class=\"p\">[::</span><span class=\"o\">-</span><span class=\"mi\">1</span><span class=\"p\">]</span>\n",
       "<span class=\"lineno\">33 </span>        <span class=\"n\">eigvecs</span> <span class=\"o\">=</span> <span class=\"n\">eigvecs</span><span class=\"p\">[:,</span> <span class=\"p\">::</span><span class=\"o\">-</span><span class=\"mi\">1</span><span class=\"p\">]</span>\n",
       "<span class=\"lineno\">34 </span>\n",
       "<span class=\"lineno\">35 </span>    <span class=\"k\">return</span> <span class=\"n\">eigvals</span><span class=\"p\">,</span> <span class=\"n\">eigvecs</span>\n",
       "</pre></div>\n",
       "</body>\n",
       "</html>\n"
      ],
      "text/plain": [
       "<IPython.core.display.HTML object>"
      ]
     },
     "metadata": {},
     "output_type": "display_data"
    }
   ],
   "source": [
    "print_python_function(dss.covariance_pca)"
   ]
  },
  {
   "cell_type": "markdown",
   "metadata": {},
   "source": [
    "## Run the code"
   ]
  },
  {
   "cell_type": "markdown",
   "metadata": {},
   "source": [
    "### Matlab"
   ]
  },
  {
   "cell_type": "code",
   "execution_count": 30,
   "metadata": {},
   "outputs": [],
   "source": [
    "matlab.run_code('[E, D] = nt_pcarot(c0);')\n",
    "E = matlab.get_variable('E')\n",
    "D = matlab.get_variable('D')"
   ]
  },
  {
   "cell_type": "markdown",
   "metadata": {},
   "source": [
    "### Python"
   ]
  },
  {
   "cell_type": "code",
   "execution_count": 31,
   "metadata": {},
   "outputs": [],
   "source": [
    "eigvals, eigvecs = dss.covariance_pca(R0)"
   ]
  },
  {
   "cell_type": "markdown",
   "metadata": {},
   "source": [
    "## Match"
   ]
  },
  {
   "cell_type": "code",
   "execution_count": 32,
   "metadata": {},
   "outputs": [
    {
     "data": {
      "text/plain": [
       "True"
      ]
     },
     "execution_count": 32,
     "metadata": {},
     "output_type": "execute_result"
    }
   ],
   "source": [
    "np.allclose(eigvals, D)"
   ]
  },
  {
   "cell_type": "code",
   "execution_count": 33,
   "metadata": {},
   "outputs": [
    {
     "data": {
      "text/plain": [
       "False"
      ]
     },
     "execution_count": 33,
     "metadata": {},
     "output_type": "execute_result"
    }
   ],
   "source": [
    "np.allclose(eigvecs, E)"
   ]
  },
  {
   "cell_type": "markdown",
   "metadata": {},
   "source": [
    "Let's take a look at the topleft corners."
   ]
  },
  {
   "cell_type": "code",
   "execution_count": 34,
   "metadata": {},
   "outputs": [
    {
     "data": {
      "text/plain": [
       "array([[ 0.12823076, -0.12522033,  0.04200415, -0.2117002 ,  0.13922945],\n",
       "       [ 0.13930787, -0.09322159, -0.19794139,  0.1359117 , -0.04624764],\n",
       "       [-0.23881671,  0.01603279,  0.0706665 ,  0.07640401, -0.06440901],\n",
       "       [-0.04584022,  0.04905365,  0.27516218, -0.1532583 ,  0.12172959],\n",
       "       [-0.31901507,  0.08675316,  0.2753377 , -0.03713511,  0.23694942]])"
      ]
     },
     "execution_count": 34,
     "metadata": {},
     "output_type": "execute_result"
    }
   ],
   "source": [
    "eigvecs[:5, :5]"
   ]
  },
  {
   "cell_type": "code",
   "execution_count": 35,
   "metadata": {},
   "outputs": [
    {
     "data": {
      "text/plain": [
       "array([[ 0.12823076, -0.12522033,  0.04200415, -0.2117002 , -0.13922945],\n",
       "       [ 0.13930787, -0.09322159, -0.19794139,  0.1359117 ,  0.04624764],\n",
       "       [-0.23881671,  0.01603279,  0.0706665 ,  0.07640401,  0.06440901],\n",
       "       [-0.04584022,  0.04905365,  0.27516218, -0.1532583 , -0.12172959],\n",
       "       [-0.31901507,  0.08675316,  0.2753377 , -0.03713511, -0.23694942]])"
      ]
     },
     "execution_count": 35,
     "metadata": {},
     "output_type": "execute_result"
    }
   ],
   "source": [
    "E[:5, :5]"
   ]
  },
  {
   "cell_type": "markdown",
   "metadata": {},
   "source": [
    "The first problem is some vectors differ in sign. Let's coerce the first row of both matrices to be positive."
   ]
  },
  {
   "cell_type": "code",
   "execution_count": 36,
   "metadata": {},
   "outputs": [],
   "source": [
    "eigvecs *= np.sign(eigvecs[np.newaxis, 0])\n",
    "E = E * np.sign(E[np.newaxis, 0])"
   ]
  },
  {
   "cell_type": "code",
   "execution_count": 37,
   "metadata": {},
   "outputs": [
    {
     "data": {
      "text/plain": [
       "False"
      ]
     },
     "execution_count": 37,
     "metadata": {},
     "output_type": "execute_result"
    }
   ],
   "source": [
    "np.allclose(eigvecs, E)"
   ]
  },
  {
   "cell_type": "markdown",
   "metadata": {},
   "source": [
    "The second problem is that eigenvectors corresponding to the very small eigenvalues may differ a lot."
   ]
  },
  {
   "cell_type": "code",
   "execution_count": 38,
   "metadata": {},
   "outputs": [
    {
     "data": {
      "text/plain": [
       "True"
      ]
     },
     "execution_count": 38,
     "metadata": {},
     "output_type": "execute_result"
    }
   ],
   "source": [
    "threshold = 1e-9\n",
    "abs_threshold = max(eigvals) * threshold\n",
    "np.allclose(eigvecs[:, eigvals > abs_threshold], E[:, D.squeeze() > abs_threshold])"
   ]
  },
  {
   "cell_type": "markdown",
   "metadata": {},
   "source": [
    "So, the results are equivalent. Let's check that both functions produce the same output if we ask them to remove eigenvalues below a given threshold."
   ]
  },
  {
   "cell_type": "code",
   "execution_count": 39,
   "metadata": {},
   "outputs": [],
   "source": [
    "matlab.set_variable(value=threshold, varname='threshold')\n",
    "matlab.run_code('[E, D] = nt_pcarot(c0, [], threshold);')\n",
    "E = matlab.get_variable('E')\n",
    "D = matlab.get_variable('D')\n",
    "eigvals, eigvecs = dss.covariance_pca(R0, threshold=threshold)"
   ]
  },
  {
   "cell_type": "code",
   "execution_count": 40,
   "metadata": {},
   "outputs": [
    {
     "data": {
      "text/plain": [
       "True"
      ]
     },
     "execution_count": 40,
     "metadata": {},
     "output_type": "execute_result"
    }
   ],
   "source": [
    "np.allclose(eigvals, D)"
   ]
  },
  {
   "cell_type": "code",
   "execution_count": 41,
   "metadata": {},
   "outputs": [
    {
     "data": {
      "text/plain": [
       "True"
      ]
     },
     "execution_count": 41,
     "metadata": {},
     "output_type": "execute_result"
    }
   ],
   "source": [
    "eigvecs *= np.sign(eigvecs[np.newaxis, 0])\n",
    "E = E * np.sign(E[np.newaxis, 0])\n",
    "np.allclose(eigvecs, E)"
   ]
  }
 ],
 "metadata": {
  "kernelspec": {
   "display_name": "Python [conda env:ding_vs_frank_and_yang]",
   "language": "python",
   "name": "conda-env-ding_vs_frank_and_yang-py"
  },
  "language_info": {
   "codemirror_mode": {
    "name": "ipython",
    "version": 3
   },
   "file_extension": ".py",
   "mimetype": "text/x-python",
   "name": "python",
   "nbconvert_exporter": "python",
   "pygments_lexer": "ipython3",
   "version": "3.7.0"
  },
  "toc": {
   "base_numbering": 1,
   "nav_menu": {},
   "number_sections": true,
   "sideBar": true,
   "skip_h1_title": false,
   "title_cell": "Table of Contents",
   "title_sidebar": "Contents",
   "toc_cell": false,
   "toc_position": {
    "height": "calc(100% - 180px)",
    "left": "10px",
    "top": "150px",
    "width": "269px"
   },
   "toc_section_display": true,
   "toc_window_display": true
  }
 },
 "nbformat": 4,
 "nbformat_minor": 2
}
