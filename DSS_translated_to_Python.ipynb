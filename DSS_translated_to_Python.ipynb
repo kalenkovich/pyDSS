{
 "cells": [
  {
   "cell_type": "markdown",
   "metadata": {},
   "source": [
    "This is a test of the translation of the DSS algorithm from Matlab to Python. The Matlab source is taken from `NoiseTools` package that can be found [here](http://audition.ens.fr/adc/NoiseTools/). \n",
    "\n",
    "The test consists of running an example from the `NoiseTools` in parallel in Matlab and Python and matching the results."
   ]
  },
  {
   "cell_type": "markdown",
   "metadata": {},
   "source": [
    "# Setup"
   ]
  },
  {
   "cell_type": "markdown",
   "metadata": {},
   "source": [
    "## Imports"
   ]
  },
  {
   "cell_type": "code",
   "execution_count": 1,
   "metadata": {},
   "outputs": [],
   "source": [
    "from pathlib import Path\n",
    "import inspect"
   ]
  },
  {
   "cell_type": "code",
   "execution_count": 2,
   "metadata": {},
   "outputs": [],
   "source": [
    "# Code highlightintg\n",
    "from pygments import highlight\n",
    "from pygments.lexers import MatlabLexer, PythonLexer\n",
    "from pygments.formatters import HtmlFormatter"
   ]
  },
  {
   "cell_type": "code",
   "execution_count": 3,
   "metadata": {},
   "outputs": [],
   "source": [
    "from IPython.core.display import HTML"
   ]
  },
  {
   "cell_type": "code",
   "execution_count": 4,
   "metadata": {},
   "outputs": [
    {
     "name": "stderr",
     "output_type": "stream",
     "text": [
      "D:\\Windows_software\\Miniconda3\\envs\\ding_vs_frank_and_yang\\lib\\site-packages\\IPython\\nbformat.py:13: ShimWarning: The `IPython.nbformat` package has been deprecated since IPython 4.0. You should import from nbformat instead.\n",
      "  \"You should import from nbformat instead.\", ShimWarning)\n"
     ]
    }
   ],
   "source": [
    "# This is a package that allows us to inerface with a Matlab process\n",
    "from pymatbridge import Matlab"
   ]
  },
  {
   "cell_type": "code",
   "execution_count": 5,
   "metadata": {},
   "outputs": [],
   "source": [
    "import numpy as np\n",
    "import scipy\n",
    "from matplotlib import pyplot as plt"
   ]
  },
  {
   "cell_type": "markdown",
   "metadata": {},
   "source": [
    "## Set up autoreloading of the Python code"
   ]
  },
  {
   "cell_type": "code",
   "execution_count": 6,
   "metadata": {},
   "outputs": [],
   "source": [
    "%load_ext autoreload\n",
    "%autoreload 1  # autoreload only the source loaded with %aimport\n",
    "%aimport dss"
   ]
  },
  {
   "cell_type": "markdown",
   "metadata": {},
   "source": [
    "## Paths"
   ]
  },
  {
   "cell_type": "markdown",
   "metadata": {},
   "source": [
    "Change this to wherever you unpacked `NoiseTools` to."
   ]
  },
  {
   "cell_type": "code",
   "execution_count": 7,
   "metadata": {},
   "outputs": [],
   "source": [
    "noise_tools_dir = Path('NoiseTools')"
   ]
  },
  {
   "cell_type": "code",
   "execution_count": 8,
   "metadata": {},
   "outputs": [],
   "source": [
    "noise_tools_examples_dir = noise_tools_dir / 'EXAMPLES' / 'a few old example scripts'\n",
    "example_1 = noise_tools_examples_dir / 'example1.m'"
   ]
  },
  {
   "cell_type": "markdown",
   "metadata": {},
   "source": [
    "## Printing code"
   ]
  },
  {
   "cell_type": "code",
   "execution_count": 9,
   "metadata": {},
   "outputs": [],
   "source": [
    "def print_highlighted_code(code, lexer):\n",
    "    display(HTML(highlight(code, lexer, HtmlFormatter(full=True, linenos='inline'))))\n",
    "    \n",
    "def print_matlab_code(code):\n",
    "    print_highlighted_code(code, MatlabLexer())\n",
    "    \n",
    "def print_python_code(code):\n",
    "    print_highlighted_code(code, PythonLexer())\n",
    "\n",
    "def print_matlab_script(path):\n",
    "    with open(path, 'r') as f:\n",
    "        code = f.read()\n",
    "    print_matlab_code(code)\n",
    "    \n",
    "def print_python_function(fun):\n",
    "    code = inspect.getsource(fun)\n",
    "    print_python_code(code)"
   ]
  },
  {
   "cell_type": "markdown",
   "metadata": {},
   "source": [
    "## Start Matlab"
   ]
  },
  {
   "cell_type": "code",
   "execution_count": 10,
   "metadata": {},
   "outputs": [
    {
     "name": "stdout",
     "output_type": "stream",
     "text": [
      "Starting MATLAB on ZMQ socket tcp://127.0.0.1:49538\n",
      "Send 'exit' command to kill the server\n",
      ".......MATLAB started and connected!\n"
     ]
    },
    {
     "data": {
      "text/plain": [
       "<pymatbridge.pymatbridge.Matlab at 0x7e13240>"
      ]
     },
     "execution_count": 10,
     "metadata": {},
     "output_type": "execute_result"
    }
   ],
   "source": [
    "matlab = Matlab()\n",
    "matlab.start()"
   ]
  },
  {
   "cell_type": "markdown",
   "metadata": {},
   "source": [
    "## Add `NoiseTools` to the Matlab's path"
   ]
  },
  {
   "cell_type": "code",
   "execution_count": 11,
   "metadata": {},
   "outputs": [
    {
     "data": {
      "text/plain": [
       "{'content': {'stdout': '',\n",
       "  'figures': [],\n",
       "  'datadir': 'C:\\\\Users\\\\Evgenii\\\\AppData\\\\Local\\\\Temp\\\\MatlabData\\\\'},\n",
       " 'result': [],\n",
       " 'success': True}"
      ]
     },
     "execution_count": 11,
     "metadata": {},
     "output_type": "execute_result"
    }
   ],
   "source": [
    "matlab.run_code('addpath(\\'{}\\')'.format(noise_tools_dir))"
   ]
  },
  {
   "cell_type": "markdown",
   "metadata": {},
   "source": [
    "# Simulate data"
   ]
  },
  {
   "cell_type": "markdown",
   "metadata": {},
   "source": [
    "Let's look at the example 1 code:"
   ]
  },
  {
   "cell_type": "code",
   "execution_count": 12,
   "metadata": {},
   "outputs": [
    {
     "data": {
      "text/html": [
       "<!DOCTYPE html PUBLIC \"-//W3C//DTD HTML 4.01//EN\"\n",
       "   \"http://www.w3.org/TR/html4/strict.dtd\">\n",
       "\n",
       "<html>\n",
       "<head>\n",
       "  <title></title>\n",
       "  <meta http-equiv=\"content-type\" content=\"text/html; charset=None\">\n",
       "  <style type=\"text/css\">\n",
       "td.linenos { background-color: #f0f0f0; padding-right: 10px; }\n",
       "span.lineno { background-color: #f0f0f0; padding: 0 5px 0 5px; }\n",
       "pre { line-height: 125%; }\n",
       "body .hll { background-color: #ffffcc }\n",
       "body  { background: #f8f8f8; }\n",
       "body .c { color: #408080; font-style: italic } /* Comment */\n",
       "body .err { border: 1px solid #FF0000 } /* Error */\n",
       "body .k { color: #008000; font-weight: bold } /* Keyword */\n",
       "body .o { color: #666666 } /* Operator */\n",
       "body .ch { color: #408080; font-style: italic } /* Comment.Hashbang */\n",
       "body .cm { color: #408080; font-style: italic } /* Comment.Multiline */\n",
       "body .cp { color: #BC7A00 } /* Comment.Preproc */\n",
       "body .cpf { color: #408080; font-style: italic } /* Comment.PreprocFile */\n",
       "body .c1 { color: #408080; font-style: italic } /* Comment.Single */\n",
       "body .cs { color: #408080; font-style: italic } /* Comment.Special */\n",
       "body .gd { color: #A00000 } /* Generic.Deleted */\n",
       "body .ge { font-style: italic } /* Generic.Emph */\n",
       "body .gr { color: #FF0000 } /* Generic.Error */\n",
       "body .gh { color: #000080; font-weight: bold } /* Generic.Heading */\n",
       "body .gi { color: #00A000 } /* Generic.Inserted */\n",
       "body .go { color: #888888 } /* Generic.Output */\n",
       "body .gp { color: #000080; font-weight: bold } /* Generic.Prompt */\n",
       "body .gs { font-weight: bold } /* Generic.Strong */\n",
       "body .gu { color: #800080; font-weight: bold } /* Generic.Subheading */\n",
       "body .gt { color: #0044DD } /* Generic.Traceback */\n",
       "body .kc { color: #008000; font-weight: bold } /* Keyword.Constant */\n",
       "body .kd { color: #008000; font-weight: bold } /* Keyword.Declaration */\n",
       "body .kn { color: #008000; font-weight: bold } /* Keyword.Namespace */\n",
       "body .kp { color: #008000 } /* Keyword.Pseudo */\n",
       "body .kr { color: #008000; font-weight: bold } /* Keyword.Reserved */\n",
       "body .kt { color: #B00040 } /* Keyword.Type */\n",
       "body .m { color: #666666 } /* Literal.Number */\n",
       "body .s { color: #BA2121 } /* Literal.String */\n",
       "body .na { color: #7D9029 } /* Name.Attribute */\n",
       "body .nb { color: #008000 } /* Name.Builtin */\n",
       "body .nc { color: #0000FF; font-weight: bold } /* Name.Class */\n",
       "body .no { color: #880000 } /* Name.Constant */\n",
       "body .nd { color: #AA22FF } /* Name.Decorator */\n",
       "body .ni { color: #999999; font-weight: bold } /* Name.Entity */\n",
       "body .ne { color: #D2413A; font-weight: bold } /* Name.Exception */\n",
       "body .nf { color: #0000FF } /* Name.Function */\n",
       "body .nl { color: #A0A000 } /* Name.Label */\n",
       "body .nn { color: #0000FF; font-weight: bold } /* Name.Namespace */\n",
       "body .nt { color: #008000; font-weight: bold } /* Name.Tag */\n",
       "body .nv { color: #19177C } /* Name.Variable */\n",
       "body .ow { color: #AA22FF; font-weight: bold } /* Operator.Word */\n",
       "body .w { color: #bbbbbb } /* Text.Whitespace */\n",
       "body .mb { color: #666666 } /* Literal.Number.Bin */\n",
       "body .mf { color: #666666 } /* Literal.Number.Float */\n",
       "body .mh { color: #666666 } /* Literal.Number.Hex */\n",
       "body .mi { color: #666666 } /* Literal.Number.Integer */\n",
       "body .mo { color: #666666 } /* Literal.Number.Oct */\n",
       "body .sa { color: #BA2121 } /* Literal.String.Affix */\n",
       "body .sb { color: #BA2121 } /* Literal.String.Backtick */\n",
       "body .sc { color: #BA2121 } /* Literal.String.Char */\n",
       "body .dl { color: #BA2121 } /* Literal.String.Delimiter */\n",
       "body .sd { color: #BA2121; font-style: italic } /* Literal.String.Doc */\n",
       "body .s2 { color: #BA2121 } /* Literal.String.Double */\n",
       "body .se { color: #BB6622; font-weight: bold } /* Literal.String.Escape */\n",
       "body .sh { color: #BA2121 } /* Literal.String.Heredoc */\n",
       "body .si { color: #BB6688; font-weight: bold } /* Literal.String.Interpol */\n",
       "body .sx { color: #008000 } /* Literal.String.Other */\n",
       "body .sr { color: #BB6688 } /* Literal.String.Regex */\n",
       "body .s1 { color: #BA2121 } /* Literal.String.Single */\n",
       "body .ss { color: #19177C } /* Literal.String.Symbol */\n",
       "body .bp { color: #008000 } /* Name.Builtin.Pseudo */\n",
       "body .fm { color: #0000FF } /* Name.Function.Magic */\n",
       "body .vc { color: #19177C } /* Name.Variable.Class */\n",
       "body .vg { color: #19177C } /* Name.Variable.Global */\n",
       "body .vi { color: #19177C } /* Name.Variable.Instance */\n",
       "body .vm { color: #19177C } /* Name.Variable.Magic */\n",
       "body .il { color: #666666 } /* Literal.Number.Integer.Long */\n",
       "\n",
       "  </style>\n",
       "</head>\n",
       "<body>\n",
       "<h2></h2>\n",
       "\n",
       "<div class=\"highlight\"><pre><span></span><span class=\"lineno\"> 1 </span><span class=\"c\">% Find the linear combinations of multichannel data that</span>\n",
       "<span class=\"lineno\"> 2 </span><span class=\"c\">% maximize repeatability over trials.  Data are time*channel*trials.</span>\n",
       "<span class=\"lineno\"> 3 </span><span class=\"c\">%</span>\n",
       "<span class=\"lineno\"> 4 </span><span class=\"c\">% Uses nt_dss0().</span>\n",
       "<span class=\"lineno\"> 5 </span>\n",
       "<span class=\"lineno\"> 6 </span><span class=\"n\">clear</span><span class=\"p\">;</span>\n",
       "<span class=\"lineno\"> 7 </span><span class=\"nb\">disp</span><span class=\"p\">(</span><span class=\"n\">mfilename</span><span class=\"p\">);</span>\n",
       "<span class=\"lineno\"> 8 </span><span class=\"n\">help</span><span class=\"p\">(</span><span class=\"n\">mfilename</span><span class=\"p\">)</span>\n",
       "<span class=\"lineno\"> 9 </span>\n",
       "<span class=\"lineno\">10 </span><span class=\"c\">% create synthetic data</span>\n",
       "<span class=\"lineno\">11 </span><span class=\"n\">nsamples</span><span class=\"p\">=</span><span class=\"mi\">100</span><span class=\"o\">*</span><span class=\"mi\">3</span><span class=\"p\">;</span>\n",
       "<span class=\"lineno\">12 </span><span class=\"n\">nchans</span><span class=\"p\">=</span><span class=\"mi\">30</span><span class=\"p\">;</span>\n",
       "<span class=\"lineno\">13 </span><span class=\"n\">ntrials</span><span class=\"p\">=</span><span class=\"mi\">100</span><span class=\"p\">;</span>\n",
       "<span class=\"lineno\">14 </span><span class=\"n\">noise_dim</span><span class=\"p\">=</span><span class=\"mi\">20</span><span class=\"p\">;</span> <span class=\"c\">% dimensionality of noise</span>\n",
       "<span class=\"lineno\">15 </span><span class=\"n\">source</span><span class=\"p\">=[</span><span class=\"nb\">zeros</span><span class=\"p\">(</span><span class=\"n\">nsamples</span><span class=\"o\">/</span><span class=\"mi\">3</span><span class=\"p\">,</span><span class=\"mi\">1</span><span class=\"p\">);</span><span class=\"nb\">sin</span><span class=\"p\">(</span><span class=\"mi\">2</span><span class=\"o\">*</span><span class=\"nb\">pi</span><span class=\"o\">*</span><span class=\"p\">(</span><span class=\"mi\">1</span><span class=\"p\">:</span><span class=\"n\">nsamples</span><span class=\"o\">/</span><span class=\"mi\">3</span><span class=\"p\">)</span><span class=\"o\">/</span><span class=\"p\">(</span><span class=\"n\">nsamples</span><span class=\"o\">/</span><span class=\"mi\">3</span><span class=\"p\">))</span><span class=\"o\">&#39;</span><span class=\"p\">;</span><span class=\"nb\">zeros</span><span class=\"p\">(</span><span class=\"n\">nsamples</span><span class=\"o\">/</span><span class=\"mi\">3</span><span class=\"p\">,</span><span class=\"mi\">1</span><span class=\"p\">)];</span> \n",
       "<span class=\"lineno\">16 </span><span class=\"n\">s</span><span class=\"p\">=</span><span class=\"n\">source</span><span class=\"o\">*</span><span class=\"nb\">randn</span><span class=\"p\">(</span><span class=\"mi\">1</span><span class=\"p\">,</span><span class=\"n\">nchans</span><span class=\"p\">);</span>\n",
       "<span class=\"lineno\">17 </span><span class=\"n\">s</span><span class=\"p\">=</span><span class=\"nb\">repmat</span><span class=\"p\">(</span><span class=\"n\">s</span><span class=\"p\">,[</span><span class=\"mi\">1</span><span class=\"p\">,</span><span class=\"mi\">1</span><span class=\"p\">,</span><span class=\"mi\">100</span><span class=\"p\">]);</span> <span class=\"c\">% evoked</span>\n",
       "<span class=\"lineno\">18 </span><span class=\"n\">SNR</span><span class=\"p\">=</span><span class=\"mf\">0.1</span><span class=\"p\">;</span>\n",
       "<span class=\"lineno\">19 </span><span class=\"n\">noise</span><span class=\"p\">=</span><span class=\"n\">nt_mmat</span><span class=\"p\">(</span><span class=\"nb\">randn</span><span class=\"p\">(</span><span class=\"n\">nsamples</span><span class=\"p\">,</span><span class=\"n\">noise_dim</span><span class=\"p\">,</span><span class=\"n\">ntrials</span><span class=\"p\">),</span> <span class=\"nb\">randn</span><span class=\"p\">(</span><span class=\"n\">noise_dim</span><span class=\"p\">,</span><span class=\"n\">nchans</span><span class=\"p\">));</span>\n",
       "<span class=\"lineno\">20 </span><span class=\"n\">data</span><span class=\"p\">=</span><span class=\"n\">noise</span><span class=\"o\">/</span><span class=\"n\">rms</span><span class=\"p\">(</span><span class=\"n\">noise</span><span class=\"p\">(:))</span><span class=\"o\">+</span><span class=\"n\">SNR</span><span class=\"o\">*</span><span class=\"n\">s</span><span class=\"o\">/</span><span class=\"n\">nt_rms</span><span class=\"p\">(</span><span class=\"n\">s</span><span class=\"p\">(:));</span>\n",
       "<span class=\"lineno\">21 </span>\n",
       "<span class=\"lineno\">22 </span><span class=\"c\">% apply DSS to clean them</span>\n",
       "<span class=\"lineno\">23 </span><span class=\"n\">c0</span><span class=\"p\">=</span><span class=\"n\">nt_cov</span><span class=\"p\">(</span><span class=\"n\">data</span><span class=\"p\">);</span>\n",
       "<span class=\"lineno\">24 </span><span class=\"n\">c1</span><span class=\"p\">=</span><span class=\"n\">nt_cov</span><span class=\"p\">(</span><span class=\"n\">mean</span><span class=\"p\">(</span><span class=\"n\">data</span><span class=\"p\">,</span><span class=\"mi\">3</span><span class=\"p\">));</span>\n",
       "<span class=\"lineno\">25 </span><span class=\"p\">[</span><span class=\"n\">todss</span><span class=\"p\">,</span><span class=\"n\">pwr0</span><span class=\"p\">,</span><span class=\"n\">pwr1</span><span class=\"p\">]=</span><span class=\"n\">nt_dss0</span><span class=\"p\">(</span><span class=\"n\">c0</span><span class=\"p\">,</span><span class=\"n\">c1</span><span class=\"p\">);</span>\n",
       "<span class=\"lineno\">26 </span><span class=\"n\">z</span><span class=\"p\">=</span><span class=\"n\">nt_mmat</span><span class=\"p\">(</span><span class=\"n\">data</span><span class=\"p\">,</span><span class=\"n\">todss</span><span class=\"p\">);</span>\n",
       "<span class=\"lineno\">27 </span>\n",
       "<span class=\"lineno\">28 </span>\n",
       "<span class=\"lineno\">29 </span><span class=\"c\">% plot results</span>\n",
       "<span class=\"lineno\">30 </span><span class=\"n\">figure</span><span class=\"p\">(</span><span class=\"mi\">1</span><span class=\"p\">);</span> <span class=\"n\">clf</span>\n",
       "<span class=\"lineno\">31 </span><span class=\"n\">subplot</span> <span class=\"mi\">131</span><span class=\"p\">;</span> \n",
       "<span class=\"lineno\">32 </span><span class=\"n\">plot</span><span class=\"p\">(</span><span class=\"n\">source</span><span class=\"p\">);</span> <span class=\"n\">title</span><span class=\"p\">(</span><span class=\"s\">&#39;source&#39;</span><span class=\"p\">);</span> \n",
       "<span class=\"lineno\">33 </span><span class=\"n\">subplot</span> <span class=\"mi\">132</span><span class=\"p\">;</span>\n",
       "<span class=\"lineno\">34 </span><span class=\"n\">plot</span><span class=\"p\">(</span><span class=\"n\">mean</span><span class=\"p\">(</span><span class=\"n\">data</span><span class=\"p\">,</span><span class=\"mi\">3</span><span class=\"p\">));</span> <span class=\"n\">title</span><span class=\"p\">(</span><span class=\"s\">&#39;data&#39;</span><span class=\"p\">);</span>\n",
       "<span class=\"lineno\">35 </span><span class=\"n\">subplot</span> <span class=\"mi\">133</span><span class=\"p\">;</span>\n",
       "<span class=\"lineno\">36 </span><span class=\"n\">nt_bsplot</span><span class=\"p\">(</span><span class=\"n\">z</span><span class=\"p\">(:,</span><span class=\"mi\">1</span><span class=\"p\">,:));</span> <span class=\"n\">title</span><span class=\"p\">(</span><span class=\"s\">&#39;recovered&#39;</span><span class=\"p\">);</span> \n",
       "</pre></div>\n",
       "</body>\n",
       "</html>\n"
      ],
      "text/plain": [
       "<IPython.core.display.HTML object>"
      ]
     },
     "metadata": {},
     "output_type": "display_data"
    }
   ],
   "source": [
    "print_matlab_script(example_1)"
   ]
  },
  {
   "cell_type": "markdown",
   "metadata": {},
   "source": [
    "Let's create synthetic data in Matlab and transfer it here."
   ]
  },
  {
   "cell_type": "code",
   "execution_count": 13,
   "metadata": {},
   "outputs": [
    {
     "data": {
      "text/html": [
       "<!DOCTYPE html PUBLIC \"-//W3C//DTD HTML 4.01//EN\"\n",
       "   \"http://www.w3.org/TR/html4/strict.dtd\">\n",
       "\n",
       "<html>\n",
       "<head>\n",
       "  <title></title>\n",
       "  <meta http-equiv=\"content-type\" content=\"text/html; charset=None\">\n",
       "  <style type=\"text/css\">\n",
       "td.linenos { background-color: #f0f0f0; padding-right: 10px; }\n",
       "span.lineno { background-color: #f0f0f0; padding: 0 5px 0 5px; }\n",
       "pre { line-height: 125%; }\n",
       "body .hll { background-color: #ffffcc }\n",
       "body  { background: #f8f8f8; }\n",
       "body .c { color: #408080; font-style: italic } /* Comment */\n",
       "body .err { border: 1px solid #FF0000 } /* Error */\n",
       "body .k { color: #008000; font-weight: bold } /* Keyword */\n",
       "body .o { color: #666666 } /* Operator */\n",
       "body .ch { color: #408080; font-style: italic } /* Comment.Hashbang */\n",
       "body .cm { color: #408080; font-style: italic } /* Comment.Multiline */\n",
       "body .cp { color: #BC7A00 } /* Comment.Preproc */\n",
       "body .cpf { color: #408080; font-style: italic } /* Comment.PreprocFile */\n",
       "body .c1 { color: #408080; font-style: italic } /* Comment.Single */\n",
       "body .cs { color: #408080; font-style: italic } /* Comment.Special */\n",
       "body .gd { color: #A00000 } /* Generic.Deleted */\n",
       "body .ge { font-style: italic } /* Generic.Emph */\n",
       "body .gr { color: #FF0000 } /* Generic.Error */\n",
       "body .gh { color: #000080; font-weight: bold } /* Generic.Heading */\n",
       "body .gi { color: #00A000 } /* Generic.Inserted */\n",
       "body .go { color: #888888 } /* Generic.Output */\n",
       "body .gp { color: #000080; font-weight: bold } /* Generic.Prompt */\n",
       "body .gs { font-weight: bold } /* Generic.Strong */\n",
       "body .gu { color: #800080; font-weight: bold } /* Generic.Subheading */\n",
       "body .gt { color: #0044DD } /* Generic.Traceback */\n",
       "body .kc { color: #008000; font-weight: bold } /* Keyword.Constant */\n",
       "body .kd { color: #008000; font-weight: bold } /* Keyword.Declaration */\n",
       "body .kn { color: #008000; font-weight: bold } /* Keyword.Namespace */\n",
       "body .kp { color: #008000 } /* Keyword.Pseudo */\n",
       "body .kr { color: #008000; font-weight: bold } /* Keyword.Reserved */\n",
       "body .kt { color: #B00040 } /* Keyword.Type */\n",
       "body .m { color: #666666 } /* Literal.Number */\n",
       "body .s { color: #BA2121 } /* Literal.String */\n",
       "body .na { color: #7D9029 } /* Name.Attribute */\n",
       "body .nb { color: #008000 } /* Name.Builtin */\n",
       "body .nc { color: #0000FF; font-weight: bold } /* Name.Class */\n",
       "body .no { color: #880000 } /* Name.Constant */\n",
       "body .nd { color: #AA22FF } /* Name.Decorator */\n",
       "body .ni { color: #999999; font-weight: bold } /* Name.Entity */\n",
       "body .ne { color: #D2413A; font-weight: bold } /* Name.Exception */\n",
       "body .nf { color: #0000FF } /* Name.Function */\n",
       "body .nl { color: #A0A000 } /* Name.Label */\n",
       "body .nn { color: #0000FF; font-weight: bold } /* Name.Namespace */\n",
       "body .nt { color: #008000; font-weight: bold } /* Name.Tag */\n",
       "body .nv { color: #19177C } /* Name.Variable */\n",
       "body .ow { color: #AA22FF; font-weight: bold } /* Operator.Word */\n",
       "body .w { color: #bbbbbb } /* Text.Whitespace */\n",
       "body .mb { color: #666666 } /* Literal.Number.Bin */\n",
       "body .mf { color: #666666 } /* Literal.Number.Float */\n",
       "body .mh { color: #666666 } /* Literal.Number.Hex */\n",
       "body .mi { color: #666666 } /* Literal.Number.Integer */\n",
       "body .mo { color: #666666 } /* Literal.Number.Oct */\n",
       "body .sa { color: #BA2121 } /* Literal.String.Affix */\n",
       "body .sb { color: #BA2121 } /* Literal.String.Backtick */\n",
       "body .sc { color: #BA2121 } /* Literal.String.Char */\n",
       "body .dl { color: #BA2121 } /* Literal.String.Delimiter */\n",
       "body .sd { color: #BA2121; font-style: italic } /* Literal.String.Doc */\n",
       "body .s2 { color: #BA2121 } /* Literal.String.Double */\n",
       "body .se { color: #BB6622; font-weight: bold } /* Literal.String.Escape */\n",
       "body .sh { color: #BA2121 } /* Literal.String.Heredoc */\n",
       "body .si { color: #BB6688; font-weight: bold } /* Literal.String.Interpol */\n",
       "body .sx { color: #008000 } /* Literal.String.Other */\n",
       "body .sr { color: #BB6688 } /* Literal.String.Regex */\n",
       "body .s1 { color: #BA2121 } /* Literal.String.Single */\n",
       "body .ss { color: #19177C } /* Literal.String.Symbol */\n",
       "body .bp { color: #008000 } /* Name.Builtin.Pseudo */\n",
       "body .fm { color: #0000FF } /* Name.Function.Magic */\n",
       "body .vc { color: #19177C } /* Name.Variable.Class */\n",
       "body .vg { color: #19177C } /* Name.Variable.Global */\n",
       "body .vi { color: #19177C } /* Name.Variable.Instance */\n",
       "body .vm { color: #19177C } /* Name.Variable.Magic */\n",
       "body .il { color: #666666 } /* Literal.Number.Integer.Long */\n",
       "\n",
       "  </style>\n",
       "</head>\n",
       "<body>\n",
       "<h2></h2>\n",
       "\n",
       "<div class=\"highlight\"><pre><span></span><span class=\"lineno\"> 1 </span><span class=\"c\">% create synthetic data</span>\n",
       "<span class=\"lineno\"> 2 </span><span class=\"n\">nsamples</span><span class=\"p\">=</span><span class=\"mi\">100</span><span class=\"o\">*</span><span class=\"mi\">3</span><span class=\"p\">;</span>\n",
       "<span class=\"lineno\"> 3 </span><span class=\"n\">nchans</span><span class=\"p\">=</span><span class=\"mi\">30</span><span class=\"p\">;</span>\n",
       "<span class=\"lineno\"> 4 </span><span class=\"n\">ntrials</span><span class=\"p\">=</span><span class=\"mi\">100</span><span class=\"p\">;</span>\n",
       "<span class=\"lineno\"> 5 </span><span class=\"n\">noise_dim</span><span class=\"p\">=</span><span class=\"mi\">20</span><span class=\"p\">;</span> <span class=\"c\">% dimensionality of noise</span>\n",
       "<span class=\"lineno\"> 6 </span><span class=\"n\">source</span><span class=\"p\">=[</span><span class=\"nb\">zeros</span><span class=\"p\">(</span><span class=\"n\">nsamples</span><span class=\"o\">/</span><span class=\"mi\">3</span><span class=\"p\">,</span><span class=\"mi\">1</span><span class=\"p\">);</span><span class=\"nb\">sin</span><span class=\"p\">(</span><span class=\"mi\">2</span><span class=\"o\">*</span><span class=\"nb\">pi</span><span class=\"o\">*</span><span class=\"p\">(</span><span class=\"mi\">1</span><span class=\"p\">:</span><span class=\"n\">nsamples</span><span class=\"o\">/</span><span class=\"mi\">3</span><span class=\"p\">)</span><span class=\"o\">/</span><span class=\"p\">(</span><span class=\"n\">nsamples</span><span class=\"o\">/</span><span class=\"mi\">3</span><span class=\"p\">))</span><span class=\"o\">&#39;</span><span class=\"p\">;</span><span class=\"nb\">zeros</span><span class=\"p\">(</span><span class=\"n\">nsamples</span><span class=\"o\">/</span><span class=\"mi\">3</span><span class=\"p\">,</span><span class=\"mi\">1</span><span class=\"p\">)];</span> \n",
       "<span class=\"lineno\"> 7 </span><span class=\"n\">s</span><span class=\"p\">=</span><span class=\"n\">source</span><span class=\"o\">*</span><span class=\"nb\">randn</span><span class=\"p\">(</span><span class=\"mi\">1</span><span class=\"p\">,</span><span class=\"n\">nchans</span><span class=\"p\">);</span>\n",
       "<span class=\"lineno\"> 8 </span><span class=\"n\">s</span><span class=\"p\">=</span><span class=\"nb\">repmat</span><span class=\"p\">(</span><span class=\"n\">s</span><span class=\"p\">,[</span><span class=\"mi\">1</span><span class=\"p\">,</span><span class=\"mi\">1</span><span class=\"p\">,</span><span class=\"mi\">100</span><span class=\"p\">]);</span> <span class=\"c\">% evoked</span>\n",
       "<span class=\"lineno\"> 9 </span><span class=\"n\">SNR</span><span class=\"p\">=</span><span class=\"mf\">0.1</span><span class=\"p\">;</span>\n",
       "<span class=\"lineno\">10 </span><span class=\"n\">noise</span><span class=\"p\">=</span><span class=\"n\">nt_mmat</span><span class=\"p\">(</span><span class=\"nb\">randn</span><span class=\"p\">(</span><span class=\"n\">nsamples</span><span class=\"p\">,</span><span class=\"n\">noise_dim</span><span class=\"p\">,</span><span class=\"n\">ntrials</span><span class=\"p\">),</span> <span class=\"nb\">randn</span><span class=\"p\">(</span><span class=\"n\">noise_dim</span><span class=\"p\">,</span><span class=\"n\">nchans</span><span class=\"p\">));</span>\n",
       "<span class=\"lineno\">11 </span><span class=\"n\">data</span><span class=\"p\">=</span><span class=\"n\">noise</span><span class=\"o\">/</span><span class=\"n\">rms</span><span class=\"p\">(</span><span class=\"n\">noise</span><span class=\"p\">(:))</span><span class=\"o\">+</span><span class=\"n\">SNR</span><span class=\"o\">*</span><span class=\"n\">s</span><span class=\"o\">/</span><span class=\"n\">nt_rms</span><span class=\"p\">(</span><span class=\"n\">s</span><span class=\"p\">(:));</span>\n",
       "</pre></div>\n",
       "</body>\n",
       "</html>\n"
      ],
      "text/plain": [
       "<IPython.core.display.HTML object>"
      ]
     },
     "metadata": {},
     "output_type": "display_data"
    }
   ],
   "source": [
    "example_1_code = open(example_1, 'r').readlines()\n",
    "synthethize_data_code = ''.join(example_1_code[9:21])\n",
    "print_matlab_code(synthethize_data_code)"
   ]
  },
  {
   "cell_type": "code",
   "execution_count": 14,
   "metadata": {},
   "outputs": [
    {
     "name": "stdout",
     "output_type": "stream",
     "text": [
      "(300, 30, 100)\n"
     ]
    }
   ],
   "source": [
    "matlab.run_code(synthethize_data_code)\n",
    "data = matlab.get_variable('data')\n",
    "print(data.shape)"
   ]
  },
  {
   "cell_type": "markdown",
   "metadata": {},
   "source": [
    "That is 300 time points, 30 channels and 100 trials."
   ]
  }
 ],
 "metadata": {
  "kernelspec": {
   "display_name": "Python [conda env:ding_vs_frank_and_yang]",
   "language": "python",
   "name": "conda-env-ding_vs_frank_and_yang-py"
  },
  "language_info": {
   "codemirror_mode": {
    "name": "ipython",
    "version": 3
   },
   "file_extension": ".py",
   "mimetype": "text/x-python",
   "name": "python",
   "nbconvert_exporter": "python",
   "pygments_lexer": "ipython3",
   "version": "3.7.0"
  },
  "toc": {
   "base_numbering": 1,
   "nav_menu": {},
   "number_sections": true,
   "sideBar": true,
   "skip_h1_title": false,
   "title_cell": "Table of Contents",
   "title_sidebar": "Contents",
   "toc_cell": false,
   "toc_position": {
    "height": "calc(100% - 180px)",
    "left": "10px",
    "top": "150px",
    "width": "269px"
   },
   "toc_section_display": true,
   "toc_window_display": true
  }
 },
 "nbformat": 4,
 "nbformat_minor": 2
}
